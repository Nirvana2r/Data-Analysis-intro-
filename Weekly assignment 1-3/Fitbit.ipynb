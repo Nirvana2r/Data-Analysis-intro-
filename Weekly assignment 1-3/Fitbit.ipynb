{
 "cells": [
  {
   "cell_type": "markdown",
   "id": "1b09b915",
   "metadata": {},
   "source": [
    "# Weekly Asignement\n",
    "\n",
    "## Introduction\n",
    "For a study (Links to an external site.) in France, over 900 volunteers received a Fitbit Zip (a clip-on activity tracker) and recorded their daily steps, distance and calories.\n",
    "\n",
    "The data were simulated from the actual data to conform to the GDPR law.\n",
    "\n",
    "## Data cleaning"
   ]
  },
  {
   "cell_type": "code",
   "execution_count": 145,
   "id": "3e4ed04e",
   "metadata": {},
   "outputs": [
    {
     "data": {
      "text/html": [
       "<div>\n",
       "<style scoped>\n",
       "    .dataframe tbody tr th:only-of-type {\n",
       "        vertical-align: middle;\n",
       "    }\n",
       "\n",
       "    .dataframe tbody tr th {\n",
       "        vertical-align: top;\n",
       "    }\n",
       "\n",
       "    .dataframe thead th {\n",
       "        text-align: right;\n",
       "    }\n",
       "</style>\n",
       "<table border=\"1\" class=\"dataframe\">\n",
       "  <thead>\n",
       "    <tr style=\"text-align: right;\">\n",
       "      <th></th>\n",
       "      <th>id</th>\n",
       "      <th>20-6-2013</th>\n",
       "      <th>21-6-2013</th>\n",
       "      <th>22-6-2013</th>\n",
       "      <th>23-6-2013</th>\n",
       "      <th>24-6-2013</th>\n",
       "      <th>25-6-2013</th>\n",
       "      <th>26-6-2013</th>\n",
       "      <th>27-6-2013</th>\n",
       "      <th>28-6-2013</th>\n",
       "      <th>...</th>\n",
       "      <th>12-5-2014</th>\n",
       "      <th>13-5-2014</th>\n",
       "      <th>city</th>\n",
       "      <th>gender</th>\n",
       "      <th>age</th>\n",
       "      <th>hh_size</th>\n",
       "      <th>education</th>\n",
       "      <th>education_1</th>\n",
       "      <th>height</th>\n",
       "      <th>weight</th>\n",
       "    </tr>\n",
       "  </thead>\n",
       "  <tbody>\n",
       "    <tr>\n",
       "      <th>0</th>\n",
       "      <td>1</td>\n",
       "      <td>NaN</td>\n",
       "      <td>NaN</td>\n",
       "      <td>NaN</td>\n",
       "      <td>NaN</td>\n",
       "      <td>3941.0</td>\n",
       "      <td>15733.0</td>\n",
       "      <td>9929.0</td>\n",
       "      <td>12879.0</td>\n",
       "      <td>10541.0</td>\n",
       "      <td>...</td>\n",
       "      <td>NaN</td>\n",
       "      <td>NaN</td>\n",
       "      <td>Bordeaux</td>\n",
       "      <td>Male</td>\n",
       "      <td>25-34</td>\n",
       "      <td>4</td>\n",
       "      <td>4</td>\n",
       "      <td>Master or doctorate</td>\n",
       "      <td>178.0</td>\n",
       "      <td>98.0</td>\n",
       "    </tr>\n",
       "    <tr>\n",
       "      <th>1</th>\n",
       "      <td>2</td>\n",
       "      <td>NaN</td>\n",
       "      <td>NaN</td>\n",
       "      <td>10473.0</td>\n",
       "      <td>705.0</td>\n",
       "      <td>4287.0</td>\n",
       "      <td>5507.0</td>\n",
       "      <td>4024.0</td>\n",
       "      <td>3926.0</td>\n",
       "      <td>14595.0</td>\n",
       "      <td>...</td>\n",
       "      <td>NaN</td>\n",
       "      <td>NaN</td>\n",
       "      <td>Lille</td>\n",
       "      <td>Male</td>\n",
       "      <td>35-44</td>\n",
       "      <td>1</td>\n",
       "      <td>3</td>\n",
       "      <td>Bachelor</td>\n",
       "      <td>180.0</td>\n",
       "      <td>77.0</td>\n",
       "    </tr>\n",
       "    <tr>\n",
       "      <th>2</th>\n",
       "      <td>3</td>\n",
       "      <td>NaN</td>\n",
       "      <td>11428.0</td>\n",
       "      <td>12523.0</td>\n",
       "      <td>2553.0</td>\n",
       "      <td>190.0</td>\n",
       "      <td>2164.0</td>\n",
       "      <td>8185.0</td>\n",
       "      <td>9630.0</td>\n",
       "      <td>8983.0</td>\n",
       "      <td>...</td>\n",
       "      <td>1129.0</td>\n",
       "      <td>NaN</td>\n",
       "      <td>Montpellier</td>\n",
       "      <td>Male</td>\n",
       "      <td>25-34</td>\n",
       "      <td>2</td>\n",
       "      <td>2</td>\n",
       "      <td>Master or doctorate</td>\n",
       "      <td>180.0</td>\n",
       "      <td>83.0</td>\n",
       "    </tr>\n",
       "    <tr>\n",
       "      <th>3</th>\n",
       "      <td>4</td>\n",
       "      <td>NaN</td>\n",
       "      <td>NaN</td>\n",
       "      <td>NaN</td>\n",
       "      <td>NaN</td>\n",
       "      <td>NaN</td>\n",
       "      <td>NaN</td>\n",
       "      <td>NaN</td>\n",
       "      <td>NaN</td>\n",
       "      <td>NaN</td>\n",
       "      <td>...</td>\n",
       "      <td>NaN</td>\n",
       "      <td>NaN</td>\n",
       "      <td>Lyon</td>\n",
       "      <td>Male</td>\n",
       "      <td>&lt;25</td>\n",
       "      <td>1</td>\n",
       "      <td>1</td>\n",
       "      <td>Bachelor</td>\n",
       "      <td>178.0</td>\n",
       "      <td>80.0</td>\n",
       "    </tr>\n",
       "    <tr>\n",
       "      <th>4</th>\n",
       "      <td>5</td>\n",
       "      <td>NaN</td>\n",
       "      <td>NaN</td>\n",
       "      <td>NaN</td>\n",
       "      <td>NaN</td>\n",
       "      <td>NaN</td>\n",
       "      <td>NaN</td>\n",
       "      <td>NaN</td>\n",
       "      <td>NaN</td>\n",
       "      <td>NaN</td>\n",
       "      <td>...</td>\n",
       "      <td>NaN</td>\n",
       "      <td>NaN</td>\n",
       "      <td>Montpellier</td>\n",
       "      <td>Female</td>\n",
       "      <td>25-34</td>\n",
       "      <td>3</td>\n",
       "      <td>4</td>\n",
       "      <td>Bachelor</td>\n",
       "      <td>167.0</td>\n",
       "      <td>61.0</td>\n",
       "    </tr>\n",
       "  </tbody>\n",
       "</table>\n",
       "<p>5 rows × 337 columns</p>\n",
       "</div>"
      ],
      "text/plain": [
       "   id  20-6-2013  21-6-2013  22-6-2013  23-6-2013  24-6-2013  25-6-2013  \\\n",
       "0   1        NaN        NaN        NaN        NaN     3941.0    15733.0   \n",
       "1   2        NaN        NaN    10473.0      705.0     4287.0     5507.0   \n",
       "2   3        NaN    11428.0    12523.0     2553.0      190.0     2164.0   \n",
       "3   4        NaN        NaN        NaN        NaN        NaN        NaN   \n",
       "4   5        NaN        NaN        NaN        NaN        NaN        NaN   \n",
       "\n",
       "   26-6-2013  27-6-2013  28-6-2013  ...  12-5-2014  13-5-2014         city  \\\n",
       "0     9929.0    12879.0    10541.0  ...        NaN        NaN     Bordeaux   \n",
       "1     4024.0     3926.0    14595.0  ...        NaN        NaN        Lille   \n",
       "2     8185.0     9630.0     8983.0  ...     1129.0        NaN  Montpellier   \n",
       "3        NaN        NaN        NaN  ...        NaN        NaN         Lyon   \n",
       "4        NaN        NaN        NaN  ...        NaN        NaN  Montpellier   \n",
       "\n",
       "   gender    age  hh_size  education          education_1  height  weight  \n",
       "0    Male  25-34        4          4  Master or doctorate   178.0    98.0  \n",
       "1    Male  35-44        1          3             Bachelor   180.0    77.0  \n",
       "2    Male  25-34        2          2  Master or doctorate   180.0    83.0  \n",
       "3    Male    <25        1          1             Bachelor   178.0    80.0  \n",
       "4  Female  25-34        3          4             Bachelor   167.0    61.0  \n",
       "\n",
       "[5 rows x 337 columns]"
      ]
     },
     "execution_count": 145,
     "metadata": {},
     "output_type": "execute_result"
    }
   ],
   "source": [
    "import seaborn as sns #this is the plotting library I'll be using \n",
    "import pandas as pd #\"as pd\" means that we can use the abbreviation in commands\n",
    "import matplotlib.pyplot as plt #we need Matplotlib for setting the labels in the Seaborn graphs\n",
    "import plotly.express as px\n",
    "from sklearn.linear_model import LinearRegression\n",
    "from sklearn.model_selection import train_test_split\n",
    "from sklearn.metrics import mean_squared_error\n",
    "from sklearn.metrics import r2_score\n",
    "import math\n",
    "# Read  and merge\n",
    "\n",
    "df1 = pd.read_csv('steps.csv', sep = ';')\n",
    "df2 = pd.read_csv('survey.csv')\n",
    "df = pd.merge(df1, df2, on = 'id') #'app' is the common identifier\n",
    "df.head()\n",
    "\n"
   ]
  },
  {
   "cell_type": "code",
   "execution_count": 111,
   "id": "f59e8745",
   "metadata": {},
   "outputs": [
    {
     "data": {
      "text/plain": [
       "72.0     40\n",
       "65.0     35\n",
       "73.0     32\n",
       "80.0     31\n",
       "55.0     31\n",
       "         ..\n",
       "116.0     1\n",
       "128.0     1\n",
       "115.0     1\n",
       "101.0     1\n",
       "20.0      1\n",
       "Name: weight, Length: 72, dtype: int64"
      ]
     },
     "execution_count": 111,
     "metadata": {},
     "output_type": "execute_result"
    }
   ],
   "source": [
    "# Cleaning the data\n",
    "df['weight'].value_counts()"
   ]
  },
  {
   "cell_type": "code",
   "execution_count": 112,
   "id": "d6c0df27",
   "metadata": {},
   "outputs": [
    {
     "name": "stderr",
     "output_type": "stream",
     "text": [
      "C:\\Users\\nirva\\anaconda3\\lib\\site-packages\\seaborn\\distributions.py:2619: FutureWarning:\n",
      "\n",
      "`distplot` is a deprecated function and will be removed in a future version. Please adapt your code to use either `displot` (a figure-level function with similar flexibility) or `histplot` (an axes-level function for histograms).\n",
      "\n"
     ]
    },
    {
     "data": {
      "image/png": "[encoded data removed]",
      "text/plain": [
       "<Figure size 432x288 with 1 Axes>"
      ]
     },
     "metadata": {
      "needs_background": "light"
     },
     "output_type": "display_data"
    }
   ],
   "source": [
    "# The handy Pandas function to_numeric converts non-numeric data to NaN. The last argument overrides the errors\n",
    "# Python would normally generate.\n",
    "# The apply method of a dataframe lets us apply a function to all the elements.\n",
    "df['weight'] = df['weight'].apply(pd.to_numeric, errors='coerce')\n",
    "\n",
    "#To remove the values above 5 we need to create a function that we then apply to the entire column\n",
    "def above_200(x):\n",
    "    if(x > 200.0 or x < 40.0): # making it betewn 40 and 200\n",
    "        return float('NaN')\n",
    "    else: \n",
    "        return x\n",
    "df['weight'] = df['weight'].apply(above_200)\n",
    "\n",
    "\n",
    "sns.distplot(df['weight'].dropna(), kde=False) #Selecting the column. I need to drop the NA's for the plot\n",
    "plt.title('Rating of weight')\n",
    "plt.xlabel('weight')\n",
    "plt.show()\n"
   ]
  },
  {
   "cell_type": "markdown",
   "id": "d87ac577",
   "metadata": {},
   "source": [
    "Because we whant to clean the data, we should keep in mind real world facts when removing impossible values. "
   ]
  },
  {
   "cell_type": "code",
   "execution_count": 113,
   "id": "6413ef4a",
   "metadata": {
    "scrolled": false
   },
   "outputs": [
    {
     "data": {
      "text/html": [
       "<div>\n",
       "<style scoped>\n",
       "    .dataframe tbody tr th:only-of-type {\n",
       "        vertical-align: middle;\n",
       "    }\n",
       "\n",
       "    .dataframe tbody tr th {\n",
       "        vertical-align: top;\n",
       "    }\n",
       "\n",
       "    .dataframe thead th {\n",
       "        text-align: right;\n",
       "    }\n",
       "</style>\n",
       "<table border=\"1\" class=\"dataframe\">\n",
       "  <thead>\n",
       "    <tr style=\"text-align: right;\">\n",
       "      <th></th>\n",
       "      <th>id</th>\n",
       "      <th>20-6-2013</th>\n",
       "      <th>21-6-2013</th>\n",
       "      <th>22-6-2013</th>\n",
       "      <th>23-6-2013</th>\n",
       "      <th>24-6-2013</th>\n",
       "      <th>25-6-2013</th>\n",
       "      <th>26-6-2013</th>\n",
       "      <th>27-6-2013</th>\n",
       "      <th>28-6-2013</th>\n",
       "      <th>...</th>\n",
       "      <th>13-5-2014</th>\n",
       "      <th>city</th>\n",
       "      <th>gender</th>\n",
       "      <th>age</th>\n",
       "      <th>hh_size</th>\n",
       "      <th>education</th>\n",
       "      <th>education_1</th>\n",
       "      <th>height</th>\n",
       "      <th>weight</th>\n",
       "      <th>mean_step</th>\n",
       "    </tr>\n",
       "  </thead>\n",
       "  <tbody>\n",
       "    <tr>\n",
       "      <th>0</th>\n",
       "      <td>1</td>\n",
       "      <td>NaN</td>\n",
       "      <td>NaN</td>\n",
       "      <td>NaN</td>\n",
       "      <td>NaN</td>\n",
       "      <td>3941.0</td>\n",
       "      <td>15733.0</td>\n",
       "      <td>9929.0</td>\n",
       "      <td>12879.0</td>\n",
       "      <td>10541.0</td>\n",
       "      <td>...</td>\n",
       "      <td>NaN</td>\n",
       "      <td>Bordeaux</td>\n",
       "      <td>Male</td>\n",
       "      <td>25-34</td>\n",
       "      <td>4</td>\n",
       "      <td>4</td>\n",
       "      <td>Master or doctorate</td>\n",
       "      <td>178.0</td>\n",
       "      <td>98.0</td>\n",
       "      <td>10205.521212</td>\n",
       "    </tr>\n",
       "    <tr>\n",
       "      <th>1</th>\n",
       "      <td>2</td>\n",
       "      <td>NaN</td>\n",
       "      <td>NaN</td>\n",
       "      <td>10473.0</td>\n",
       "      <td>705.0</td>\n",
       "      <td>4287.0</td>\n",
       "      <td>5507.0</td>\n",
       "      <td>4024.0</td>\n",
       "      <td>3926.0</td>\n",
       "      <td>14595.0</td>\n",
       "      <td>...</td>\n",
       "      <td>NaN</td>\n",
       "      <td>Lille</td>\n",
       "      <td>Male</td>\n",
       "      <td>35-44</td>\n",
       "      <td>1</td>\n",
       "      <td>3</td>\n",
       "      <td>Bachelor</td>\n",
       "      <td>180.0</td>\n",
       "      <td>77.0</td>\n",
       "      <td>5687.423313</td>\n",
       "    </tr>\n",
       "    <tr>\n",
       "      <th>2</th>\n",
       "      <td>3</td>\n",
       "      <td>NaN</td>\n",
       "      <td>11428.0</td>\n",
       "      <td>12523.0</td>\n",
       "      <td>2553.0</td>\n",
       "      <td>190.0</td>\n",
       "      <td>2164.0</td>\n",
       "      <td>8185.0</td>\n",
       "      <td>9630.0</td>\n",
       "      <td>8983.0</td>\n",
       "      <td>...</td>\n",
       "      <td>NaN</td>\n",
       "      <td>Montpellier</td>\n",
       "      <td>Male</td>\n",
       "      <td>25-34</td>\n",
       "      <td>2</td>\n",
       "      <td>2</td>\n",
       "      <td>Master or doctorate</td>\n",
       "      <td>180.0</td>\n",
       "      <td>83.0</td>\n",
       "      <td>8301.729730</td>\n",
       "    </tr>\n",
       "    <tr>\n",
       "      <th>3</th>\n",
       "      <td>4</td>\n",
       "      <td>NaN</td>\n",
       "      <td>NaN</td>\n",
       "      <td>NaN</td>\n",
       "      <td>NaN</td>\n",
       "      <td>NaN</td>\n",
       "      <td>NaN</td>\n",
       "      <td>NaN</td>\n",
       "      <td>NaN</td>\n",
       "      <td>NaN</td>\n",
       "      <td>...</td>\n",
       "      <td>NaN</td>\n",
       "      <td>Lyon</td>\n",
       "      <td>Male</td>\n",
       "      <td>&lt;25</td>\n",
       "      <td>1</td>\n",
       "      <td>1</td>\n",
       "      <td>Bachelor</td>\n",
       "      <td>178.0</td>\n",
       "      <td>80.0</td>\n",
       "      <td>3633.200000</td>\n",
       "    </tr>\n",
       "    <tr>\n",
       "      <th>4</th>\n",
       "      <td>5</td>\n",
       "      <td>NaN</td>\n",
       "      <td>NaN</td>\n",
       "      <td>NaN</td>\n",
       "      <td>NaN</td>\n",
       "      <td>NaN</td>\n",
       "      <td>NaN</td>\n",
       "      <td>NaN</td>\n",
       "      <td>NaN</td>\n",
       "      <td>NaN</td>\n",
       "      <td>...</td>\n",
       "      <td>NaN</td>\n",
       "      <td>Montpellier</td>\n",
       "      <td>Female</td>\n",
       "      <td>25-34</td>\n",
       "      <td>3</td>\n",
       "      <td>4</td>\n",
       "      <td>Bachelor</td>\n",
       "      <td>167.0</td>\n",
       "      <td>61.0</td>\n",
       "      <td>5312.129630</td>\n",
       "    </tr>\n",
       "  </tbody>\n",
       "</table>\n",
       "<p>5 rows × 338 columns</p>\n",
       "</div>"
      ],
      "text/plain": [
       "   id  20-6-2013  21-6-2013  22-6-2013  23-6-2013  24-6-2013  25-6-2013  \\\n",
       "0   1        NaN        NaN        NaN        NaN     3941.0    15733.0   \n",
       "1   2        NaN        NaN    10473.0      705.0     4287.0     5507.0   \n",
       "2   3        NaN    11428.0    12523.0     2553.0      190.0     2164.0   \n",
       "3   4        NaN        NaN        NaN        NaN        NaN        NaN   \n",
       "4   5        NaN        NaN        NaN        NaN        NaN        NaN   \n",
       "\n",
       "   26-6-2013  27-6-2013  28-6-2013  ...  13-5-2014         city  gender  \\\n",
       "0     9929.0    12879.0    10541.0  ...        NaN     Bordeaux    Male   \n",
       "1     4024.0     3926.0    14595.0  ...        NaN        Lille    Male   \n",
       "2     8185.0     9630.0     8983.0  ...        NaN  Montpellier    Male   \n",
       "3        NaN        NaN        NaN  ...        NaN         Lyon    Male   \n",
       "4        NaN        NaN        NaN  ...        NaN  Montpellier  Female   \n",
       "\n",
       "     age  hh_size  education          education_1  height  weight  \\\n",
       "0  25-34        4          4  Master or doctorate   178.0    98.0   \n",
       "1  35-44        1          3             Bachelor   180.0    77.0   \n",
       "2  25-34        2          2  Master or doctorate   180.0    83.0   \n",
       "3    <25        1          1             Bachelor   178.0    80.0   \n",
       "4  25-34        3          4             Bachelor   167.0    61.0   \n",
       "\n",
       "      mean_step  \n",
       "0  10205.521212  \n",
       "1   5687.423313  \n",
       "2   8301.729730  \n",
       "3   3633.200000  \n",
       "4   5312.129630  \n",
       "\n",
       "[5 rows x 338 columns]"
      ]
     },
     "execution_count": 113,
     "metadata": {},
     "output_type": "execute_result"
    }
   ],
   "source": [
    "# Creating the variable mean steps per participant\n",
    "\n",
    "# mean values of each row mean(axis=1)\n",
    "# Select column from beginning and end at '...' column\n",
    "df['mean_step'] = df.loc[:,'20-6-2013':'13-5-2014'].mean(axis=1)\n",
    "df.head()"
   ]
  },
  {
   "cell_type": "markdown",
   "id": "0f363a3d",
   "metadata": {},
   "source": [
    "## Feature engineering\n",
    "\n",
    "By knowing to height and weigth we can calculate the helth indicator BMI.\n",
    "BMI = Kg/m^2"
   ]
  },
  {
   "cell_type": "code",
   "execution_count": 114,
   "id": "6ca06918",
   "metadata": {},
   "outputs": [
    {
     "data": {
      "text/html": [
       "<div>\n",
       "<style scoped>\n",
       "    .dataframe tbody tr th:only-of-type {\n",
       "        vertical-align: middle;\n",
       "    }\n",
       "\n",
       "    .dataframe tbody tr th {\n",
       "        vertical-align: top;\n",
       "    }\n",
       "\n",
       "    .dataframe thead th {\n",
       "        text-align: right;\n",
       "    }\n",
       "</style>\n",
       "<table border=\"1\" class=\"dataframe\">\n",
       "  <thead>\n",
       "    <tr style=\"text-align: right;\">\n",
       "      <th></th>\n",
       "      <th>id</th>\n",
       "      <th>20-6-2013</th>\n",
       "      <th>21-6-2013</th>\n",
       "      <th>22-6-2013</th>\n",
       "      <th>23-6-2013</th>\n",
       "      <th>24-6-2013</th>\n",
       "      <th>25-6-2013</th>\n",
       "      <th>26-6-2013</th>\n",
       "      <th>27-6-2013</th>\n",
       "      <th>28-6-2013</th>\n",
       "      <th>...</th>\n",
       "      <th>city</th>\n",
       "      <th>gender</th>\n",
       "      <th>age</th>\n",
       "      <th>hh_size</th>\n",
       "      <th>education</th>\n",
       "      <th>education_1</th>\n",
       "      <th>height</th>\n",
       "      <th>weight</th>\n",
       "      <th>mean_step</th>\n",
       "      <th>bmi</th>\n",
       "    </tr>\n",
       "  </thead>\n",
       "  <tbody>\n",
       "    <tr>\n",
       "      <th>0</th>\n",
       "      <td>1</td>\n",
       "      <td>NaN</td>\n",
       "      <td>NaN</td>\n",
       "      <td>NaN</td>\n",
       "      <td>NaN</td>\n",
       "      <td>3941.0</td>\n",
       "      <td>15733.0</td>\n",
       "      <td>9929.0</td>\n",
       "      <td>12879.0</td>\n",
       "      <td>10541.0</td>\n",
       "      <td>...</td>\n",
       "      <td>Bordeaux</td>\n",
       "      <td>Male</td>\n",
       "      <td>25-34</td>\n",
       "      <td>4</td>\n",
       "      <td>4</td>\n",
       "      <td>Master or doctorate</td>\n",
       "      <td>178.0</td>\n",
       "      <td>98.0</td>\n",
       "      <td>10205.521212</td>\n",
       "      <td>30.930438</td>\n",
       "    </tr>\n",
       "    <tr>\n",
       "      <th>1</th>\n",
       "      <td>2</td>\n",
       "      <td>NaN</td>\n",
       "      <td>NaN</td>\n",
       "      <td>10473.0</td>\n",
       "      <td>705.0</td>\n",
       "      <td>4287.0</td>\n",
       "      <td>5507.0</td>\n",
       "      <td>4024.0</td>\n",
       "      <td>3926.0</td>\n",
       "      <td>14595.0</td>\n",
       "      <td>...</td>\n",
       "      <td>Lille</td>\n",
       "      <td>Male</td>\n",
       "      <td>35-44</td>\n",
       "      <td>1</td>\n",
       "      <td>3</td>\n",
       "      <td>Bachelor</td>\n",
       "      <td>180.0</td>\n",
       "      <td>77.0</td>\n",
       "      <td>5687.423313</td>\n",
       "      <td>23.765432</td>\n",
       "    </tr>\n",
       "    <tr>\n",
       "      <th>2</th>\n",
       "      <td>3</td>\n",
       "      <td>NaN</td>\n",
       "      <td>11428.0</td>\n",
       "      <td>12523.0</td>\n",
       "      <td>2553.0</td>\n",
       "      <td>190.0</td>\n",
       "      <td>2164.0</td>\n",
       "      <td>8185.0</td>\n",
       "      <td>9630.0</td>\n",
       "      <td>8983.0</td>\n",
       "      <td>...</td>\n",
       "      <td>Montpellier</td>\n",
       "      <td>Male</td>\n",
       "      <td>25-34</td>\n",
       "      <td>2</td>\n",
       "      <td>2</td>\n",
       "      <td>Master or doctorate</td>\n",
       "      <td>180.0</td>\n",
       "      <td>83.0</td>\n",
       "      <td>8301.729730</td>\n",
       "      <td>25.617284</td>\n",
       "    </tr>\n",
       "    <tr>\n",
       "      <th>3</th>\n",
       "      <td>4</td>\n",
       "      <td>NaN</td>\n",
       "      <td>NaN</td>\n",
       "      <td>NaN</td>\n",
       "      <td>NaN</td>\n",
       "      <td>NaN</td>\n",
       "      <td>NaN</td>\n",
       "      <td>NaN</td>\n",
       "      <td>NaN</td>\n",
       "      <td>NaN</td>\n",
       "      <td>...</td>\n",
       "      <td>Lyon</td>\n",
       "      <td>Male</td>\n",
       "      <td>&lt;25</td>\n",
       "      <td>1</td>\n",
       "      <td>1</td>\n",
       "      <td>Bachelor</td>\n",
       "      <td>178.0</td>\n",
       "      <td>80.0</td>\n",
       "      <td>3633.200000</td>\n",
       "      <td>25.249337</td>\n",
       "    </tr>\n",
       "    <tr>\n",
       "      <th>4</th>\n",
       "      <td>5</td>\n",
       "      <td>NaN</td>\n",
       "      <td>NaN</td>\n",
       "      <td>NaN</td>\n",
       "      <td>NaN</td>\n",
       "      <td>NaN</td>\n",
       "      <td>NaN</td>\n",
       "      <td>NaN</td>\n",
       "      <td>NaN</td>\n",
       "      <td>NaN</td>\n",
       "      <td>...</td>\n",
       "      <td>Montpellier</td>\n",
       "      <td>Female</td>\n",
       "      <td>25-34</td>\n",
       "      <td>3</td>\n",
       "      <td>4</td>\n",
       "      <td>Bachelor</td>\n",
       "      <td>167.0</td>\n",
       "      <td>61.0</td>\n",
       "      <td>5312.129630</td>\n",
       "      <td>21.872423</td>\n",
       "    </tr>\n",
       "  </tbody>\n",
       "</table>\n",
       "<p>5 rows × 339 columns</p>\n",
       "</div>"
      ],
      "text/plain": [
       "   id  20-6-2013  21-6-2013  22-6-2013  23-6-2013  24-6-2013  25-6-2013  \\\n",
       "0   1        NaN        NaN        NaN        NaN     3941.0    15733.0   \n",
       "1   2        NaN        NaN    10473.0      705.0     4287.0     5507.0   \n",
       "2   3        NaN    11428.0    12523.0     2553.0      190.0     2164.0   \n",
       "3   4        NaN        NaN        NaN        NaN        NaN        NaN   \n",
       "4   5        NaN        NaN        NaN        NaN        NaN        NaN   \n",
       "\n",
       "   26-6-2013  27-6-2013  28-6-2013  ...         city  gender    age  hh_size  \\\n",
       "0     9929.0    12879.0    10541.0  ...     Bordeaux    Male  25-34        4   \n",
       "1     4024.0     3926.0    14595.0  ...        Lille    Male  35-44        1   \n",
       "2     8185.0     9630.0     8983.0  ...  Montpellier    Male  25-34        2   \n",
       "3        NaN        NaN        NaN  ...         Lyon    Male    <25        1   \n",
       "4        NaN        NaN        NaN  ...  Montpellier  Female  25-34        3   \n",
       "\n",
       "   education          education_1  height  weight     mean_step        bmi  \n",
       "0          4  Master or doctorate   178.0    98.0  10205.521212  30.930438  \n",
       "1          3             Bachelor   180.0    77.0   5687.423313  23.765432  \n",
       "2          2  Master or doctorate   180.0    83.0   8301.729730  25.617284  \n",
       "3          1             Bachelor   178.0    80.0   3633.200000  25.249337  \n",
       "4          4             Bachelor   167.0    61.0   5312.129630  21.872423  \n",
       "\n",
       "[5 rows x 339 columns]"
      ]
     },
     "execution_count": 114,
     "metadata": {},
     "output_type": "execute_result"
    }
   ],
   "source": [
    "df[\"bmi\"] = df[\"weight\"] / ((df[\"height\"]/100)**2) \n",
    "df.head()"
   ]
  },
  {
   "cell_type": "markdown",
   "id": "4bd7de82",
   "metadata": {},
   "source": [
    "## Exploratory data analysis"
   ]
  },
  {
   "cell_type": "markdown",
   "id": "4c9fa3ce",
   "metadata": {},
   "source": [
    "An analysis of mean steps per participant:"
   ]
  },
  {
   "cell_type": "code",
   "execution_count": 115,
   "id": "9fee543e",
   "metadata": {},
   "outputs": [
    {
     "data": {
      "application/vnd.plotly.v1+json": {
       "config": {
        "plotlyServerURL": "https://plot.ly"
       },
       "data": [
        {
         "alignmentgroup": "True",
         "bingroup": "x",
         "hovertemplate": "mean_step=%{x}<br>count=%{y}<extra></extra>",
         "legendgroup": "",
         "marker": {
          "color": "#636efa",
          "pattern": {
           "shape": ""
          }
         },
         "name": "",
         "offsetgroup": "",
         "orientation": "v",
         "showlegend": false,
         "type": "histogram",
         "x": [
          10205.521212121212,
          5687.423312883436,
          8301.72972972973,
          3633.2,
          5312.12962962963,
          11908.509803921568,
          4715.4,
          3594.051724137931,
          8626.70796460177,
          3787.0434782608695,
          6626.9098360655735,
          1303.611111111111,
          5622.133333333333,
          9214.798076923076,
          2664.4615384615386,
          9994.432692307691,
          9791.608695652174,
          null,
          4696.526315789473,
          10587.986577181207,
          6235.238095238095,
          5667.045977011494,
          6769.695652173913,
          3885,
          3021.181818181818,
          12565.815789473685,
          6330.03125,
          7969.027586206897,
          4745.2,
          5525.080459770115,
          1218.5,
          12005.373665480427,
          6839.791666666667,
          5571.338983050848,
          8997.1,
          5790.273972602739,
          5051.865384615385,
          7013.284403669725,
          6208.58152173913,
          7144.333333333333,
          6951.46511627907,
          4174.9375,
          4235.260869565217,
          7326.1736842105265,
          8491.308333333332,
          4304.121212121212,
          8788.79057591623,
          8205.015625,
          8948.551724137931,
          4343.657142857143,
          5905.079831932773,
          4335.1,
          3689.4583333333335,
          4171.02,
          3855.5,
          1958.6666666666667,
          4459.923611111111,
          10773.95,
          9841.166666666666,
          5248.7,
          9140.409356725146,
          13409.394736842105,
          8854.00790513834,
          4085.6206896551726,
          5120.8442622950815,
          8786.64705882353,
          8069.644927536232,
          15178.09009009009,
          4706.466666666666,
          5638.626666666667,
          4625.666666666667,
          6582.890804597701,
          6035.454545454545,
          5453.8875,
          9026.774774774774,
          7155.733333333334,
          6836.855670103093,
          7348,
          8799.25925925926,
          3532,
          8084.109195402299,
          6375.732673267326,
          5545,
          7459.564705882353,
          3115.7368421052633,
          5482.333333333333,
          5565.207547169812,
          7085.573333333334,
          5388.909090909091,
          5078.851063829788,
          8978.511764705883,
          4945.736842105263,
          4440.2,
          7410.7,
          4374.104166666667,
          58491.06756756757,
          3964.0454545454545,
          3732.3055555555557,
          7674.601307189542,
          4854.592592592592,
          4318.413043478261,
          4776.083333333333,
          6462.041666666667,
          6621.083333333333,
          11847,
          6054.2594936708865,
          7823.6864864864865,
          10538.31623931624,
          3534.5,
          22842.716845878138,
          5676.444444444444,
          4036.0943396226417,
          4362.916666666667,
          6855.976525821597,
          11432.459854014598,
          5054.068493150685,
          9749.41,
          3797,
          7516.747252747253,
          2249.5,
          842,
          9179.89705882353,
          11388.43137254902,
          7178.891566265061,
          2690.285714285714,
          9658.32142857143,
          4083.5,
          4754.493150684932,
          2126.294117647059,
          8772.981132075472,
          8159.446927374302,
          6240.073033707865,
          7575.788079470199,
          2185.5,
          6700.431654676259,
          10973.48161764706,
          10503.623287671233,
          4334.4375,
          9427.436974789916,
          3866.40625,
          8033.384615384615,
          5100.141414141414,
          3368.2,
          7334,
          5783.708333333333,
          6492.964566929134,
          7004.424657534247,
          8425.101063829787,
          4611.096774193548,
          12806.922448979592,
          5674.837209302325,
          5789.338028169014,
          8327.528037383177,
          5391.545454545455,
          2592,
          1619.8,
          3027.6666666666665,
          5367.5,
          14840.966480446927,
          4354.558823529412,
          7180.096774193548,
          6597.042168674699,
          9097.119453924915,
          5426.5,
          2022,
          5677.627118644068,
          8724.975609756097,
          2815.2272727272725,
          6244.857142857143,
          4091.0898876404494,
          3534.9285714285716,
          7119,
          5525.024390243902,
          10219.295302013423,
          2489.55,
          5474.25,
          10684.791666666666,
          2878.25,
          10650.578947368422,
          5855.157142857143,
          7751.5875,
          10679.401315789473,
          10022.5,
          5237.757352941177,
          12420.849397590362,
          2982.6470588235293,
          5231.420560747663,
          5930.111111111111,
          5010.5,
          6947.226190476191,
          3628.6296296296296,
          3221,
          4872.333333333333,
          5957.85294117647,
          11067.538461538461,
          3957.4074074074074,
          3047.6153846153848,
          9176.654275092937,
          7056.188172043011,
          12016.51923076923,
          6101.6484375,
          7773.834024896266,
          6225.235294117647,
          9800.67901234568,
          4665,
          30373.808917197453,
          5297.166666666667,
          6664.042372881356,
          6752.772727272727,
          6631.327272727272,
          4151.697674418605,
          4173.818181818182,
          11067.265957446809,
          4270.676470588235,
          8326.48695652174,
          4594,
          4634.3725490196075,
          7492.660869565218,
          11392.042253521127,
          6029.680365296804,
          6796.765625,
          4583.388888888889,
          7363.657657657658,
          5072.008196721312,
          11078.947368421053,
          6512.392857142857,
          4268.285714285715,
          5810.122448979592,
          4683.894736842105,
          6348.96,
          3781.1428571428573,
          6139.453815261044,
          7018.326530612245,
          7571.364161849711,
          9444.591240875912,
          8740.45751633987,
          7896.857142857143,
          11188.40329218107,
          6986.006734006734,
          7040.6,
          13963.737704918032,
          5976.466666666666,
          5678.790178571428,
          4716.281818181818,
          12500.575,
          8841.230215827338,
          2796,
          5063.53125,
          10314.84375,
          4186.029411764706,
          7886.4409937888195,
          1970.0454545454545,
          2763.6666666666665,
          10029.570422535211,
          8607.84023668639,
          6173.777777777777,
          7236.80985915493,
          5625.51282051282,
          10377.72131147541,
          3605.128205128205,
          7659.848039215686,
          7579.263157894737,
          8355.887218045113,
          5035.275,
          7130.084507042254,
          3841.1794871794873,
          4849.583333333333,
          4065.8571428571427,
          14811.06111111111,
          9668.5,
          9236.6625,
          2070.6,
          6026.03125,
          8661.831460674157,
          8694,
          7027.695238095238,
          9543.795454545454,
          6224,
          9751.026490066226,
          9799.058035714286,
          11862.106796116504,
          5168.692307692308,
          7868.7959183673465,
          10306.17679558011,
          6216.906976744186,
          4879.794871794872,
          5936.105882352941,
          9986.885416666666,
          3543.744680851064,
          5747.538461538462,
          5947.87012987013,
          6404.068965517241,
          6043.875,
          6108.025125628141,
          5009.354166666667,
          5833.09375,
          9046.018072289156,
          2298.9166666666665,
          8707.86348122867,
          7788.454954954955,
          5826.662280701755,
          4040.8444444444444,
          16378.346153846154,
          15031.90909090909,
          5532.674418604651,
          11267.666666666666,
          6013.5,
          null,
          7551.805555555556,
          5301.976190476191,
          15531.048128342247,
          4206.56,
          5954.345911949686,
          4824.428571428572,
          11192.849740932643,
          3581.1470588235293,
          6940.0921052631575,
          5996.876811594203,
          10348.45588235294,
          2821.1052631578946,
          1762,
          4400.733766233766,
          8065.125,
          2930.3571428571427,
          3477.2,
          4632.646551724138,
          5577.923076923077,
          3481,
          2487.875,
          4914.533333333334,
          4705.208333333333,
          8433.76404494382,
          4666.826815642458,
          7734.979797979798,
          8954,
          10258.529761904761,
          4226.317073170731,
          3715.535714285714,
          3114.9666666666667,
          7733.049056603773,
          8310.506666666666,
          4312.333333333333,
          7384,
          6771.524193548387,
          6637.962025316456,
          8053.4496644295305,
          1944.75,
          5905.081081081081,
          2569.75,
          5883.4,
          8423.255102040815,
          10233.407692307692,
          7195.125,
          2865.84,
          5346.542857142857,
          5045.2,
          6657,
          6585.666666666667,
          11088.036764705883,
          5067.191489361702,
          3827.1724137931033,
          7649.065789473684,
          11258.5,
          6175.533333333334,
          4790.027027027027,
          6026.6,
          11288.92,
          6710.5,
          8998.067226890757,
          8061.527777777777,
          8254.573170731708,
          4759.470588235294,
          3939.3571428571427,
          8763.020689655172,
          6715.818181818182,
          7671,
          9885.525,
          2450.0526315789475,
          8075.318181818182,
          4432,
          9809.526570048309,
          9223.83962264151,
          5056.619047619048,
          4700,
          2508.375,
          3960.6769230769232,
          5597.782051282052,
          7837.067164179104,
          5585.58,
          15405.474489795919,
          3157.818181818182,
          6076.748201438849,
          3805.0833333333335,
          6384.557894736842,
          4722.3540372670805,
          4089.125,
          1745.3333333333333,
          5666.5,
          3128.090909090909,
          3890.55,
          6715.314285714286,
          8469.705521472393,
          6284.333333333333,
          3042,
          6369.037974683544,
          4246.928571428572,
          10180.423076923076,
          7836.933333333333,
          8407.062857142857,
          7721.1122448979595,
          6373.25,
          6125.0609756097565,
          5340.045454545455,
          5119.854838709677,
          10991.670731707318,
          3464.375,
          4164,
          3266.266666666667,
          7223.504587155963,
          6163.480392156863,
          8982.180327868853,
          7349.955882352941,
          12063.053380782918,
          9342.782608695652,
          5222.287037037037,
          5701.058823529412,
          3099.8333333333335,
          3914.5714285714284,
          12560.666666666666,
          5374.016304347826,
          6805.360215053764,
          2981.5,
          7476.959349593496,
          5066.518518518518,
          3775.6290322580644,
          4788.642857142857,
          2852.1,
          8267.3671875,
          6787.214689265536,
          6016.25,
          3501.6666666666665,
          2727.5,
          6061.56338028169,
          4297.8490566037735,
          9448.098360655738,
          6990.919354838709,
          3172.5,
          3104,
          6768.9701492537315,
          5084.774193548387,
          3432.046511627907,
          4475.977272727273,
          2585.777777777778,
          12608.267015706806,
          11985.082278481013,
          7233.0625,
          8265.146666666667,
          8866.954128440368,
          5966.213114754099,
          11263.52972972973,
          7450.0058139534885,
          5869.992592592593,
          8467.031446540881,
          6743.24,
          9577.093023255815,
          2882.6666666666665,
          5994.297619047619,
          4320.446808510638,
          4528.7692307692305,
          6671.111111111111,
          5757.865384615385,
          6016.727272727273,
          12910.075342465754,
          6502.085271317829,
          10024.56462585034,
          10462.384146341463,
          6911.574257425743,
          6357.34375,
          6964.261538461538,
          12012.966101694916,
          5674.0615384615385,
          15796.350553505536,
          12252.154761904761,
          13587.165562913908,
          10827.728571428572,
          8891.847457627118,
          5258.895833333333,
          5318.730158730159,
          7972.170731707317,
          6724.588235294118,
          4621.8,
          7415.496,
          6716.140243902439,
          6683.737704918033,
          9839.112612612613,
          5509.271794871795,
          13721.063909774437,
          7284.416666666667,
          3855.3939393939395,
          1612.3,
          8399.670212765957,
          6162.5,
          7955.147727272727,
          6322.097222222223,
          4484.166666666667,
          9275.5,
          6133.836734693878,
          4769.959183673469,
          4520.76,
          5778.238805970149,
          7217.102803738318,
          8815.252808988764,
          4588.307692307692,
          5590.575342465753,
          8111.9473684210525,
          14835.107883817427,
          7929.309352517986,
          8857.828451882846,
          7237.955555555555,
          5280.237288135593,
          10872.842105263158,
          6237.488,
          13705.69547325103,
          6553.038095238096,
          8578.194915254237,
          4813.172413793103,
          4906.56,
          5120.888888888889,
          10229.354838709678,
          7647.535483870968,
          8583.029411764706,
          11772.77358490566,
          8735.19512195122,
          10432.363157894737,
          16026.470238095239,
          8286.888888888889,
          15382.097826086956,
          7377.982456140351,
          2645.5714285714284,
          7818.67,
          10098.792452830188,
          3385.391304347826,
          3653.4285714285716,
          10802.38028169014,
          3931.5625,
          8316.64393939394,
          5071.025,
          7992,
          8748.851485148514,
          4581.2,
          1765.2,
          3504.346153846154,
          7644.603773584906,
          null,
          4587.884615384615,
          9596.243902439024,
          7891.366666666667,
          7349.151260504202,
          3763.2297297297296,
          4877.818181818182,
          1289.5555555555557,
          9026.97435897436,
          4727.95652173913,
          9766.056910569107,
          11143.52564102564,
          null,
          9087.903553299493,
          6077.804511278196,
          10503.421052631578,
          6385.8,
          5036.8432835820895,
          10071.6328125,
          3143.1666666666665,
          8045.098591549296,
          6475.777777777777,
          7561.5502183406115,
          4881.263736263736,
          7167.248120300752,
          6516.208333333333,
          4268.727272727273,
          6320.556213017751,
          7592.163265306122,
          8539.42,
          4636,
          10107.32319391635,
          9760.972413793104,
          2985.3783783783783,
          7828.305882352941,
          2979.78125,
          3433.285714285714,
          5132.541666666667,
          12479.41056910569,
          6548.548571428571,
          6247.392156862745,
          4268.123595505618,
          6943.5,
          5461.251497005988,
          5883.12676056338,
          4642.855172413793,
          7723.828947368421,
          6693.333333333333,
          4388.444444444444,
          5834.459016393443,
          6644.596566523605,
          6536.5703125,
          9178.101351351352,
          7697.045045045045,
          5807.092783505154,
          7836.076271186441,
          4466.9,
          2445.6176470588234,
          4645.741666666667,
          7501.581081081081,
          4766.857142857143,
          10331.408163265307,
          9164.48275862069,
          4,
          6049.1578947368425,
          2923.3333333333335,
          6245.006060606061,
          5303.644736842105,
          5816.226415094339,
          8713.32701421801,
          8978.548507462687,
          7553.311111111111,
          6322.521739130435,
          9724.11374407583,
          3843.875,
          3483.785714285714,
          5311.017045454545,
          1916.8,
          7669.804878048781,
          3815.0555555555557,
          9429.463917525773,
          4457.812080536913,
          5383.709677419355,
          5461.118644067797,
          7237.09375,
          4318.818181818182,
          4262.46511627907,
          12042.204819277109,
          4356.233766233766,
          8966.31182795699,
          3469.5333333333333,
          4842.268292682927,
          6032.504424778761,
          4939.666666666667,
          5799.333333333333,
          7722.712871287129,
          5293.020618556701,
          3551.075,
          4126.163636363636,
          4672.928571428572,
          4925.75,
          2775.5789473684213,
          8898.241935483871,
          16487.87116564417,
          4373.84693877551,
          2501.25,
          6561.521367521367,
          9693.657894736842,
          4161.523809523809,
          5406.454545454545,
          6046.574324324324,
          7877.932203389831,
          1853.5,
          3594.2105263157896,
          4665.010752688172,
          5297.40625,
          5377.212765957447,
          3475.285714285714,
          9483.406593406593,
          5795.653333333334,
          8606.416216216216,
          8416.733333333334,
          8152.2830188679245,
          4463.508670520231,
          5016.523809523809,
          7557.238095238095,
          3034,
          7440.795454545455,
          9334.805084745763,
          7596.577639751553,
          4303.593406593406,
          7258.4,
          4228.5344827586205,
          3939.7078651685392,
          8425.365853658537,
          9206.522448979591,
          3324.269230769231,
          5503.307692307692,
          8456.82142857143,
          6866.608490566037,
          6595.135135135135,
          7190.347368421053,
          4535.529411764706,
          9608.205128205129,
          10531.203488372093,
          3208.5263157894738,
          2743.875,
          5678.771028037383,
          3619.866666666667,
          4981.70786516854,
          6060.064814814815,
          4444.419354838709,
          4303,
          5065.184466019417,
          4937.461538461538,
          3729.5882352941176,
          6103.592307692307,
          3432.9777777777776,
          4140.419354838709,
          1598,
          6297.523809523809,
          10076.676056338029,
          8051.935344827586,
          10283.625,
          4556.909090909091,
          8324,
          7812.025423728814,
          10205.624365482234,
          5059.448275862069,
          6951.125,
          7757.153846153846,
          3192.2,
          6202.5,
          10343.807272727272,
          7885.16,
          4112.375,
          5224.632352941177,
          4010.732558139535,
          4868.040816326531,
          2993.3333333333335,
          10192.526315789473,
          4979.9152542372885,
          11047.805309734513,
          5560.1,
          3627.9210526315787,
          6312.419354838709,
          6480.582191780822,
          201722.6,
          4182.59,
          9189.738095238095,
          11308.566666666668,
          5489,
          6675.044943820225,
          4989.6,
          6722.631578947368,
          7618,
          7288.166666666667,
          1856.3333333333333,
          5562.459016393443,
          4110.28125,
          5298,
          7113.625668449198,
          9979.269076305221,
          11947.136363636364,
          5937.36170212766,
          5592.939393939394,
          5162.382113821138,
          4471.475113122172,
          4093.4444444444443,
          4825.45,
          12354.542222222222,
          5032.888888888889,
          4662.148148148148,
          1032.5,
          8880.427419354839,
          3794.24,
          9427.982905982906,
          5510.300970873786,
          6872.184782608696,
          5430.85,
          7958.7032967032965,
          7380.568181818182,
          5626.247967479675,
          6334.129032258064,
          11486.809523809523,
          10417.18811881188,
          7944.25,
          3809.1929824561403,
          12140.546558704453,
          3663.086956521739,
          8729.15671641791,
          5317.782608695652,
          11727.506787330316,
          2919.64,
          7046.832214765101,
          9397.938524590163,
          5534.206896551724,
          4319.75,
          8062.9098360655735,
          3241.5555555555557,
          6133.333333333333,
          13690.075862068965,
          7960.113924050633,
          8335.324324324325,
          6139.544303797468,
          11528.03305785124,
          5851,
          4894.865030674847,
          8903.358333333334,
          3495.0434782608695,
          9518.512605042017,
          3091.245614035088,
          3951.0070921985816,
          6416.401315789473,
          6856.6551724137935,
          6517.530487804878,
          1449.4,
          8965.275280898877,
          6285.386597938144,
          7939.314720812183,
          7147.275862068966,
          3901.4545454545455,
          8996.507246376812,
          9147.027397260274,
          7501.64,
          5365.241379310345,
          9794,
          10432.64705882353,
          5063.185185185185,
          3941.9189189189187,
          3502.5714285714284,
          5081.838235294118,
          6399.398550724638,
          4945.795698924731,
          5709.370892018779,
          3048.181818181818,
          6617.453333333333,
          4671.5,
          8542.422535211268,
          5439,
          6331.491803278688,
          20414.067039106147,
          6590.636363636364,
          8463.018181818183,
          7559.28813559322,
          7372.672727272728,
          7331.356097560975,
          15120.915492957747,
          6063.915662650603,
          4078.6666666666665,
          8093.725,
          7075.035714285715,
          4354.841269841269,
          10475.307692307691,
          4058.0555555555557,
          6680.076923076923,
          12701.654205607476,
          7981.484472049689,
          19893.464705882354,
          8128.739130434783,
          6195.266666666666,
          3951.1111111111113,
          5566.179487179487,
          2632.5,
          5911.620689655172,
          9647.762114537445,
          7736.7307692307695,
          7455.381395348837,
          4126.385714285714,
          6881.666666666667,
          5704.045871559633,
          13288.777777777777,
          7109.5,
          1210,
          10997.099290780141,
          6255.685393258427,
          4489.189189189189,
          2862.6969696969695,
          6691.338345864661,
          3744.7241379310344,
          5391.093406593406,
          3532.4285714285716,
          7772.929936305733,
          6414.6,
          9022.081196581197,
          6233.628571428571,
          5977.5,
          8247.150943396226,
          43912.307692307695,
          5296.027027027027,
          8218.367088607594,
          4795.341463414634,
          14009.206611570247,
          6464.31914893617,
          4817.1,
          5055.87037037037,
          3707.3142857142857,
          8964.023255813954,
          8548.153846153846,
          11059.615023474178,
          7311.3125,
          5266.285714285715,
          5070.666666666667,
          10903.825503355705,
          3387,
          15533.02380952381,
          1832.142857142857,
          6638.747474747474,
          4099.833333333333,
          10817.741935483871,
          6281.930817610063,
          6729.168539325843,
          9472.5625,
          4285.759259259259,
          15743.724738675959,
          5968.338461538461,
          7174.3239436619715,
          1914.75,
          13603.27734375,
          10457.031446540881,
          15213.159624413145,
          3786.1666666666665,
          7140.98347107438,
          5989.848920863309,
          5564.825581395349,
          9406.466666666667,
          9950.074074074075,
          13572.084507042253,
          3276.875,
          6930.907692307693,
          5174.375,
          6282.131868131868,
          4799.88,
          10030.326829268293,
          15679.67901234568,
          7584.467153284671
         ],
         "xaxis": "x",
         "yaxis": "y"
        }
       ],
       "layout": {
        "barmode": "relative",
        "legend": {
         "tracegroupgap": 0
        },
        "template": {
         "data": {
          "bar": [
           {
            "error_x": {
             "color": "#2a3f5f"
            },
            "error_y": {
             "color": "#2a3f5f"
            },
            "marker": {
             "line": {
              "color": "#E5ECF6",
              "width": 0.5
             },
             "pattern": {
              "fillmode": "overlay",
              "size": 10,
              "solidity": 0.2
             }
            },
            "type": "bar"
           }
          ],
          "barpolar": [
           {
            "marker": {
             "line": {
              "color": "#E5ECF6",
              "width": 0.5
             },
             "pattern": {
              "fillmode": "overlay",
              "size": 10,
              "solidity": 0.2
             }
            },
            "type": "barpolar"
           }
          ],
          "carpet": [
           {
            "aaxis": {
             "endlinecolor": "#2a3f5f",
             "gridcolor": "white",
             "linecolor": "white",
             "minorgridcolor": "white",
             "startlinecolor": "#2a3f5f"
            },
            "baxis": {
             "endlinecolor": "#2a3f5f",
             "gridcolor": "white",
             "linecolor": "white",
             "minorgridcolor": "white",
             "startlinecolor": "#2a3f5f"
            },
            "type": "carpet"
           }
          ],
          "choropleth": [
           {
            "colorbar": {
             "outlinewidth": 0,
             "ticks": ""
            },
            "type": "choropleth"
           }
          ],
          "contour": [
           {
            "colorbar": {
             "outlinewidth": 0,
             "ticks": ""
            },
            "colorscale": [
             [
              0,
              "#0d0887"
             ],
             [
              0.1111111111111111,
              "#46039f"
             ],
             [
              0.2222222222222222,
              "#7201a8"
             ],
             [
              0.3333333333333333,
              "#9c179e"
             ],
             [
              0.4444444444444444,
              "#bd3786"
             ],
             [
              0.5555555555555556,
              "#d8576b"
             ],
             [
              0.6666666666666666,
              "#ed7953"
             ],
             [
              0.7777777777777778,
              "#fb9f3a"
             ],
             [
              0.8888888888888888,
              "#fdca26"
             ],
             [
              1,
              "#f0f921"
             ]
            ],
            "type": "contour"
           }
          ],
          "contourcarpet": [
           {
            "colorbar": {
             "outlinewidth": 0,
             "ticks": ""
            },
            "type": "contourcarpet"
           }
          ],
          "heatmap": [
           {
            "colorbar": {
             "outlinewidth": 0,
             "ticks": ""
            },
            "colorscale": [
             [
              0,
              "#0d0887"
             ],
             [
              0.1111111111111111,
              "#46039f"
             ],
             [
              0.2222222222222222,
              "#7201a8"
             ],
             [
              0.3333333333333333,
              "#9c179e"
             ],
             [
              0.4444444444444444,
              "#bd3786"
             ],
             [
              0.5555555555555556,
              "#d8576b"
             ],
             [
              0.6666666666666666,
              "#ed7953"
             ],
             [
              0.7777777777777778,
              "#fb9f3a"
             ],
             [
              0.8888888888888888,
              "#fdca26"
             ],
             [
              1,
              "#f0f921"
             ]
            ],
            "type": "heatmap"
           }
          ],
          "heatmapgl": [
           {
            "colorbar": {
             "outlinewidth": 0,
             "ticks": ""
            },
            "colorscale": [
             [
              0,
              "#0d0887"
             ],
             [
              0.1111111111111111,
              "#46039f"
             ],
             [
              0.2222222222222222,
              "#7201a8"
             ],
             [
              0.3333333333333333,
              "#9c179e"
             ],
             [
              0.4444444444444444,
              "#bd3786"
             ],
             [
              0.5555555555555556,
              "#d8576b"
             ],
             [
              0.6666666666666666,
              "#ed7953"
             ],
             [
              0.7777777777777778,
              "#fb9f3a"
             ],
             [
              0.8888888888888888,
              "#fdca26"
             ],
             [
              1,
              "#f0f921"
             ]
            ],
            "type": "heatmapgl"
           }
          ],
          "histogram": [
           {
            "marker": {
             "pattern": {
              "fillmode": "overlay",
              "size": 10,
              "solidity": 0.2
             }
            },
            "type": "histogram"
           }
          ],
          "histogram2d": [
           {
            "colorbar": {
             "outlinewidth": 0,
             "ticks": ""
            },
            "colorscale": [
             [
              0,
              "#0d0887"
             ],
             [
              0.1111111111111111,
              "#46039f"
             ],
             [
              0.2222222222222222,
              "#7201a8"
             ],
             [
              0.3333333333333333,
              "#9c179e"
             ],
             [
              0.4444444444444444,
              "#bd3786"
             ],
             [
              0.5555555555555556,
              "#d8576b"
             ],
             [
              0.6666666666666666,
              "#ed7953"
             ],
             [
              0.7777777777777778,
              "#fb9f3a"
             ],
             [
              0.8888888888888888,
              "#fdca26"
             ],
             [
              1,
              "#f0f921"
             ]
            ],
            "type": "histogram2d"
           }
          ],
          "histogram2dcontour": [
           {
            "colorbar": {
             "outlinewidth": 0,
             "ticks": ""
            },
            "colorscale": [
             [
              0,
              "#0d0887"
             ],
             [
              0.1111111111111111,
              "#46039f"
             ],
             [
              0.2222222222222222,
              "#7201a8"
             ],
             [
              0.3333333333333333,
              "#9c179e"
             ],
             [
              0.4444444444444444,
              "#bd3786"
             ],
             [
              0.5555555555555556,
              "#d8576b"
             ],
             [
              0.6666666666666666,
              "#ed7953"
             ],
             [
              0.7777777777777778,
              "#fb9f3a"
             ],
             [
              0.8888888888888888,
              "#fdca26"
             ],
             [
              1,
              "#f0f921"
             ]
            ],
            "type": "histogram2dcontour"
           }
          ],
          "mesh3d": [
           {
            "colorbar": {
             "outlinewidth": 0,
             "ticks": ""
            },
            "type": "mesh3d"
           }
          ],
          "parcoords": [
           {
            "line": {
             "colorbar": {
              "outlinewidth": 0,
              "ticks": ""
             }
            },
            "type": "parcoords"
           }
          ],
          "pie": [
           {
            "automargin": true,
            "type": "pie"
           }
          ],
          "scatter": [
           {
            "marker": {
             "colorbar": {
              "outlinewidth": 0,
              "ticks": ""
             }
            },
            "type": "scatter"
           }
          ],
          "scatter3d": [
           {
            "line": {
             "colorbar": {
              "outlinewidth": 0,
              "ticks": ""
             }
            },
            "marker": {
             "colorbar": {
              "outlinewidth": 0,
              "ticks": ""
             }
            },
            "type": "scatter3d"
           }
          ],
          "scattercarpet": [
           {
            "marker": {
             "colorbar": {
              "outlinewidth": 0,
              "ticks": ""
             }
            },
            "type": "scattercarpet"
           }
          ],
          "scattergeo": [
           {
            "marker": {
             "colorbar": {
              "outlinewidth": 0,
              "ticks": ""
             }
            },
            "type": "scattergeo"
           }
          ],
          "scattergl": [
           {
            "marker": {
             "colorbar": {
              "outlinewidth": 0,
              "ticks": ""
             }
            },
            "type": "scattergl"
           }
          ],
          "scattermapbox": [
           {
            "marker": {
             "colorbar": {
              "outlinewidth": 0,
              "ticks": ""
             }
            },
            "type": "scattermapbox"
           }
          ],
          "scatterpolar": [
           {
            "marker": {
             "colorbar": {
              "outlinewidth": 0,
              "ticks": ""
             }
            },
            "type": "scatterpolar"
           }
          ],
          "scatterpolargl": [
           {
            "marker": {
             "colorbar": {
              "outlinewidth": 0,
              "ticks": ""
             }
            },
            "type": "scatterpolargl"
           }
          ],
          "scatterternary": [
           {
            "marker": {
             "colorbar": {
              "outlinewidth": 0,
              "ticks": ""
             }
            },
            "type": "scatterternary"
           }
          ],
          "surface": [
           {
            "colorbar": {
             "outlinewidth": 0,
             "ticks": ""
            },
            "colorscale": [
             [
              0,
              "#0d0887"
             ],
             [
              0.1111111111111111,
              "#46039f"
             ],
             [
              0.2222222222222222,
              "#7201a8"
             ],
             [
              0.3333333333333333,
              "#9c179e"
             ],
             [
              0.4444444444444444,
              "#bd3786"
             ],
             [
              0.5555555555555556,
              "#d8576b"
             ],
             [
              0.6666666666666666,
              "#ed7953"
             ],
             [
              0.7777777777777778,
              "#fb9f3a"
             ],
             [
              0.8888888888888888,
              "#fdca26"
             ],
             [
              1,
              "#f0f921"
             ]
            ],
            "type": "surface"
           }
          ],
          "table": [
           {
            "cells": {
             "fill": {
              "color": "#EBF0F8"
             },
             "line": {
              "color": "white"
             }
            },
            "header": {
             "fill": {
              "color": "#C8D4E3"
             },
             "line": {
              "color": "white"
             }
            },
            "type": "table"
           }
          ]
         },
         "layout": {
          "annotationdefaults": {
           "arrowcolor": "#2a3f5f",
           "arrowhead": 0,
           "arrowwidth": 1
          },
          "autotypenumbers": "strict",
          "coloraxis": {
           "colorbar": {
            "outlinewidth": 0,
            "ticks": ""
           }
          },
          "colorscale": {
           "diverging": [
            [
             0,
             "#8e0152"
            ],
            [
             0.1,
             "#c51b7d"
            ],
            [
             0.2,
             "#de77ae"
            ],
            [
             0.3,
             "#f1b6da"
            ],
            [
             0.4,
             "#fde0ef"
            ],
            [
             0.5,
             "#f7f7f7"
            ],
            [
             0.6,
             "#e6f5d0"
            ],
            [
             0.7,
             "#b8e186"
            ],
            [
             0.8,
             "#7fbc41"
            ],
            [
             0.9,
             "#4d9221"
            ],
            [
             1,
             "#276419"
            ]
           ],
           "sequential": [
            [
             0,
             "#0d0887"
            ],
            [
             0.1111111111111111,
             "#46039f"
            ],
            [
             0.2222222222222222,
             "#7201a8"
            ],
            [
             0.3333333333333333,
             "#9c179e"
            ],
            [
             0.4444444444444444,
             "#bd3786"
            ],
            [
             0.5555555555555556,
             "#d8576b"
            ],
            [
             0.6666666666666666,
             "#ed7953"
            ],
            [
             0.7777777777777778,
             "#fb9f3a"
            ],
            [
             0.8888888888888888,
             "#fdca26"
            ],
            [
             1,
             "#f0f921"
            ]
           ],
           "sequentialminus": [
            [
             0,
             "#0d0887"
            ],
            [
             0.1111111111111111,
             "#46039f"
            ],
            [
             0.2222222222222222,
             "#7201a8"
            ],
            [
             0.3333333333333333,
             "#9c179e"
            ],
            [
             0.4444444444444444,
             "#bd3786"
            ],
            [
             0.5555555555555556,
             "#d8576b"
            ],
            [
             0.6666666666666666,
             "#ed7953"
            ],
            [
             0.7777777777777778,
             "#fb9f3a"
            ],
            [
             0.8888888888888888,
             "#fdca26"
            ],
            [
             1,
             "#f0f921"
            ]
           ]
          },
          "colorway": [
           "#636efa",
           "#EF553B",
           "#00cc96",
           "#ab63fa",
           "#FFA15A",
           "#19d3f3",
           "#FF6692",
           "#B6E880",
           "#FF97FF",
           "#FECB52"
          ],
          "font": {
           "color": "#2a3f5f"
          },
          "geo": {
           "bgcolor": "white",
           "lakecolor": "white",
           "landcolor": "#E5ECF6",
           "showlakes": true,
           "showland": true,
           "subunitcolor": "white"
          },
          "hoverlabel": {
           "align": "left"
          },
          "hovermode": "closest",
          "mapbox": {
           "style": "light"
          },
          "paper_bgcolor": "white",
          "plot_bgcolor": "#E5ECF6",
          "polar": {
           "angularaxis": {
            "gridcolor": "white",
            "linecolor": "white",
            "ticks": ""
           },
           "bgcolor": "#E5ECF6",
           "radialaxis": {
            "gridcolor": "white",
            "linecolor": "white",
            "ticks": ""
           }
          },
          "scene": {
           "xaxis": {
            "backgroundcolor": "#E5ECF6",
            "gridcolor": "white",
            "gridwidth": 2,
            "linecolor": "white",
            "showbackground": true,
            "ticks": "",
            "zerolinecolor": "white"
           },
           "yaxis": {
            "backgroundcolor": "#E5ECF6",
            "gridcolor": "white",
            "gridwidth": 2,
            "linecolor": "white",
            "showbackground": true,
            "ticks": "",
            "zerolinecolor": "white"
           },
           "zaxis": {
            "backgroundcolor": "#E5ECF6",
            "gridcolor": "white",
            "gridwidth": 2,
            "linecolor": "white",
            "showbackground": true,
            "ticks": "",
            "zerolinecolor": "white"
           }
          },
          "shapedefaults": {
           "line": {
            "color": "#2a3f5f"
           }
          },
          "ternary": {
           "aaxis": {
            "gridcolor": "white",
            "linecolor": "white",
            "ticks": ""
           },
           "baxis": {
            "gridcolor": "white",
            "linecolor": "white",
            "ticks": ""
           },
           "bgcolor": "#E5ECF6",
           "caxis": {
            "gridcolor": "white",
            "linecolor": "white",
            "ticks": ""
           }
          },
          "title": {
           "x": 0.05
          },
          "xaxis": {
           "automargin": true,
           "gridcolor": "white",
           "linecolor": "white",
           "ticks": "",
           "title": {
            "standoff": 15
           },
           "zerolinecolor": "white",
           "zerolinewidth": 2
          },
          "yaxis": {
           "automargin": true,
           "gridcolor": "white",
           "linecolor": "white",
           "ticks": "",
           "title": {
            "standoff": 15
           },
           "zerolinecolor": "white",
           "zerolinewidth": 2
          }
         }
        },
        "title": {
         "text": "Average step"
        },
        "xaxis": {
         "anchor": "y",
         "domain": [
          0,
          1
         ],
         "range": [
          0,
          50000
         ],
         "title": {
          "text": "mean_step"
         }
        },
        "yaxis": {
         "anchor": "x",
         "domain": [
          0,
          1
         ],
         "title": {
          "text": "count"
         }
        }
       }
      },
      "text/html": [
       "<div>                            <div id=\"c1271174-cdb9-4593-bdfe-60f12c23d343\" class=\"plotly-graph-div\" style=\"height:525px; width:100%;\"></div>            <script type=\"text/javascript\">                require([\"plotly\"], function(Plotly) {                    window.PLOTLYENV=window.PLOTLYENV || {};                                    if (document.getElementById(\"c1271174-cdb9-4593-bdfe-60f12c23d343\")) {                    Plotly.newPlot(                        \"c1271174-cdb9-4593-bdfe-60f12c23d343\",                        [{\"alignmentgroup\":\"True\",\"bingroup\":\"x\",\"hovertemplate\":\"mean_step=%{x}<br>count=%{y}<extra></extra>\",\"legendgroup\":\"\",\"marker\":{\"color\":\"#636efa\",\"pattern\":{\"shape\":\"\"}},\"name\":\"\",\"offsetgroup\":\"\",\"orientation\":\"v\",\"showlegend\":false,\"x\":[10205.521212121212,5687.423312883436,8301.72972972973,3633.2,5312.12962962963,11908.509803921568,4715.4,3594.051724137931,8626.70796460177,3787.0434782608695,6626.9098360655735,1303.611111111111,5622.133333333333,9214.798076923076,2664.4615384615386,9994.432692307691,9791.608695652174,null,4696.526315789473,10587.986577181207,6235.238095238095,5667.045977011494,6769.695652173913,3885.0,3021.181818181818,12565.815789473685,6330.03125,7969.027586206897,4745.2,5525.080459770115,1218.5,12005.373665480427,6839.791666666667,5571.338983050848,8997.1,5790.273972602739,5051.865384615385,7013.284403669725,6208.58152173913,7144.333333333333,6951.46511627907,4174.9375,4235.260869565217,7326.1736842105265,8491.308333333332,4304.121212121212,8788.79057591623,8205.015625,8948.551724137931,4343.657142857143,5905.079831932773,4335.1,3689.4583333333335,4171.02,3855.5,1958.6666666666667,4459.923611111111,10773.95,9841.166666666666,5248.7,9140.409356725146,13409.394736842105,8854.00790513834,4085.6206896551726,5120.8442622950815,8786.64705882353,8069.644927536232,15178.09009009009,4706.466666666666,5638.626666666667,4625.666666666667,6582.890804597701,6035.454545454545,5453.8875,9026.774774774774,7155.733333333334,6836.855670103093,7348.0,8799.25925925926,3532.0,8084.109195402299,6375.732673267326,5545.0,7459.564705882353,3115.7368421052633,5482.333333333333,5565.207547169812,7085.573333333334,5388.909090909091,5078.851063829788,8978.511764705883,4945.736842105263,4440.2,7410.7,4374.104166666667,58491.06756756757,3964.0454545454545,3732.3055555555557,7674.601307189542,4854.592592592592,4318.413043478261,4776.083333333333,6462.041666666667,6621.083333333333,11847.0,6054.2594936708865,7823.6864864864865,10538.31623931624,3534.5,22842.716845878138,5676.444444444444,4036.0943396226417,4362.916666666667,6855.976525821597,11432.459854014598,5054.068493150685,9749.41,3797.0,7516.747252747253,2249.5,842.0,9179.89705882353,11388.43137254902,7178.891566265061,2690.285714285714,9658.32142857143,4083.5,4754.493150684932,2126.294117647059,8772.981132075472,8159.446927374302,6240.073033707865,7575.788079470199,2185.5,6700.431654676259,10973.48161764706,10503.623287671233,4334.4375,9427.436974789916,3866.40625,8033.384615384615,5100.141414141414,3368.2,7334.0,5783.708333333333,6492.964566929134,7004.424657534247,8425.101063829787,4611.096774193548,12806.922448979592,5674.837209302325,5789.338028169014,8327.528037383177,5391.545454545455,2592.0,1619.8,3027.6666666666665,5367.5,14840.966480446927,4354.558823529412,7180.096774193548,6597.042168674699,9097.119453924915,5426.5,2022.0,5677.627118644068,8724.975609756097,2815.2272727272725,6244.857142857143,4091.0898876404494,3534.9285714285716,7119.0,5525.024390243902,10219.295302013423,2489.55,5474.25,10684.791666666666,2878.25,10650.578947368422,5855.157142857143,7751.5875,10679.401315789473,10022.5,5237.757352941177,12420.849397590362,2982.6470588235293,5231.420560747663,5930.111111111111,5010.5,6947.226190476191,3628.6296296296296,3221.0,4872.333333333333,5957.85294117647,11067.538461538461,3957.4074074074074,3047.6153846153848,9176.654275092937,7056.188172043011,12016.51923076923,6101.6484375,7773.834024896266,6225.235294117647,9800.67901234568,4665.0,30373.808917197453,5297.166666666667,6664.042372881356,6752.772727272727,6631.327272727272,4151.697674418605,4173.818181818182,11067.265957446809,4270.676470588235,8326.48695652174,4594.0,4634.3725490196075,7492.660869565218,11392.042253521127,6029.680365296804,6796.765625,4583.388888888889,7363.657657657658,5072.008196721312,11078.947368421053,6512.392857142857,4268.285714285715,5810.122448979592,4683.894736842105,6348.96,3781.1428571428573,6139.453815261044,7018.326530612245,7571.364161849711,9444.591240875912,8740.45751633987,7896.857142857143,11188.40329218107,6986.006734006734,7040.6,13963.737704918032,5976.466666666666,5678.790178571428,4716.281818181818,12500.575,8841.230215827338,2796.0,5063.53125,10314.84375,4186.029411764706,7886.4409937888195,1970.0454545454545,2763.6666666666665,10029.570422535211,8607.84023668639,6173.777777777777,7236.80985915493,5625.51282051282,10377.72131147541,3605.128205128205,7659.848039215686,7579.263157894737,8355.887218045113,5035.275,7130.084507042254,3841.1794871794873,4849.583333333333,4065.8571428571427,14811.06111111111,9668.5,9236.6625,2070.6,6026.03125,8661.831460674157,8694.0,7027.695238095238,9543.795454545454,6224.0,9751.026490066226,9799.058035714286,11862.106796116504,5168.692307692308,7868.7959183673465,10306.17679558011,6216.906976744186,4879.794871794872,5936.105882352941,9986.885416666666,3543.744680851064,5747.538461538462,5947.87012987013,6404.068965517241,6043.875,6108.025125628141,5009.354166666667,5833.09375,9046.018072289156,2298.9166666666665,8707.86348122867,7788.454954954955,5826.662280701755,4040.8444444444444,16378.346153846154,15031.90909090909,5532.674418604651,11267.666666666666,6013.5,null,7551.805555555556,5301.976190476191,15531.048128342247,4206.56,5954.345911949686,4824.428571428572,11192.849740932643,3581.1470588235293,6940.0921052631575,5996.876811594203,10348.45588235294,2821.1052631578946,1762.0,4400.733766233766,8065.125,2930.3571428571427,3477.2,4632.646551724138,5577.923076923077,3481.0,2487.875,4914.533333333334,4705.208333333333,8433.76404494382,4666.826815642458,7734.979797979798,8954.0,10258.529761904761,4226.317073170731,3715.535714285714,3114.9666666666667,7733.049056603773,8310.506666666666,4312.333333333333,7384.0,6771.524193548387,6637.962025316456,8053.4496644295305,1944.75,5905.081081081081,2569.75,5883.4,8423.255102040815,10233.407692307692,7195.125,2865.84,5346.542857142857,5045.2,6657.0,6585.666666666667,11088.036764705883,5067.191489361702,3827.1724137931033,7649.065789473684,11258.5,6175.533333333334,4790.027027027027,6026.6,11288.92,6710.5,8998.067226890757,8061.527777777777,8254.573170731708,4759.470588235294,3939.3571428571427,8763.020689655172,6715.818181818182,7671.0,9885.525,2450.0526315789475,8075.318181818182,4432.0,9809.526570048309,9223.83962264151,5056.619047619048,4700.0,2508.375,3960.6769230769232,5597.782051282052,7837.067164179104,5585.58,15405.474489795919,3157.818181818182,6076.748201438849,3805.0833333333335,6384.557894736842,4722.3540372670805,4089.125,1745.3333333333333,5666.5,3128.090909090909,3890.55,6715.314285714286,8469.705521472393,6284.333333333333,3042.0,6369.037974683544,4246.928571428572,10180.423076923076,7836.933333333333,8407.062857142857,7721.1122448979595,6373.25,6125.0609756097565,5340.045454545455,5119.854838709677,10991.670731707318,3464.375,4164.0,3266.266666666667,7223.504587155963,6163.480392156863,8982.180327868853,7349.955882352941,12063.053380782918,9342.782608695652,5222.287037037037,5701.058823529412,3099.8333333333335,3914.5714285714284,12560.666666666666,5374.016304347826,6805.360215053764,2981.5,7476.959349593496,5066.518518518518,3775.6290322580644,4788.642857142857,2852.1,8267.3671875,6787.214689265536,6016.25,3501.6666666666665,2727.5,6061.56338028169,4297.8490566037735,9448.098360655738,6990.919354838709,3172.5,3104.0,6768.9701492537315,5084.774193548387,3432.046511627907,4475.977272727273,2585.777777777778,12608.267015706806,11985.082278481013,7233.0625,8265.146666666667,8866.954128440368,5966.213114754099,11263.52972972973,7450.0058139534885,5869.992592592593,8467.031446540881,6743.24,9577.093023255815,2882.6666666666665,5994.297619047619,4320.446808510638,4528.7692307692305,6671.111111111111,5757.865384615385,6016.727272727273,12910.075342465754,6502.085271317829,10024.56462585034,10462.384146341463,6911.574257425743,6357.34375,6964.261538461538,12012.966101694916,5674.0615384615385,15796.350553505536,12252.154761904761,13587.165562913908,10827.728571428572,8891.847457627118,5258.895833333333,5318.730158730159,7972.170731707317,6724.588235294118,4621.8,7415.496,6716.140243902439,6683.737704918033,9839.112612612613,5509.271794871795,13721.063909774437,7284.416666666667,3855.3939393939395,1612.3,8399.670212765957,6162.5,7955.147727272727,6322.097222222223,4484.166666666667,9275.5,6133.836734693878,4769.959183673469,4520.76,5778.238805970149,7217.102803738318,8815.252808988764,4588.307692307692,5590.575342465753,8111.9473684210525,14835.107883817427,7929.309352517986,8857.828451882846,7237.955555555555,5280.237288135593,10872.842105263158,6237.488,13705.69547325103,6553.038095238096,8578.194915254237,4813.172413793103,4906.56,5120.888888888889,10229.354838709678,7647.535483870968,8583.029411764706,11772.77358490566,8735.19512195122,10432.363157894737,16026.470238095239,8286.888888888889,15382.097826086956,7377.982456140351,2645.5714285714284,7818.67,10098.792452830188,3385.391304347826,3653.4285714285716,10802.38028169014,3931.5625,8316.64393939394,5071.025,7992.0,8748.851485148514,4581.2,1765.2,3504.346153846154,7644.603773584906,null,4587.884615384615,9596.243902439024,7891.366666666667,7349.151260504202,3763.2297297297296,4877.818181818182,1289.5555555555557,9026.97435897436,4727.95652173913,9766.056910569107,11143.52564102564,null,9087.903553299493,6077.804511278196,10503.421052631578,6385.8,5036.8432835820895,10071.6328125,3143.1666666666665,8045.098591549296,6475.777777777777,7561.5502183406115,4881.263736263736,7167.248120300752,6516.208333333333,4268.727272727273,6320.556213017751,7592.163265306122,8539.42,4636.0,10107.32319391635,9760.972413793104,2985.3783783783783,7828.305882352941,2979.78125,3433.285714285714,5132.541666666667,12479.41056910569,6548.548571428571,6247.392156862745,4268.123595505618,6943.5,5461.251497005988,5883.12676056338,4642.855172413793,7723.828947368421,6693.333333333333,4388.444444444444,5834.459016393443,6644.596566523605,6536.5703125,9178.101351351352,7697.045045045045,5807.092783505154,7836.076271186441,4466.9,2445.6176470588234,4645.741666666667,7501.581081081081,4766.857142857143,10331.408163265307,9164.48275862069,4.0,6049.1578947368425,2923.3333333333335,6245.006060606061,5303.644736842105,5816.226415094339,8713.32701421801,8978.548507462687,7553.311111111111,6322.521739130435,9724.11374407583,3843.875,3483.785714285714,5311.017045454545,1916.8,7669.804878048781,3815.0555555555557,9429.463917525773,4457.812080536913,5383.709677419355,5461.118644067797,7237.09375,4318.818181818182,4262.46511627907,12042.204819277109,4356.233766233766,8966.31182795699,3469.5333333333333,4842.268292682927,6032.504424778761,4939.666666666667,5799.333333333333,7722.712871287129,5293.020618556701,3551.075,4126.163636363636,4672.928571428572,4925.75,2775.5789473684213,8898.241935483871,16487.87116564417,4373.84693877551,2501.25,6561.521367521367,9693.657894736842,4161.523809523809,5406.454545454545,6046.574324324324,7877.932203389831,1853.5,3594.2105263157896,4665.010752688172,5297.40625,5377.212765957447,3475.285714285714,9483.406593406593,5795.653333333334,8606.416216216216,8416.733333333334,8152.2830188679245,4463.508670520231,5016.523809523809,7557.238095238095,3034.0,7440.795454545455,9334.805084745763,7596.577639751553,4303.593406593406,7258.4,4228.5344827586205,3939.7078651685392,8425.365853658537,9206.522448979591,3324.269230769231,5503.307692307692,8456.82142857143,6866.608490566037,6595.135135135135,7190.347368421053,4535.529411764706,9608.205128205129,10531.203488372093,3208.5263157894738,2743.875,5678.771028037383,3619.866666666667,4981.70786516854,6060.064814814815,4444.419354838709,4303.0,5065.184466019417,4937.461538461538,3729.5882352941176,6103.592307692307,3432.9777777777776,4140.419354838709,1598.0,6297.523809523809,10076.676056338029,8051.935344827586,10283.625,4556.909090909091,8324.0,7812.025423728814,10205.624365482234,5059.448275862069,6951.125,7757.153846153846,3192.2,6202.5,10343.807272727272,7885.16,4112.375,5224.632352941177,4010.732558139535,4868.040816326531,2993.3333333333335,10192.526315789473,4979.9152542372885,11047.805309734513,5560.1,3627.9210526315787,6312.419354838709,6480.582191780822,201722.6,4182.59,9189.738095238095,11308.566666666668,5489.0,6675.044943820225,4989.6,6722.631578947368,7618.0,7288.166666666667,1856.3333333333333,5562.459016393443,4110.28125,5298.0,7113.625668449198,9979.269076305221,11947.136363636364,5937.36170212766,5592.939393939394,5162.382113821138,4471.475113122172,4093.4444444444443,4825.45,12354.542222222222,5032.888888888889,4662.148148148148,1032.5,8880.427419354839,3794.24,9427.982905982906,5510.300970873786,6872.184782608696,5430.85,7958.7032967032965,7380.568181818182,5626.247967479675,6334.129032258064,11486.809523809523,10417.18811881188,7944.25,3809.1929824561403,12140.546558704453,3663.086956521739,8729.15671641791,5317.782608695652,11727.506787330316,2919.64,7046.832214765101,9397.938524590163,5534.206896551724,4319.75,8062.9098360655735,3241.5555555555557,6133.333333333333,13690.075862068965,7960.113924050633,8335.324324324325,6139.544303797468,11528.03305785124,5851.0,4894.865030674847,8903.358333333334,3495.0434782608695,9518.512605042017,3091.245614035088,3951.0070921985816,6416.401315789473,6856.6551724137935,6517.530487804878,1449.4,8965.275280898877,6285.386597938144,7939.314720812183,7147.275862068966,3901.4545454545455,8996.507246376812,9147.027397260274,7501.64,5365.241379310345,9794.0,10432.64705882353,5063.185185185185,3941.9189189189187,3502.5714285714284,5081.838235294118,6399.398550724638,4945.795698924731,5709.370892018779,3048.181818181818,6617.453333333333,4671.5,8542.422535211268,5439.0,6331.491803278688,20414.067039106147,6590.636363636364,8463.018181818183,7559.28813559322,7372.672727272728,7331.356097560975,15120.915492957747,6063.915662650603,4078.6666666666665,8093.725,7075.035714285715,4354.841269841269,10475.307692307691,4058.0555555555557,6680.076923076923,12701.654205607476,7981.484472049689,19893.464705882354,8128.739130434783,6195.266666666666,3951.1111111111113,5566.179487179487,2632.5,5911.620689655172,9647.762114537445,7736.7307692307695,7455.381395348837,4126.385714285714,6881.666666666667,5704.045871559633,13288.777777777777,7109.5,1210.0,10997.099290780141,6255.685393258427,4489.189189189189,2862.6969696969695,6691.338345864661,3744.7241379310344,5391.093406593406,3532.4285714285716,7772.929936305733,6414.6,9022.081196581197,6233.628571428571,5977.5,8247.150943396226,43912.307692307695,5296.027027027027,8218.367088607594,4795.341463414634,14009.206611570247,6464.31914893617,4817.1,5055.87037037037,3707.3142857142857,8964.023255813954,8548.153846153846,11059.615023474178,7311.3125,5266.285714285715,5070.666666666667,10903.825503355705,3387.0,15533.02380952381,1832.142857142857,6638.747474747474,4099.833333333333,10817.741935483871,6281.930817610063,6729.168539325843,9472.5625,4285.759259259259,15743.724738675959,5968.338461538461,7174.3239436619715,1914.75,13603.27734375,10457.031446540881,15213.159624413145,3786.1666666666665,7140.98347107438,5989.848920863309,5564.825581395349,9406.466666666667,9950.074074074075,13572.084507042253,3276.875,6930.907692307693,5174.375,6282.131868131868,4799.88,10030.326829268293,15679.67901234568,7584.467153284671],\"xaxis\":\"x\",\"yaxis\":\"y\",\"type\":\"histogram\"}],                        {\"template\":{\"data\":{\"bar\":[{\"error_x\":{\"color\":\"#2a3f5f\"},\"error_y\":{\"color\":\"#2a3f5f\"},\"marker\":{\"line\":{\"color\":\"#E5ECF6\",\"width\":0.5},\"pattern\":{\"fillmode\":\"overlay\",\"size\":10,\"solidity\":0.2}},\"type\":\"bar\"}],\"barpolar\":[{\"marker\":{\"line\":{\"color\":\"#E5ECF6\",\"width\":0.5},\"pattern\":{\"fillmode\":\"overlay\",\"size\":10,\"solidity\":0.2}},\"type\":\"barpolar\"}],\"carpet\":[{\"aaxis\":{\"endlinecolor\":\"#2a3f5f\",\"gridcolor\":\"white\",\"linecolor\":\"white\",\"minorgridcolor\":\"white\",\"startlinecolor\":\"#2a3f5f\"},\"baxis\":{\"endlinecolor\":\"#2a3f5f\",\"gridcolor\":\"white\",\"linecolor\":\"white\",\"minorgridcolor\":\"white\",\"startlinecolor\":\"#2a3f5f\"},\"type\":\"carpet\"}],\"choropleth\":[{\"colorbar\":{\"outlinewidth\":0,\"ticks\":\"\"},\"type\":\"choropleth\"}],\"contour\":[{\"colorbar\":{\"outlinewidth\":0,\"ticks\":\"\"},\"colorscale\":[[0.0,\"#0d0887\"],[0.1111111111111111,\"#46039f\"],[0.2222222222222222,\"#7201a8\"],[0.3333333333333333,\"#9c179e\"],[0.4444444444444444,\"#bd3786\"],[0.5555555555555556,\"#d8576b\"],[0.6666666666666666,\"#ed7953\"],[0.7777777777777778,\"#fb9f3a\"],[0.8888888888888888,\"#fdca26\"],[1.0,\"#f0f921\"]],\"type\":\"contour\"}],\"contourcarpet\":[{\"colorbar\":{\"outlinewidth\":0,\"ticks\":\"\"},\"type\":\"contourcarpet\"}],\"heatmap\":[{\"colorbar\":{\"outlinewidth\":0,\"ticks\":\"\"},\"colorscale\":[[0.0,\"#0d0887\"],[0.1111111111111111,\"#46039f\"],[0.2222222222222222,\"#7201a8\"],[0.3333333333333333,\"#9c179e\"],[0.4444444444444444,\"#bd3786\"],[0.5555555555555556,\"#d8576b\"],[0.6666666666666666,\"#ed7953\"],[0.7777777777777778,\"#fb9f3a\"],[0.8888888888888888,\"#fdca26\"],[1.0,\"#f0f921\"]],\"type\":\"heatmap\"}],\"heatmapgl\":[{\"colorbar\":{\"outlinewidth\":0,\"ticks\":\"\"},\"colorscale\":[[0.0,\"#0d0887\"],[0.1111111111111111,\"#46039f\"],[0.2222222222222222,\"#7201a8\"],[0.3333333333333333,\"#9c179e\"],[0.4444444444444444,\"#bd3786\"],[0.5555555555555556,\"#d8576b\"],[0.6666666666666666,\"#ed7953\"],[0.7777777777777778,\"#fb9f3a\"],[0.8888888888888888,\"#fdca26\"],[1.0,\"#f0f921\"]],\"type\":\"heatmapgl\"}],\"histogram\":[{\"marker\":{\"pattern\":{\"fillmode\":\"overlay\",\"size\":10,\"solidity\":0.2}},\"type\":\"histogram\"}],\"histogram2d\":[{\"colorbar\":{\"outlinewidth\":0,\"ticks\":\"\"},\"colorscale\":[[0.0,\"#0d0887\"],[0.1111111111111111,\"#46039f\"],[0.2222222222222222,\"#7201a8\"],[0.3333333333333333,\"#9c179e\"],[0.4444444444444444,\"#bd3786\"],[0.5555555555555556,\"#d8576b\"],[0.6666666666666666,\"#ed7953\"],[0.7777777777777778,\"#fb9f3a\"],[0.8888888888888888,\"#fdca26\"],[1.0,\"#f0f921\"]],\"type\":\"histogram2d\"}],\"histogram2dcontour\":[{\"colorbar\":{\"outlinewidth\":0,\"ticks\":\"\"},\"colorscale\":[[0.0,\"#0d0887\"],[0.1111111111111111,\"#46039f\"],[0.2222222222222222,\"#7201a8\"],[0.3333333333333333,\"#9c179e\"],[0.4444444444444444,\"#bd3786\"],[0.5555555555555556,\"#d8576b\"],[0.6666666666666666,\"#ed7953\"],[0.7777777777777778,\"#fb9f3a\"],[0.8888888888888888,\"#fdca26\"],[1.0,\"#f0f921\"]],\"type\":\"histogram2dcontour\"}],\"mesh3d\":[{\"colorbar\":{\"outlinewidth\":0,\"ticks\":\"\"},\"type\":\"mesh3d\"}],\"parcoords\":[{\"line\":{\"colorbar\":{\"outlinewidth\":0,\"ticks\":\"\"}},\"type\":\"parcoords\"}],\"pie\":[{\"automargin\":true,\"type\":\"pie\"}],\"scatter\":[{\"marker\":{\"colorbar\":{\"outlinewidth\":0,\"ticks\":\"\"}},\"type\":\"scatter\"}],\"scatter3d\":[{\"line\":{\"colorbar\":{\"outlinewidth\":0,\"ticks\":\"\"}},\"marker\":{\"colorbar\":{\"outlinewidth\":0,\"ticks\":\"\"}},\"type\":\"scatter3d\"}],\"scattercarpet\":[{\"marker\":{\"colorbar\":{\"outlinewidth\":0,\"ticks\":\"\"}},\"type\":\"scattercarpet\"}],\"scattergeo\":[{\"marker\":{\"colorbar\":{\"outlinewidth\":0,\"ticks\":\"\"}},\"type\":\"scattergeo\"}],\"scattergl\":[{\"marker\":{\"colorbar\":{\"outlinewidth\":0,\"ticks\":\"\"}},\"type\":\"scattergl\"}],\"scattermapbox\":[{\"marker\":{\"colorbar\":{\"outlinewidth\":0,\"ticks\":\"\"}},\"type\":\"scattermapbox\"}],\"scatterpolar\":[{\"marker\":{\"colorbar\":{\"outlinewidth\":0,\"ticks\":\"\"}},\"type\":\"scatterpolar\"}],\"scatterpolargl\":[{\"marker\":{\"colorbar\":{\"outlinewidth\":0,\"ticks\":\"\"}},\"type\":\"scatterpolargl\"}],\"scatterternary\":[{\"marker\":{\"colorbar\":{\"outlinewidth\":0,\"ticks\":\"\"}},\"type\":\"scatterternary\"}],\"surface\":[{\"colorbar\":{\"outlinewidth\":0,\"ticks\":\"\"},\"colorscale\":[[0.0,\"#0d0887\"],[0.1111111111111111,\"#46039f\"],[0.2222222222222222,\"#7201a8\"],[0.3333333333333333,\"#9c179e\"],[0.4444444444444444,\"#bd3786\"],[0.5555555555555556,\"#d8576b\"],[0.6666666666666666,\"#ed7953\"],[0.7777777777777778,\"#fb9f3a\"],[0.8888888888888888,\"#fdca26\"],[1.0,\"#f0f921\"]],\"type\":\"surface\"}],\"table\":[{\"cells\":{\"fill\":{\"color\":\"#EBF0F8\"},\"line\":{\"color\":\"white\"}},\"header\":{\"fill\":{\"color\":\"#C8D4E3\"},\"line\":{\"color\":\"white\"}},\"type\":\"table\"}]},\"layout\":{\"annotationdefaults\":{\"arrowcolor\":\"#2a3f5f\",\"arrowhead\":0,\"arrowwidth\":1},\"autotypenumbers\":\"strict\",\"coloraxis\":{\"colorbar\":{\"outlinewidth\":0,\"ticks\":\"\"}},\"colorscale\":{\"diverging\":[[0,\"#8e0152\"],[0.1,\"#c51b7d\"],[0.2,\"#de77ae\"],[0.3,\"#f1b6da\"],[0.4,\"#fde0ef\"],[0.5,\"#f7f7f7\"],[0.6,\"#e6f5d0\"],[0.7,\"#b8e186\"],[0.8,\"#7fbc41\"],[0.9,\"#4d9221\"],[1,\"#276419\"]],\"sequential\":[[0.0,\"#0d0887\"],[0.1111111111111111,\"#46039f\"],[0.2222222222222222,\"#7201a8\"],[0.3333333333333333,\"#9c179e\"],[0.4444444444444444,\"#bd3786\"],[0.5555555555555556,\"#d8576b\"],[0.6666666666666666,\"#ed7953\"],[0.7777777777777778,\"#fb9f3a\"],[0.8888888888888888,\"#fdca26\"],[1.0,\"#f0f921\"]],\"sequentialminus\":[[0.0,\"#0d0887\"],[0.1111111111111111,\"#46039f\"],[0.2222222222222222,\"#7201a8\"],[0.3333333333333333,\"#9c179e\"],[0.4444444444444444,\"#bd3786\"],[0.5555555555555556,\"#d8576b\"],[0.6666666666666666,\"#ed7953\"],[0.7777777777777778,\"#fb9f3a\"],[0.8888888888888888,\"#fdca26\"],[1.0,\"#f0f921\"]]},\"colorway\":[\"#636efa\",\"#EF553B\",\"#00cc96\",\"#ab63fa\",\"#FFA15A\",\"#19d3f3\",\"#FF6692\",\"#B6E880\",\"#FF97FF\",\"#FECB52\"],\"font\":{\"color\":\"#2a3f5f\"},\"geo\":{\"bgcolor\":\"white\",\"lakecolor\":\"white\",\"landcolor\":\"#E5ECF6\",\"showlakes\":true,\"showland\":true,\"subunitcolor\":\"white\"},\"hoverlabel\":{\"align\":\"left\"},\"hovermode\":\"closest\",\"mapbox\":{\"style\":\"light\"},\"paper_bgcolor\":\"white\",\"plot_bgcolor\":\"#E5ECF6\",\"polar\":{\"angularaxis\":{\"gridcolor\":\"white\",\"linecolor\":\"white\",\"ticks\":\"\"},\"bgcolor\":\"#E5ECF6\",\"radialaxis\":{\"gridcolor\":\"white\",\"linecolor\":\"white\",\"ticks\":\"\"}},\"scene\":{\"xaxis\":{\"backgroundcolor\":\"#E5ECF6\",\"gridcolor\":\"white\",\"gridwidth\":2,\"linecolor\":\"white\",\"showbackground\":true,\"ticks\":\"\",\"zerolinecolor\":\"white\"},\"yaxis\":{\"backgroundcolor\":\"#E5ECF6\",\"gridcolor\":\"white\",\"gridwidth\":2,\"linecolor\":\"white\",\"showbackground\":true,\"ticks\":\"\",\"zerolinecolor\":\"white\"},\"zaxis\":{\"backgroundcolor\":\"#E5ECF6\",\"gridcolor\":\"white\",\"gridwidth\":2,\"linecolor\":\"white\",\"showbackground\":true,\"ticks\":\"\",\"zerolinecolor\":\"white\"}},\"shapedefaults\":{\"line\":{\"color\":\"#2a3f5f\"}},\"ternary\":{\"aaxis\":{\"gridcolor\":\"white\",\"linecolor\":\"white\",\"ticks\":\"\"},\"baxis\":{\"gridcolor\":\"white\",\"linecolor\":\"white\",\"ticks\":\"\"},\"bgcolor\":\"#E5ECF6\",\"caxis\":{\"gridcolor\":\"white\",\"linecolor\":\"white\",\"ticks\":\"\"}},\"title\":{\"x\":0.05},\"xaxis\":{\"automargin\":true,\"gridcolor\":\"white\",\"linecolor\":\"white\",\"ticks\":\"\",\"title\":{\"standoff\":15},\"zerolinecolor\":\"white\",\"zerolinewidth\":2},\"yaxis\":{\"automargin\":true,\"gridcolor\":\"white\",\"linecolor\":\"white\",\"ticks\":\"\",\"title\":{\"standoff\":15},\"zerolinecolor\":\"white\",\"zerolinewidth\":2}}},\"xaxis\":{\"anchor\":\"y\",\"domain\":[0.0,1.0],\"title\":{\"text\":\"mean_step\"},\"range\":[0,50000]},\"yaxis\":{\"anchor\":\"x\",\"domain\":[0.0,1.0],\"title\":{\"text\":\"count\"}},\"legend\":{\"tracegroupgap\":0},\"title\":{\"text\":\"Average step\"},\"barmode\":\"relative\"},                        {\"responsive\": true}                    ).then(function(){\n",
       "                            \n",
       "var gd = document.getElementById('c1271174-cdb9-4593-bdfe-60f12c23d343');\n",
       "var x = new MutationObserver(function (mutations, observer) {{\n",
       "        var display = window.getComputedStyle(gd).display;\n",
       "        if (!display || display === 'none') {{\n",
       "            console.log([gd, 'removed!']);\n",
       "            Plotly.purge(gd);\n",
       "            observer.disconnect();\n",
       "        }}\n",
       "}});\n",
       "\n",
       "// Listen for the removal of the full notebook cells\n",
       "var notebookContainer = gd.closest('#notebook-container');\n",
       "if (notebookContainer) {{\n",
       "    x.observe(notebookContainer, {childList: true});\n",
       "}}\n",
       "\n",
       "// Listen for the clearing of the current output cell\n",
       "var outputEl = gd.closest('.output');\n",
       "if (outputEl) {{\n",
       "    x.observe(outputEl, {childList: true});\n",
       "}}\n",
       "\n",
       "                        })                };                });            </script>        </div>"
      ]
     },
     "metadata": {},
     "output_type": "display_data"
    }
   ],
   "source": [
    "#Graph of the distribution\n",
    "fig = px.histogram(df, x=\"mean_step\",title=\"Average step\", range_x = (0,50000))\n",
    "fig.show()"
   ]
  },
  {
   "cell_type": "code",
   "execution_count": 116,
   "id": "507f480d",
   "metadata": {
    "scrolled": true
   },
   "outputs": [
    {
     "name": "stderr",
     "output_type": "stream",
     "text": [
      "C:\\Users\\nirva\\anaconda3\\lib\\site-packages\\seaborn\\distributions.py:2619: FutureWarning:\n",
      "\n",
      "`distplot` is a deprecated function and will be removed in a future version. Please adapt your code to use either `displot` (a figure-level function with similar flexibility) or `histplot` (an axes-level function for histograms).\n",
      "\n"
     ]
    },
    {
     "data": {
      "image/png": "[encoded data removed]",
      "text/plain": [
       "<Figure size 432x288 with 1 Axes>"
      ]
     },
     "metadata": {
      "needs_background": "light"
     },
     "output_type": "display_data"
    }
   ],
   "source": [
    "# Same Graph of the distribution using matplotlib\n",
    "df['mean_step'] = df['mean_step'].apply(pd.to_numeric, errors='coerce')\n",
    "def above_25000(x):\n",
    "    if(x > 25000):\n",
    "        return float('NaN')\n",
    "    else:\n",
    "        return x\n",
    "df['mean_step'] = df['mean_step'].apply(above_25000)\n",
    "\n",
    "\n",
    "df['mean_step'].name = 'mean_step' #Labeling the variable for plotting\n",
    "age = df['mean_step'].dropna() #Selecting the size column. I need to drop the NA's, otherwise Seaborn won't plot\n",
    "sns.distplot(age, kde=False)\n",
    "plt.title('Average step')\n",
    "plt.show()"
   ]
  },
  {
   "cell_type": "code",
   "execution_count": 117,
   "id": "980bd31c",
   "metadata": {},
   "outputs": [
    {
     "data": {
      "text/plain": [
       "count      921.000000\n",
       "mean      6703.996351\n",
       "std       2948.662012\n",
       "min          4.000000\n",
       "25%       4634.372549\n",
       "50%       6240.073034\n",
       "75%       8327.528037\n",
       "max      22842.716846\n",
       "Name: mean_step, dtype: float64"
      ]
     },
     "execution_count": 117,
     "metadata": {},
     "output_type": "execute_result"
    }
   ],
   "source": [
    "#Summary statistics\n",
    "df[\"mean_step\"].describe()"
   ]
  },
  {
   "cell_type": "markdown",
   "id": "7b51612a",
   "metadata": {},
   "source": [
    "The histograme shows a positive distrubution with steps averaging from 0 to 16K. We notice a cuvy shape whith the pick. There are anomalies data that shows average step over 20k. Right tilted. "
   ]
  },
  {
   "cell_type": "markdown",
   "id": "11738102",
   "metadata": {},
   "source": [
    "The relation of mean steps per participant with two categorical variables (e.g. gender, age, education):"
   ]
  },
  {
   "cell_type": "code",
   "execution_count": 118,
   "id": "133edc6e",
   "metadata": {
    "scrolled": true
   },
   "outputs": [
    {
     "data": {
      "application/vnd.plotly.v1+json": {
       "config": {
        "plotlyServerURL": "https://plot.ly"
       },
       "data": [
        {
         "alignmentgroup": "True",
         "bingroup": "x",
         "histfunc": "sum",
         "hovertemplate": "gender=%{x}<br>sum of mean_step=%{y}<extra></extra>",
         "legendgroup": "",
         "marker": {
          "color": "#636efa",
          "pattern": {
           "shape": ""
          }
         },
         "name": "",
         "offsetgroup": "",
         "orientation": "v",
         "showlegend": false,
         "type": "histogram",
         "x": [
          "Male",
          "Male",
          "Male",
          "Male",
          "Female",
          "Male",
          "Male",
          "Female",
          "Female",
          "Female",
          "Female",
          "Female",
          "Male",
          "Male",
          "Female",
          "Male",
          "Male",
          "Male",
          "Male",
          "Female",
          "Male",
          "Female",
          "Male",
          "Male",
          "Male",
          "Male",
          "Female",
          "Female",
          "Female",
          "Female",
          "Male",
          "Male",
          "Female",
          "Female",
          "Female",
          "Male",
          "Male",
          "Female",
          "Male",
          "Male",
          "Male",
          "Male",
          "Female",
          "Female",
          "Male",
          "Male",
          "Female",
          "Male",
          "Male",
          "Male",
          "Female",
          "Female",
          "Female",
          "Male",
          "Male",
          "Male",
          "Male",
          "Female",
          "Female",
          "Male",
          "Male",
          "Female",
          "Male",
          "Male",
          "Female",
          "Male",
          "Female",
          "Female",
          "Female",
          "Male",
          "Female",
          "Female",
          "Male",
          "Male",
          "Male",
          "Female",
          "Male",
          "Male",
          "Male",
          "Male",
          "Female",
          "Male",
          "Female",
          "Male",
          "Female",
          "Female",
          "Male",
          "Female",
          "Female",
          "Female",
          "Female",
          "Male",
          "Male",
          "Male",
          "Female",
          "Female",
          "Female",
          "Male",
          "Female",
          "Male",
          "Male",
          "Female",
          "Female",
          "Male",
          "Male",
          "Male",
          "Female",
          "Male",
          "Female",
          "Female",
          "Male",
          "Male",
          "Male",
          "Male",
          "Male",
          "Male",
          "Male",
          "Female",
          "Female",
          "Female",
          "Female",
          "Male",
          "Female",
          "Female",
          "Female",
          "Female",
          "Female",
          "Female",
          "Male",
          "Female",
          "Male",
          "Male",
          "Female",
          "Female",
          "Female",
          "Male",
          "Female",
          "Male",
          "Female",
          "Male",
          "Male",
          "Male",
          "Male",
          "Female",
          "Female",
          "Male",
          "Female",
          "Female",
          "Male",
          "Male",
          "Female",
          "Male",
          "Male",
          "Female",
          "Female",
          "Male",
          "Male",
          "Female",
          "Female",
          "Female",
          "Male",
          "Female",
          "Male",
          "Male",
          "Male",
          "Female",
          "Female",
          "Male",
          "Female",
          "Female",
          "Female",
          "Female",
          "Male",
          "Female",
          "Female",
          "Male",
          "Male",
          "Male",
          "Female",
          "Male",
          "Female",
          "Female",
          "Female",
          "Female",
          "Female",
          "Female",
          "Male",
          "Male",
          "Female",
          "Male",
          "Male",
          "Male",
          "Male",
          "Female",
          "Female",
          "Male",
          "Female",
          "Female",
          "Female",
          "Female",
          "Female",
          "Female",
          "Female",
          "Male",
          "Male",
          "Female",
          "Female",
          "Female",
          "Male",
          "Female",
          "Female",
          "Male",
          "Female",
          "Female",
          "Male",
          "Female",
          "Female",
          "Female",
          "Female",
          "Male",
          "Female",
          "Male",
          "Female",
          "Male",
          "Female",
          "Female",
          "Female",
          "Male",
          "Female",
          "Female",
          "Female",
          "Male",
          "Male",
          "Female",
          "Female",
          "Female",
          "Female",
          "Male",
          "Male",
          "Female",
          "Female",
          "Female",
          "Male",
          "Female",
          "Male",
          "Female",
          "Female",
          "Female",
          "Female",
          "Male",
          "Male",
          "Male",
          "Male",
          "Male",
          "Female",
          "Female",
          "Male",
          "Male",
          "Male",
          "Female",
          "Female",
          "Male",
          "Male",
          "Male",
          "Male",
          "Female",
          "Female",
          "Female",
          "Female",
          "Male",
          "Male",
          "Male",
          "Male",
          "Male",
          "Female",
          "Female",
          "Male",
          "Female",
          "Male",
          "Female",
          "Female",
          "Female",
          "Male",
          "Male",
          "Female",
          "Female",
          "Female",
          "Male",
          "Female",
          "Male",
          "Male",
          "Female",
          "Female",
          "Female",
          "Male",
          "Female",
          "Male",
          "Female",
          "Male",
          "Female",
          "Male",
          "Female",
          "Female",
          "Female",
          "Male",
          "Male",
          "Male",
          "Female",
          "Male",
          "Female",
          "Female",
          "Male",
          "Male",
          "Female",
          "Male",
          "Male",
          "Female",
          "Male",
          "Male",
          "Male",
          "Male",
          "Female",
          "Female",
          "Female",
          "Female",
          "Male",
          "Male",
          "Male",
          "Male",
          "Female",
          "Female",
          "Female",
          "Male",
          "Female",
          "Male",
          "Female",
          "Male",
          "Male",
          "Female",
          "Male",
          "Male",
          "Male",
          "Male",
          "Female",
          "Female",
          "Male",
          "Male",
          "Male",
          "Female",
          "Male",
          "Female",
          "Female",
          "Male",
          "Female",
          "Male",
          "Male",
          "Female",
          "Female",
          "Male",
          "Female",
          "Female",
          "Male",
          "Female",
          "Female",
          "Female",
          "Female",
          "Male",
          "Male",
          "Female",
          "Male",
          "Male",
          "Female",
          "Female",
          "Female",
          "Male",
          "Male",
          "Female",
          "Female",
          "Male",
          "Male",
          "Male",
          "Male",
          "Male",
          "Male",
          "Female",
          "Female",
          "Male",
          "Female",
          "Male",
          "Female",
          "Male",
          "Female",
          "Male",
          "Male",
          "Female",
          "Male",
          "Male",
          "Male",
          "Male",
          "Female",
          "Male",
          "Male",
          "Male",
          "Female",
          "Female",
          "Male",
          "Male",
          "Female",
          "Female",
          "Male",
          "Male",
          "Female",
          "Male",
          "Male",
          "Female",
          "Female",
          "Male",
          "Female",
          "Male",
          "Male",
          "Male",
          "Female",
          "Male",
          "Female",
          "Female",
          "Female",
          "Male",
          "Female",
          "Female",
          "Male",
          "Female",
          "Male",
          "Male",
          "Female",
          "Male",
          "Female",
          "Male",
          "Male",
          "Male",
          "Male",
          "Male",
          "Male",
          "Female",
          "Male",
          "Female",
          "Male",
          "Female",
          "Male",
          "Female",
          "Female",
          "Female",
          "Female",
          "Female",
          "Male",
          "Male",
          "Male",
          "Male",
          "Female",
          "Female",
          "Male",
          "Male",
          "Male",
          "Female",
          "Female",
          "Female",
          "Male",
          "Male",
          "Female",
          "Male",
          "Male",
          "Male",
          "Female",
          "Female",
          "Female",
          "Female",
          "Male",
          "Male",
          "Male",
          "Male",
          "Male",
          "Female",
          "Female",
          "Female",
          "Male",
          "Male",
          "Female",
          "Female",
          "Male",
          "Female",
          "Female",
          "Female",
          "Female",
          "Male",
          "Male",
          "Female",
          "Female",
          "Male",
          "Male",
          "Male",
          "Male",
          "Male",
          "Female",
          "Male",
          "Male",
          "Female",
          "Male",
          "Female",
          "Female",
          "Male",
          "Female",
          "Male",
          "Female",
          "Male",
          "Female",
          "Male",
          "Female",
          "Female",
          "Male",
          "Female",
          "Female",
          "Female",
          "Male",
          "Female",
          "Male",
          "Male",
          "Female",
          "Female",
          "Male",
          "Female",
          "Male",
          "Male",
          "Female",
          "Female",
          "Female",
          "Male",
          "Male",
          "Male",
          "Female",
          "Male",
          "Female",
          "Female",
          "Female",
          "Female",
          "Male",
          "Male",
          "Male",
          "Male",
          "Female",
          "Female",
          "Male",
          "Female",
          "Male",
          "Male",
          "Male",
          "Male",
          "Female",
          "Male",
          "Male",
          "Male",
          "Female",
          "Male",
          "Male",
          "Male",
          "Male",
          "Female",
          "Male",
          "Male",
          "Female",
          "Female",
          "Male",
          "Female",
          "Male",
          "Male",
          "Male",
          "Male",
          "Male",
          "Male",
          "Male",
          "Male",
          "Female",
          "Male",
          "Male",
          "Female",
          "Male",
          "Female",
          "Female",
          "Male",
          "Male",
          "Male",
          "Female",
          "Male",
          "Female",
          "Male",
          "Male",
          "Male",
          "Male",
          "Male",
          "Male",
          "Male",
          "Female",
          "Male",
          "Male",
          "Male",
          "Female",
          "Male",
          "Female",
          "Female",
          "Female",
          "Male",
          "Male",
          "Male",
          "Male",
          "Female",
          "Female",
          "Male",
          "Female",
          "Male",
          "Female",
          "Male",
          "Male",
          "Male",
          "Male",
          "Male",
          "Female",
          "Male",
          "Male",
          "Male",
          "Male",
          "Male",
          "Female",
          "Female",
          "Male",
          "Female",
          "Female",
          "Male",
          "Male",
          "Male",
          "Female",
          "Male",
          "Female",
          "Female",
          "Male",
          "Female",
          "Female",
          "Male",
          "Male",
          "Female",
          "Female",
          "Male",
          "Male",
          "Male",
          "Male",
          "Female",
          "Female",
          "Male",
          "Male",
          "Male",
          "Female",
          "Male",
          "Male",
          "Male",
          "Male",
          "Male",
          "Male",
          "Male",
          "Female",
          "Male",
          "Female",
          "Male",
          "Male",
          "Male",
          "Female",
          "Female",
          "Male",
          "Female",
          "Female",
          "Female",
          "Female",
          "Male",
          "Male",
          "Male",
          "Male",
          "Female",
          "Male",
          "Female",
          "Female",
          "Male",
          "Male",
          "Female",
          "Male",
          "Female",
          "Male",
          "Male",
          "Male",
          "Male",
          "Male",
          "Female",
          "Female",
          "Female",
          "Female",
          "Male",
          "Female",
          "Female",
          "Male",
          "Male",
          "Female",
          "Male",
          "Female",
          "Male",
          "Male",
          "Female",
          "Female",
          "Female",
          "Male",
          "Male",
          "Male",
          "Male",
          "Female",
          "Male",
          "Male",
          "Male",
          "Female",
          "Male",
          "Male",
          "Male",
          "Male",
          "Female",
          "Male",
          "Female",
          "Female",
          "Female",
          "Male",
          "Male",
          "Male",
          "Male",
          "Male",
          "Male",
          "Male",
          "Male",
          "Male",
          "Female",
          "Female",
          "Male",
          "Female",
          "Female",
          "Female",
          "Female",
          "Female",
          "Female",
          "Female",
          "Female",
          "Female",
          "Female",
          "Male",
          "Male",
          "Female",
          "Male",
          "Male",
          "Male",
          "Female",
          "Male",
          "Male",
          "Male",
          "Female",
          "Male",
          "Male",
          "Female",
          "Male",
          "Male",
          "Male",
          "Female",
          "Female",
          "Male",
          "Male",
          "Male",
          "Female",
          "Female",
          "Female",
          "Male",
          "Male",
          "Female",
          "Male",
          "Female",
          "Male",
          "Female",
          "Female",
          "Male",
          "Female",
          "Female",
          "Male",
          "Male",
          "Male",
          "Female",
          "Male",
          "Male",
          "Female",
          "Male",
          "Female",
          "Male",
          "Female",
          "Male",
          "Male",
          "Female",
          "Female",
          "Female",
          "Female",
          "Male",
          "Female",
          "Female",
          "Male",
          "Female",
          "Female",
          "Male",
          "Male",
          "Female",
          "Male",
          "Female",
          "Female",
          "Female",
          "Male",
          "Female",
          "Female",
          "Male",
          "Female",
          "Female",
          "Male",
          "Female",
          "Male",
          "Male",
          "Male",
          "Male",
          "Male",
          "Female",
          "Male",
          "Male",
          "Male",
          "Female",
          "Female",
          "Male",
          "Female",
          "Female",
          "Female",
          "Male",
          "Male",
          "Male",
          "Male",
          "Male",
          "Male",
          "Female",
          "Female",
          "Male",
          "Female",
          "Male",
          "Male",
          "Female",
          "Male",
          "Male",
          "Female",
          "Male",
          "Female",
          "Male",
          "Male",
          "Female",
          "Male",
          "Female",
          "Male",
          "Female",
          "Male",
          "Male",
          "Male",
          "Male",
          "Male",
          "Male",
          "Female",
          "Female",
          "Female",
          "Male",
          "Male",
          "Male",
          "Male",
          "Female",
          "Female",
          "Female",
          "Female",
          "Male",
          "Female",
          "Male",
          "Female",
          "Female",
          "Female",
          "Female",
          "Female",
          "Male",
          "Female",
          "Male",
          "Male",
          "Male",
          "Male",
          "Female",
          "Male",
          "Female",
          "Male",
          "Female",
          "Female",
          "Female",
          "Female",
          "Male",
          "Female",
          "Female",
          "Male",
          "Male",
          "Male",
          "Female",
          "Female",
          "Male",
          "Female",
          "Female",
          "Male",
          "Female",
          "Male",
          "Female",
          "Female",
          "Male",
          "Male",
          "Female",
          "Male",
          "Male",
          "Female",
          "Male"
         ],
         "xaxis": "x",
         "y": [
          10205.521212121212,
          5687.423312883436,
          8301.72972972973,
          3633.2,
          5312.12962962963,
          11908.509803921568,
          4715.4,
          3594.051724137931,
          8626.70796460177,
          3787.0434782608695,
          6626.9098360655735,
          1303.611111111111,
          5622.133333333333,
          9214.798076923076,
          2664.4615384615386,
          9994.432692307691,
          9791.608695652174,
          null,
          4696.526315789473,
          10587.986577181207,
          6235.238095238095,
          5667.045977011494,
          6769.695652173913,
          3885,
          3021.181818181818,
          12565.815789473685,
          6330.03125,
          7969.027586206897,
          4745.2,
          5525.080459770115,
          1218.5,
          12005.373665480427,
          6839.791666666667,
          5571.338983050848,
          8997.1,
          5790.273972602739,
          5051.865384615385,
          7013.284403669725,
          6208.58152173913,
          7144.333333333333,
          6951.46511627907,
          4174.9375,
          4235.260869565217,
          7326.1736842105265,
          8491.308333333332,
          4304.121212121212,
          8788.79057591623,
          8205.015625,
          8948.551724137931,
          4343.657142857143,
          5905.079831932773,
          4335.1,
          3689.4583333333335,
          4171.02,
          3855.5,
          1958.6666666666667,
          4459.923611111111,
          10773.95,
          9841.166666666666,
          5248.7,
          9140.409356725146,
          13409.394736842105,
          8854.00790513834,
          4085.6206896551726,
          5120.8442622950815,
          8786.64705882353,
          8069.644927536232,
          15178.09009009009,
          4706.466666666666,
          5638.626666666667,
          4625.666666666667,
          6582.890804597701,
          6035.454545454545,
          5453.8875,
          9026.774774774774,
          7155.733333333334,
          6836.855670103093,
          7348,
          8799.25925925926,
          3532,
          8084.109195402299,
          6375.732673267326,
          5545,
          7459.564705882353,
          3115.7368421052633,
          5482.333333333333,
          5565.207547169812,
          7085.573333333334,
          5388.909090909091,
          5078.851063829788,
          8978.511764705883,
          4945.736842105263,
          4440.2,
          7410.7,
          4374.104166666667,
          null,
          3964.0454545454545,
          3732.3055555555557,
          7674.601307189542,
          4854.592592592592,
          4318.413043478261,
          4776.083333333333,
          6462.041666666667,
          6621.083333333333,
          11847,
          6054.2594936708865,
          7823.6864864864865,
          10538.31623931624,
          3534.5,
          22842.716845878138,
          5676.444444444444,
          4036.0943396226417,
          4362.916666666667,
          6855.976525821597,
          11432.459854014598,
          5054.068493150685,
          9749.41,
          3797,
          7516.747252747253,
          2249.5,
          842,
          9179.89705882353,
          11388.43137254902,
          7178.891566265061,
          2690.285714285714,
          9658.32142857143,
          4083.5,
          4754.493150684932,
          2126.294117647059,
          8772.981132075472,
          8159.446927374302,
          6240.073033707865,
          7575.788079470199,
          2185.5,
          6700.431654676259,
          10973.48161764706,
          10503.623287671233,
          4334.4375,
          9427.436974789916,
          3866.40625,
          8033.384615384615,
          5100.141414141414,
          3368.2,
          7334,
          5783.708333333333,
          6492.964566929134,
          7004.424657534247,
          8425.101063829787,
          4611.096774193548,
          12806.922448979592,
          5674.837209302325,
          5789.338028169014,
          8327.528037383177,
          5391.545454545455,
          2592,
          1619.8,
          3027.6666666666665,
          5367.5,
          14840.966480446927,
          4354.558823529412,
          7180.096774193548,
          6597.042168674699,
          9097.119453924915,
          5426.5,
          2022,
          5677.627118644068,
          8724.975609756097,
          2815.2272727272725,
          6244.857142857143,
          4091.0898876404494,
          3534.9285714285716,
          7119,
          5525.024390243902,
          10219.295302013423,
          2489.55,
          5474.25,
          10684.791666666666,
          2878.25,
          10650.578947368422,
          5855.157142857143,
          7751.5875,
          10679.401315789473,
          10022.5,
          5237.757352941177,
          12420.849397590362,
          2982.6470588235293,
          5231.420560747663,
          5930.111111111111,
          5010.5,
          6947.226190476191,
          3628.6296296296296,
          3221,
          4872.333333333333,
          5957.85294117647,
          11067.538461538461,
          3957.4074074074074,
          3047.6153846153848,
          9176.654275092937,
          7056.188172043011,
          12016.51923076923,
          6101.6484375,
          7773.834024896266,
          6225.235294117647,
          9800.67901234568,
          4665,
          null,
          5297.166666666667,
          6664.042372881356,
          6752.772727272727,
          6631.327272727272,
          4151.697674418605,
          4173.818181818182,
          11067.265957446809,
          4270.676470588235,
          8326.48695652174,
          4594,
          4634.3725490196075,
          7492.660869565218,
          11392.042253521127,
          6029.680365296804,
          6796.765625,
          4583.388888888889,
          7363.657657657658,
          5072.008196721312,
          11078.947368421053,
          6512.392857142857,
          4268.285714285715,
          5810.122448979592,
          4683.894736842105,
          6348.96,
          3781.1428571428573,
          6139.453815261044,
          7018.326530612245,
          7571.364161849711,
          9444.591240875912,
          8740.45751633987,
          7896.857142857143,
          11188.40329218107,
          6986.006734006734,
          7040.6,
          13963.737704918032,
          5976.466666666666,
          5678.790178571428,
          4716.281818181818,
          12500.575,
          8841.230215827338,
          2796,
          5063.53125,
          10314.84375,
          4186.029411764706,
          7886.4409937888195,
          1970.0454545454545,
          2763.6666666666665,
          10029.570422535211,
          8607.84023668639,
          6173.777777777777,
          7236.80985915493,
          5625.51282051282,
          10377.72131147541,
          3605.128205128205,
          7659.848039215686,
          7579.263157894737,
          8355.887218045113,
          5035.275,
          7130.084507042254,
          3841.1794871794873,
          4849.583333333333,
          4065.8571428571427,
          14811.06111111111,
          9668.5,
          9236.6625,
          2070.6,
          6026.03125,
          8661.831460674157,
          8694,
          7027.695238095238,
          9543.795454545454,
          6224,
          9751.026490066226,
          9799.058035714286,
          11862.106796116504,
          5168.692307692308,
          7868.7959183673465,
          10306.17679558011,
          6216.906976744186,
          4879.794871794872,
          5936.105882352941,
          9986.885416666666,
          3543.744680851064,
          5747.538461538462,
          5947.87012987013,
          6404.068965517241,
          6043.875,
          6108.025125628141,
          5009.354166666667,
          5833.09375,
          9046.018072289156,
          2298.9166666666665,
          8707.86348122867,
          7788.454954954955,
          5826.662280701755,
          4040.8444444444444,
          16378.346153846154,
          15031.90909090909,
          5532.674418604651,
          11267.666666666666,
          6013.5,
          null,
          7551.805555555556,
          5301.976190476191,
          15531.048128342247,
          4206.56,
          5954.345911949686,
          4824.428571428572,
          11192.849740932643,
          3581.1470588235293,
          6940.0921052631575,
          5996.876811594203,
          10348.45588235294,
          2821.1052631578946,
          1762,
          4400.733766233766,
          8065.125,
          2930.3571428571427,
          3477.2,
          4632.646551724138,
          5577.923076923077,
          3481,
          2487.875,
          4914.533333333334,
          4705.208333333333,
          8433.76404494382,
          4666.826815642458,
          7734.979797979798,
          8954,
          10258.529761904761,
          4226.317073170731,
          3715.535714285714,
          3114.9666666666667,
          7733.049056603773,
          8310.506666666666,
          4312.333333333333,
          7384,
          6771.524193548387,
          6637.962025316456,
          8053.4496644295305,
          1944.75,
          5905.081081081081,
          2569.75,
          5883.4,
          8423.255102040815,
          10233.407692307692,
          7195.125,
          2865.84,
          5346.542857142857,
          5045.2,
          6657,
          6585.666666666667,
          11088.036764705883,
          5067.191489361702,
          3827.1724137931033,
          7649.065789473684,
          11258.5,
          6175.533333333334,
          4790.027027027027,
          6026.6,
          11288.92,
          6710.5,
          8998.067226890757,
          8061.527777777777,
          8254.573170731708,
          4759.470588235294,
          3939.3571428571427,
          8763.020689655172,
          6715.818181818182,
          7671,
          9885.525,
          2450.0526315789475,
          8075.318181818182,
          4432,
          9809.526570048309,
          9223.83962264151,
          5056.619047619048,
          4700,
          2508.375,
          3960.6769230769232,
          5597.782051282052,
          7837.067164179104,
          5585.58,
          15405.474489795919,
          3157.818181818182,
          6076.748201438849,
          3805.0833333333335,
          6384.557894736842,
          4722.3540372670805,
          4089.125,
          1745.3333333333333,
          5666.5,
          3128.090909090909,
          3890.55,
          6715.314285714286,
          8469.705521472393,
          6284.333333333333,
          3042,
          6369.037974683544,
          4246.928571428572,
          10180.423076923076,
          7836.933333333333,
          8407.062857142857,
          7721.1122448979595,
          6373.25,
          6125.0609756097565,
          5340.045454545455,
          5119.854838709677,
          10991.670731707318,
          3464.375,
          4164,
          3266.266666666667,
          7223.504587155963,
          6163.480392156863,
          8982.180327868853,
          7349.955882352941,
          12063.053380782918,
          9342.782608695652,
          5222.287037037037,
          5701.058823529412,
          3099.8333333333335,
          3914.5714285714284,
          12560.666666666666,
          5374.016304347826,
          6805.360215053764,
          2981.5,
          7476.959349593496,
          5066.518518518518,
          3775.6290322580644,
          4788.642857142857,
          2852.1,
          8267.3671875,
          6787.214689265536,
          6016.25,
          3501.6666666666665,
          2727.5,
          6061.56338028169,
          4297.8490566037735,
          9448.098360655738,
          6990.919354838709,
          3172.5,
          3104,
          6768.9701492537315,
          5084.774193548387,
          3432.046511627907,
          4475.977272727273,
          2585.777777777778,
          12608.267015706806,
          11985.082278481013,
          7233.0625,
          8265.146666666667,
          8866.954128440368,
          5966.213114754099,
          11263.52972972973,
          7450.0058139534885,
          5869.992592592593,
          8467.031446540881,
          6743.24,
          9577.093023255815,
          2882.6666666666665,
          5994.297619047619,
          4320.446808510638,
          4528.7692307692305,
          6671.111111111111,
          5757.865384615385,
          6016.727272727273,
          12910.075342465754,
          6502.085271317829,
          10024.56462585034,
          10462.384146341463,
          6911.574257425743,
          6357.34375,
          6964.261538461538,
          12012.966101694916,
          5674.0615384615385,
          15796.350553505536,
          12252.154761904761,
          13587.165562913908,
          10827.728571428572,
          8891.847457627118,
          5258.895833333333,
          5318.730158730159,
          7972.170731707317,
          6724.588235294118,
          4621.8,
          7415.496,
          6716.140243902439,
          6683.737704918033,
          9839.112612612613,
          5509.271794871795,
          13721.063909774437,
          7284.416666666667,
          3855.3939393939395,
          1612.3,
          8399.670212765957,
          6162.5,
          7955.147727272727,
          6322.097222222223,
          4484.166666666667,
          9275.5,
          6133.836734693878,
          4769.959183673469,
          4520.76,
          5778.238805970149,
          7217.102803738318,
          8815.252808988764,
          4588.307692307692,
          5590.575342465753,
          8111.9473684210525,
          14835.107883817427,
          7929.309352517986,
          8857.828451882846,
          7237.955555555555,
          5280.237288135593,
          10872.842105263158,
          6237.488,
          13705.69547325103,
          6553.038095238096,
          8578.194915254237,
          4813.172413793103,
          4906.56,
          5120.888888888889,
          10229.354838709678,
          7647.535483870968,
          8583.029411764706,
          11772.77358490566,
          8735.19512195122,
          10432.363157894737,
          16026.470238095239,
          8286.888888888889,
          15382.097826086956,
          7377.982456140351,
          2645.5714285714284,
          7818.67,
          10098.792452830188,
          3385.391304347826,
          3653.4285714285716,
          10802.38028169014,
          3931.5625,
          8316.64393939394,
          5071.025,
          7992,
          8748.851485148514,
          4581.2,
          1765.2,
          3504.346153846154,
          7644.603773584906,
          null,
          4587.884615384615,
          9596.243902439024,
          7891.366666666667,
          7349.151260504202,
          3763.2297297297296,
          4877.818181818182,
          1289.5555555555557,
          9026.97435897436,
          4727.95652173913,
          9766.056910569107,
          11143.52564102564,
          null,
          9087.903553299493,
          6077.804511278196,
          10503.421052631578,
          6385.8,
          5036.8432835820895,
          10071.6328125,
          3143.1666666666665,
          8045.098591549296,
          6475.777777777777,
          7561.5502183406115,
          4881.263736263736,
          7167.248120300752,
          6516.208333333333,
          4268.727272727273,
          6320.556213017751,
          7592.163265306122,
          8539.42,
          4636,
          10107.32319391635,
          9760.972413793104,
          2985.3783783783783,
          7828.305882352941,
          2979.78125,
          3433.285714285714,
          5132.541666666667,
          12479.41056910569,
          6548.548571428571,
          6247.392156862745,
          4268.123595505618,
          6943.5,
          5461.251497005988,
          5883.12676056338,
          4642.855172413793,
          7723.828947368421,
          6693.333333333333,
          4388.444444444444,
          5834.459016393443,
          6644.596566523605,
          6536.5703125,
          9178.101351351352,
          7697.045045045045,
          5807.092783505154,
          7836.076271186441,
          4466.9,
          2445.6176470588234,
          4645.741666666667,
          7501.581081081081,
          4766.857142857143,
          10331.408163265307,
          9164.48275862069,
          4,
          6049.1578947368425,
          2923.3333333333335,
          6245.006060606061,
          5303.644736842105,
          5816.226415094339,
          8713.32701421801,
          8978.548507462687,
          7553.311111111111,
          6322.521739130435,
          9724.11374407583,
          3843.875,
          3483.785714285714,
          5311.017045454545,
          1916.8,
          7669.804878048781,
          3815.0555555555557,
          9429.463917525773,
          4457.812080536913,
          5383.709677419355,
          5461.118644067797,
          7237.09375,
          4318.818181818182,
          4262.46511627907,
          12042.204819277109,
          4356.233766233766,
          8966.31182795699,
          3469.5333333333333,
          4842.268292682927,
          6032.504424778761,
          4939.666666666667,
          5799.333333333333,
          7722.712871287129,
          5293.020618556701,
          3551.075,
          4126.163636363636,
          4672.928571428572,
          4925.75,
          2775.5789473684213,
          8898.241935483871,
          16487.87116564417,
          4373.84693877551,
          2501.25,
          6561.521367521367,
          9693.657894736842,
          4161.523809523809,
          5406.454545454545,
          6046.574324324324,
          7877.932203389831,
          1853.5,
          3594.2105263157896,
          4665.010752688172,
          5297.40625,
          5377.212765957447,
          3475.285714285714,
          9483.406593406593,
          5795.653333333334,
          8606.416216216216,
          8416.733333333334,
          8152.2830188679245,
          4463.508670520231,
          5016.523809523809,
          7557.238095238095,
          3034,
          7440.795454545455,
          9334.805084745763,
          7596.577639751553,
          4303.593406593406,
          7258.4,
          4228.5344827586205,
          3939.7078651685392,
          8425.365853658537,
          9206.522448979591,
          3324.269230769231,
          5503.307692307692,
          8456.82142857143,
          6866.608490566037,
          6595.135135135135,
          7190.347368421053,
          4535.529411764706,
          9608.205128205129,
          10531.203488372093,
          3208.5263157894738,
          2743.875,
          5678.771028037383,
          3619.866666666667,
          4981.70786516854,
          6060.064814814815,
          4444.419354838709,
          4303,
          5065.184466019417,
          4937.461538461538,
          3729.5882352941176,
          6103.592307692307,
          3432.9777777777776,
          4140.419354838709,
          1598,
          6297.523809523809,
          10076.676056338029,
          8051.935344827586,
          10283.625,
          4556.909090909091,
          8324,
          7812.025423728814,
          10205.624365482234,
          5059.448275862069,
          6951.125,
          7757.153846153846,
          3192.2,
          6202.5,
          10343.807272727272,
          7885.16,
          4112.375,
          5224.632352941177,
          4010.732558139535,
          4868.040816326531,
          2993.3333333333335,
          10192.526315789473,
          4979.9152542372885,
          11047.805309734513,
          5560.1,
          3627.9210526315787,
          6312.419354838709,
          6480.582191780822,
          null,
          4182.59,
          9189.738095238095,
          11308.566666666668,
          5489,
          6675.044943820225,
          4989.6,
          6722.631578947368,
          7618,
          7288.166666666667,
          1856.3333333333333,
          5562.459016393443,
          4110.28125,
          5298,
          7113.625668449198,
          9979.269076305221,
          11947.136363636364,
          5937.36170212766,
          5592.939393939394,
          5162.382113821138,
          4471.475113122172,
          4093.4444444444443,
          4825.45,
          12354.542222222222,
          5032.888888888889,
          4662.148148148148,
          1032.5,
          8880.427419354839,
          3794.24,
          9427.982905982906,
          5510.300970873786,
          6872.184782608696,
          5430.85,
          7958.7032967032965,
          7380.568181818182,
          5626.247967479675,
          6334.129032258064,
          11486.809523809523,
          10417.18811881188,
          7944.25,
          3809.1929824561403,
          12140.546558704453,
          3663.086956521739,
          8729.15671641791,
          5317.782608695652,
          11727.506787330316,
          2919.64,
          7046.832214765101,
          9397.938524590163,
          5534.206896551724,
          4319.75,
          8062.9098360655735,
          3241.5555555555557,
          6133.333333333333,
          13690.075862068965,
          7960.113924050633,
          8335.324324324325,
          6139.544303797468,
          11528.03305785124,
          5851,
          4894.865030674847,
          8903.358333333334,
          3495.0434782608695,
          9518.512605042017,
          3091.245614035088,
          3951.0070921985816,
          6416.401315789473,
          6856.6551724137935,
          6517.530487804878,
          1449.4,
          8965.275280898877,
          6285.386597938144,
          7939.314720812183,
          7147.275862068966,
          3901.4545454545455,
          8996.507246376812,
          9147.027397260274,
          7501.64,
          5365.241379310345,
          9794,
          10432.64705882353,
          5063.185185185185,
          3941.9189189189187,
          3502.5714285714284,
          5081.838235294118,
          6399.398550724638,
          4945.795698924731,
          5709.370892018779,
          3048.181818181818,
          6617.453333333333,
          4671.5,
          8542.422535211268,
          5439,
          6331.491803278688,
          20414.067039106147,
          6590.636363636364,
          8463.018181818183,
          7559.28813559322,
          7372.672727272728,
          7331.356097560975,
          15120.915492957747,
          6063.915662650603,
          4078.6666666666665,
          8093.725,
          7075.035714285715,
          4354.841269841269,
          10475.307692307691,
          4058.0555555555557,
          6680.076923076923,
          12701.654205607476,
          7981.484472049689,
          19893.464705882354,
          8128.739130434783,
          6195.266666666666,
          3951.1111111111113,
          5566.179487179487,
          2632.5,
          5911.620689655172,
          9647.762114537445,
          7736.7307692307695,
          7455.381395348837,
          4126.385714285714,
          6881.666666666667,
          5704.045871559633,
          13288.777777777777,
          7109.5,
          1210,
          10997.099290780141,
          6255.685393258427,
          4489.189189189189,
          2862.6969696969695,
          6691.338345864661,
          3744.7241379310344,
          5391.093406593406,
          3532.4285714285716,
          7772.929936305733,
          6414.6,
          9022.081196581197,
          6233.628571428571,
          5977.5,
          8247.150943396226,
          null,
          5296.027027027027,
          8218.367088607594,
          4795.341463414634,
          14009.206611570247,
          6464.31914893617,
          4817.1,
          5055.87037037037,
          3707.3142857142857,
          8964.023255813954,
          8548.153846153846,
          11059.615023474178,
          7311.3125,
          5266.285714285715,
          5070.666666666667,
          10903.825503355705,
          3387,
          15533.02380952381,
          1832.142857142857,
          6638.747474747474,
          4099.833333333333,
          10817.741935483871,
          6281.930817610063,
          6729.168539325843,
          9472.5625,
          4285.759259259259,
          15743.724738675959,
          5968.338461538461,
          7174.3239436619715,
          1914.75,
          13603.27734375,
          10457.031446540881,
          15213.159624413145,
          3786.1666666666665,
          7140.98347107438,
          5989.848920863309,
          5564.825581395349,
          9406.466666666667,
          9950.074074074075,
          13572.084507042253,
          3276.875,
          6930.907692307693,
          5174.375,
          6282.131868131868,
          4799.88,
          10030.326829268293,
          15679.67901234568,
          7584.467153284671
         ],
         "yaxis": "y"
        }
       ],
       "layout": {
        "barmode": "relative",
        "legend": {
         "tracegroupgap": 0
        },
        "margin": {
         "t": 60
        },
        "template": {
         "data": {
          "bar": [
           {
            "error_x": {
             "color": "#2a3f5f"
            },
            "error_y": {
             "color": "#2a3f5f"
            },
            "marker": {
             "line": {
              "color": "#E5ECF6",
              "width": 0.5
             },
             "pattern": {
              "fillmode": "overlay",
              "size": 10,
              "solidity": 0.2
             }
            },
            "type": "bar"
           }
          ],
          "barpolar": [
           {
            "marker": {
             "line": {
              "color": "#E5ECF6",
              "width": 0.5
             },
             "pattern": {
              "fillmode": "overlay",
              "size": 10,
              "solidity": 0.2
             }
            },
            "type": "barpolar"
           }
          ],
          "carpet": [
           {
            "aaxis": {
             "endlinecolor": "#2a3f5f",
             "gridcolor": "white",
             "linecolor": "white",
             "minorgridcolor": "white",
             "startlinecolor": "#2a3f5f"
            },
            "baxis": {
             "endlinecolor": "#2a3f5f",
             "gridcolor": "white",
             "linecolor": "white",
             "minorgridcolor": "white",
             "startlinecolor": "#2a3f5f"
            },
            "type": "carpet"
           }
          ],
          "choropleth": [
           {
            "colorbar": {
             "outlinewidth": 0,
             "ticks": ""
            },
            "type": "choropleth"
           }
          ],
          "contour": [
           {
            "colorbar": {
             "outlinewidth": 0,
             "ticks": ""
            },
            "colorscale": [
             [
              0,
              "#0d0887"
             ],
             [
              0.1111111111111111,
              "#46039f"
             ],
             [
              0.2222222222222222,
              "#7201a8"
             ],
             [
              0.3333333333333333,
              "#9c179e"
             ],
             [
              0.4444444444444444,
              "#bd3786"
             ],
             [
              0.5555555555555556,
              "#d8576b"
             ],
             [
              0.6666666666666666,
              "#ed7953"
             ],
             [
              0.7777777777777778,
              "#fb9f3a"
             ],
             [
              0.8888888888888888,
              "#fdca26"
             ],
             [
              1,
              "#f0f921"
             ]
            ],
            "type": "contour"
           }
          ],
          "contourcarpet": [
           {
            "colorbar": {
             "outlinewidth": 0,
             "ticks": ""
            },
            "type": "contourcarpet"
           }
          ],
          "heatmap": [
           {
            "colorbar": {
             "outlinewidth": 0,
             "ticks": ""
            },
            "colorscale": [
             [
              0,
              "#0d0887"
             ],
             [
              0.1111111111111111,
              "#46039f"
             ],
             [
              0.2222222222222222,
              "#7201a8"
             ],
             [
              0.3333333333333333,
              "#9c179e"
             ],
             [
              0.4444444444444444,
              "#bd3786"
             ],
             [
              0.5555555555555556,
              "#d8576b"
             ],
             [
              0.6666666666666666,
              "#ed7953"
             ],
             [
              0.7777777777777778,
              "#fb9f3a"
             ],
             [
              0.8888888888888888,
              "#fdca26"
             ],
             [
              1,
              "#f0f921"
             ]
            ],
            "type": "heatmap"
           }
          ],
          "heatmapgl": [
           {
            "colorbar": {
             "outlinewidth": 0,
             "ticks": ""
            },
            "colorscale": [
             [
              0,
              "#0d0887"
             ],
             [
              0.1111111111111111,
              "#46039f"
             ],
             [
              0.2222222222222222,
              "#7201a8"
             ],
             [
              0.3333333333333333,
              "#9c179e"
             ],
             [
              0.4444444444444444,
              "#bd3786"
             ],
             [
              0.5555555555555556,
              "#d8576b"
             ],
             [
              0.6666666666666666,
              "#ed7953"
             ],
             [
              0.7777777777777778,
              "#fb9f3a"
             ],
             [
              0.8888888888888888,
              "#fdca26"
             ],
             [
              1,
              "#f0f921"
             ]
            ],
            "type": "heatmapgl"
           }
          ],
          "histogram": [
           {
            "marker": {
             "pattern": {
              "fillmode": "overlay",
              "size": 10,
              "solidity": 0.2
             }
            },
            "type": "histogram"
           }
          ],
          "histogram2d": [
           {
            "colorbar": {
             "outlinewidth": 0,
             "ticks": ""
            },
            "colorscale": [
             [
              0,
              "#0d0887"
             ],
             [
              0.1111111111111111,
              "#46039f"
             ],
             [
              0.2222222222222222,
              "#7201a8"
             ],
             [
              0.3333333333333333,
              "#9c179e"
             ],
             [
              0.4444444444444444,
              "#bd3786"
             ],
             [
              0.5555555555555556,
              "#d8576b"
             ],
             [
              0.6666666666666666,
              "#ed7953"
             ],
             [
              0.7777777777777778,
              "#fb9f3a"
             ],
             [
              0.8888888888888888,
              "#fdca26"
             ],
             [
              1,
              "#f0f921"
             ]
            ],
            "type": "histogram2d"
           }
          ],
          "histogram2dcontour": [
           {
            "colorbar": {
             "outlinewidth": 0,
             "ticks": ""
            },
            "colorscale": [
             [
              0,
              "#0d0887"
             ],
             [
              0.1111111111111111,
              "#46039f"
             ],
             [
              0.2222222222222222,
              "#7201a8"
             ],
             [
              0.3333333333333333,
              "#9c179e"
             ],
             [
              0.4444444444444444,
              "#bd3786"
             ],
             [
              0.5555555555555556,
              "#d8576b"
             ],
             [
              0.6666666666666666,
              "#ed7953"
             ],
             [
              0.7777777777777778,
              "#fb9f3a"
             ],
             [
              0.8888888888888888,
              "#fdca26"
             ],
             [
              1,
              "#f0f921"
             ]
            ],
            "type": "histogram2dcontour"
           }
          ],
          "mesh3d": [
           {
            "colorbar": {
             "outlinewidth": 0,
             "ticks": ""
            },
            "type": "mesh3d"
           }
          ],
          "parcoords": [
           {
            "line": {
             "colorbar": {
              "outlinewidth": 0,
              "ticks": ""
             }
            },
            "type": "parcoords"
           }
          ],
          "pie": [
           {
            "automargin": true,
            "type": "pie"
           }
          ],
          "scatter": [
           {
            "marker": {
             "colorbar": {
              "outlinewidth": 0,
              "ticks": ""
             }
            },
            "type": "scatter"
           }
          ],
          "scatter3d": [
           {
            "line": {
             "colorbar": {
              "outlinewidth": 0,
              "ticks": ""
             }
            },
            "marker": {
             "colorbar": {
              "outlinewidth": 0,
              "ticks": ""
             }
            },
            "type": "scatter3d"
           }
          ],
          "scattercarpet": [
           {
            "marker": {
             "colorbar": {
              "outlinewidth": 0,
              "ticks": ""
             }
            },
            "type": "scattercarpet"
           }
          ],
          "scattergeo": [
           {
            "marker": {
             "colorbar": {
              "outlinewidth": 0,
              "ticks": ""
             }
            },
            "type": "scattergeo"
           }
          ],
          "scattergl": [
           {
            "marker": {
             "colorbar": {
              "outlinewidth": 0,
              "ticks": ""
             }
            },
            "type": "scattergl"
           }
          ],
          "scattermapbox": [
           {
            "marker": {
             "colorbar": {
              "outlinewidth": 0,
              "ticks": ""
             }
            },
            "type": "scattermapbox"
           }
          ],
          "scatterpolar": [
           {
            "marker": {
             "colorbar": {
              "outlinewidth": 0,
              "ticks": ""
             }
            },
            "type": "scatterpolar"
           }
          ],
          "scatterpolargl": [
           {
            "marker": {
             "colorbar": {
              "outlinewidth": 0,
              "ticks": ""
             }
            },
            "type": "scatterpolargl"
           }
          ],
          "scatterternary": [
           {
            "marker": {
             "colorbar": {
              "outlinewidth": 0,
              "ticks": ""
             }
            },
            "type": "scatterternary"
           }
          ],
          "surface": [
           {
            "colorbar": {
             "outlinewidth": 0,
             "ticks": ""
            },
            "colorscale": [
             [
              0,
              "#0d0887"
             ],
             [
              0.1111111111111111,
              "#46039f"
             ],
             [
              0.2222222222222222,
              "#7201a8"
             ],
             [
              0.3333333333333333,
              "#9c179e"
             ],
             [
              0.4444444444444444,
              "#bd3786"
             ],
             [
              0.5555555555555556,
              "#d8576b"
             ],
             [
              0.6666666666666666,
              "#ed7953"
             ],
             [
              0.7777777777777778,
              "#fb9f3a"
             ],
             [
              0.8888888888888888,
              "#fdca26"
             ],
             [
              1,
              "#f0f921"
             ]
            ],
            "type": "surface"
           }
          ],
          "table": [
           {
            "cells": {
             "fill": {
              "color": "#EBF0F8"
             },
             "line": {
              "color": "white"
             }
            },
            "header": {
             "fill": {
              "color": "#C8D4E3"
             },
             "line": {
              "color": "white"
             }
            },
            "type": "table"
           }
          ]
         },
         "layout": {
          "annotationdefaults": {
           "arrowcolor": "#2a3f5f",
           "arrowhead": 0,
           "arrowwidth": 1
          },
          "autotypenumbers": "strict",
          "coloraxis": {
           "colorbar": {
            "outlinewidth": 0,
            "ticks": ""
           }
          },
          "colorscale": {
           "diverging": [
            [
             0,
             "#8e0152"
            ],
            [
             0.1,
             "#c51b7d"
            ],
            [
             0.2,
             "#de77ae"
            ],
            [
             0.3,
             "#f1b6da"
            ],
            [
             0.4,
             "#fde0ef"
            ],
            [
             0.5,
             "#f7f7f7"
            ],
            [
             0.6,
             "#e6f5d0"
            ],
            [
             0.7,
             "#b8e186"
            ],
            [
             0.8,
             "#7fbc41"
            ],
            [
             0.9,
             "#4d9221"
            ],
            [
             1,
             "#276419"
            ]
           ],
           "sequential": [
            [
             0,
             "#0d0887"
            ],
            [
             0.1111111111111111,
             "#46039f"
            ],
            [
             0.2222222222222222,
             "#7201a8"
            ],
            [
             0.3333333333333333,
             "#9c179e"
            ],
            [
             0.4444444444444444,
             "#bd3786"
            ],
            [
             0.5555555555555556,
             "#d8576b"
            ],
            [
             0.6666666666666666,
             "#ed7953"
            ],
            [
             0.7777777777777778,
             "#fb9f3a"
            ],
            [
             0.8888888888888888,
             "#fdca26"
            ],
            [
             1,
             "#f0f921"
            ]
           ],
           "sequentialminus": [
            [
             0,
             "#0d0887"
            ],
            [
             0.1111111111111111,
             "#46039f"
            ],
            [
             0.2222222222222222,
             "#7201a8"
            ],
            [
             0.3333333333333333,
             "#9c179e"
            ],
            [
             0.4444444444444444,
             "#bd3786"
            ],
            [
             0.5555555555555556,
             "#d8576b"
            ],
            [
             0.6666666666666666,
             "#ed7953"
            ],
            [
             0.7777777777777778,
             "#fb9f3a"
            ],
            [
             0.8888888888888888,
             "#fdca26"
            ],
            [
             1,
             "#f0f921"
            ]
           ]
          },
          "colorway": [
           "#636efa",
           "#EF553B",
           "#00cc96",
           "#ab63fa",
           "#FFA15A",
           "#19d3f3",
           "#FF6692",
           "#B6E880",
           "#FF97FF",
           "#FECB52"
          ],
          "font": {
           "color": "#2a3f5f"
          },
          "geo": {
           "bgcolor": "white",
           "lakecolor": "white",
           "landcolor": "#E5ECF6",
           "showlakes": true,
           "showland": true,
           "subunitcolor": "white"
          },
          "hoverlabel": {
           "align": "left"
          },
          "hovermode": "closest",
          "mapbox": {
           "style": "light"
          },
          "paper_bgcolor": "white",
          "plot_bgcolor": "#E5ECF6",
          "polar": {
           "angularaxis": {
            "gridcolor": "white",
            "linecolor": "white",
            "ticks": ""
           },
           "bgcolor": "#E5ECF6",
           "radialaxis": {
            "gridcolor": "white",
            "linecolor": "white",
            "ticks": ""
           }
          },
          "scene": {
           "xaxis": {
            "backgroundcolor": "#E5ECF6",
            "gridcolor": "white",
            "gridwidth": 2,
            "linecolor": "white",
            "showbackground": true,
            "ticks": "",
            "zerolinecolor": "white"
           },
           "yaxis": {
            "backgroundcolor": "#E5ECF6",
            "gridcolor": "white",
            "gridwidth": 2,
            "linecolor": "white",
            "showbackground": true,
            "ticks": "",
            "zerolinecolor": "white"
           },
           "zaxis": {
            "backgroundcolor": "#E5ECF6",
            "gridcolor": "white",
            "gridwidth": 2,
            "linecolor": "white",
            "showbackground": true,
            "ticks": "",
            "zerolinecolor": "white"
           }
          },
          "shapedefaults": {
           "line": {
            "color": "#2a3f5f"
           }
          },
          "ternary": {
           "aaxis": {
            "gridcolor": "white",
            "linecolor": "white",
            "ticks": ""
           },
           "baxis": {
            "gridcolor": "white",
            "linecolor": "white",
            "ticks": ""
           },
           "bgcolor": "#E5ECF6",
           "caxis": {
            "gridcolor": "white",
            "linecolor": "white",
            "ticks": ""
           }
          },
          "title": {
           "x": 0.05
          },
          "xaxis": {
           "automargin": true,
           "gridcolor": "white",
           "linecolor": "white",
           "ticks": "",
           "title": {
            "standoff": 15
           },
           "zerolinecolor": "white",
           "zerolinewidth": 2
          },
          "yaxis": {
           "automargin": true,
           "gridcolor": "white",
           "linecolor": "white",
           "ticks": "",
           "title": {
            "standoff": 15
           },
           "zerolinecolor": "white",
           "zerolinewidth": 2
          }
         }
        },
        "xaxis": {
         "anchor": "y",
         "domain": [
          0,
          1
         ],
         "title": {
          "text": "gender"
         }
        },
        "yaxis": {
         "anchor": "x",
         "domain": [
          0,
          1
         ],
         "title": {
          "text": "sum of mean_step"
         }
        }
       }
      },
      "text/html": [
       "<div>                            <div id=\"4dd85a1d-f46c-419f-a798-2a39d8ba4579\" class=\"plotly-graph-div\" style=\"height:525px; width:100%;\"></div>            <script type=\"text/javascript\">                require([\"plotly\"], function(Plotly) {                    window.PLOTLYENV=window.PLOTLYENV || {};                                    if (document.getElementById(\"4dd85a1d-f46c-419f-a798-2a39d8ba4579\")) {                    Plotly.newPlot(                        \"4dd85a1d-f46c-419f-a798-2a39d8ba4579\",                        [{\"alignmentgroup\":\"True\",\"bingroup\":\"x\",\"histfunc\":\"sum\",\"hovertemplate\":\"gender=%{x}<br>sum of mean_step=%{y}<extra></extra>\",\"legendgroup\":\"\",\"marker\":{\"color\":\"#636efa\",\"pattern\":{\"shape\":\"\"}},\"name\":\"\",\"offsetgroup\":\"\",\"orientation\":\"v\",\"showlegend\":false,\"x\":[\"Male\",\"Male\",\"Male\",\"Male\",\"Female\",\"Male\",\"Male\",\"Female\",\"Female\",\"Female\",\"Female\",\"Female\",\"Male\",\"Male\",\"Female\",\"Male\",\"Male\",\"Male\",\"Male\",\"Female\",\"Male\",\"Female\",\"Male\",\"Male\",\"Male\",\"Male\",\"Female\",\"Female\",\"Female\",\"Female\",\"Male\",\"Male\",\"Female\",\"Female\",\"Female\",\"Male\",\"Male\",\"Female\",\"Male\",\"Male\",\"Male\",\"Male\",\"Female\",\"Female\",\"Male\",\"Male\",\"Female\",\"Male\",\"Male\",\"Male\",\"Female\",\"Female\",\"Female\",\"Male\",\"Male\",\"Male\",\"Male\",\"Female\",\"Female\",\"Male\",\"Male\",\"Female\",\"Male\",\"Male\",\"Female\",\"Male\",\"Female\",\"Female\",\"Female\",\"Male\",\"Female\",\"Female\",\"Male\",\"Male\",\"Male\",\"Female\",\"Male\",\"Male\",\"Male\",\"Male\",\"Female\",\"Male\",\"Female\",\"Male\",\"Female\",\"Female\",\"Male\",\"Female\",\"Female\",\"Female\",\"Female\",\"Male\",\"Male\",\"Male\",\"Female\",\"Female\",\"Female\",\"Male\",\"Female\",\"Male\",\"Male\",\"Female\",\"Female\",\"Male\",\"Male\",\"Male\",\"Female\",\"Male\",\"Female\",\"Female\",\"Male\",\"Male\",\"Male\",\"Male\",\"Male\",\"Male\",\"Male\",\"Female\",\"Female\",\"Female\",\"Female\",\"Male\",\"Female\",\"Female\",\"Female\",\"Female\",\"Female\",\"Female\",\"Male\",\"Female\",\"Male\",\"Male\",\"Female\",\"Female\",\"Female\",\"Male\",\"Female\",\"Male\",\"Female\",\"Male\",\"Male\",\"Male\",\"Male\",\"Female\",\"Female\",\"Male\",\"Female\",\"Female\",\"Male\",\"Male\",\"Female\",\"Male\",\"Male\",\"Female\",\"Female\",\"Male\",\"Male\",\"Female\",\"Female\",\"Female\",\"Male\",\"Female\",\"Male\",\"Male\",\"Male\",\"Female\",\"Female\",\"Male\",\"Female\",\"Female\",\"Female\",\"Female\",\"Male\",\"Female\",\"Female\",\"Male\",\"Male\",\"Male\",\"Female\",\"Male\",\"Female\",\"Female\",\"Female\",\"Female\",\"Female\",\"Female\",\"Male\",\"Male\",\"Female\",\"Male\",\"Male\",\"Male\",\"Male\",\"Female\",\"Female\",\"Male\",\"Female\",\"Female\",\"Female\",\"Female\",\"Female\",\"Female\",\"Female\",\"Male\",\"Male\",\"Female\",\"Female\",\"Female\",\"Male\",\"Female\",\"Female\",\"Male\",\"Female\",\"Female\",\"Male\",\"Female\",\"Female\",\"Female\",\"Female\",\"Male\",\"Female\",\"Male\",\"Female\",\"Male\",\"Female\",\"Female\",\"Female\",\"Male\",\"Female\",\"Female\",\"Female\",\"Male\",\"Male\",\"Female\",\"Female\",\"Female\",\"Female\",\"Male\",\"Male\",\"Female\",\"Female\",\"Female\",\"Male\",\"Female\",\"Male\",\"Female\",\"Female\",\"Female\",\"Female\",\"Male\",\"Male\",\"Male\",\"Male\",\"Male\",\"Female\",\"Female\",\"Male\",\"Male\",\"Male\",\"Female\",\"Female\",\"Male\",\"Male\",\"Male\",\"Male\",\"Female\",\"Female\",\"Female\",\"Female\",\"Male\",\"Male\",\"Male\",\"Male\",\"Male\",\"Female\",\"Female\",\"Male\",\"Female\",\"Male\",\"Female\",\"Female\",\"Female\",\"Male\",\"Male\",\"Female\",\"Female\",\"Female\",\"Male\",\"Female\",\"Male\",\"Male\",\"Female\",\"Female\",\"Female\",\"Male\",\"Female\",\"Male\",\"Female\",\"Male\",\"Female\",\"Male\",\"Female\",\"Female\",\"Female\",\"Male\",\"Male\",\"Male\",\"Female\",\"Male\",\"Female\",\"Female\",\"Male\",\"Male\",\"Female\",\"Male\",\"Male\",\"Female\",\"Male\",\"Male\",\"Male\",\"Male\",\"Female\",\"Female\",\"Female\",\"Female\",\"Male\",\"Male\",\"Male\",\"Male\",\"Female\",\"Female\",\"Female\",\"Male\",\"Female\",\"Male\",\"Female\",\"Male\",\"Male\",\"Female\",\"Male\",\"Male\",\"Male\",\"Male\",\"Female\",\"Female\",\"Male\",\"Male\",\"Male\",\"Female\",\"Male\",\"Female\",\"Female\",\"Male\",\"Female\",\"Male\",\"Male\",\"Female\",\"Female\",\"Male\",\"Female\",\"Female\",\"Male\",\"Female\",\"Female\",\"Female\",\"Female\",\"Male\",\"Male\",\"Female\",\"Male\",\"Male\",\"Female\",\"Female\",\"Female\",\"Male\",\"Male\",\"Female\",\"Female\",\"Male\",\"Male\",\"Male\",\"Male\",\"Male\",\"Male\",\"Female\",\"Female\",\"Male\",\"Female\",\"Male\",\"Female\",\"Male\",\"Female\",\"Male\",\"Male\",\"Female\",\"Male\",\"Male\",\"Male\",\"Male\",\"Female\",\"Male\",\"Male\",\"Male\",\"Female\",\"Female\",\"Male\",\"Male\",\"Female\",\"Female\",\"Male\",\"Male\",\"Female\",\"Male\",\"Male\",\"Female\",\"Female\",\"Male\",\"Female\",\"Male\",\"Male\",\"Male\",\"Female\",\"Male\",\"Female\",\"Female\",\"Female\",\"Male\",\"Female\",\"Female\",\"Male\",\"Female\",\"Male\",\"Male\",\"Female\",\"Male\",\"Female\",\"Male\",\"Male\",\"Male\",\"Male\",\"Male\",\"Male\",\"Female\",\"Male\",\"Female\",\"Male\",\"Female\",\"Male\",\"Female\",\"Female\",\"Female\",\"Female\",\"Female\",\"Male\",\"Male\",\"Male\",\"Male\",\"Female\",\"Female\",\"Male\",\"Male\",\"Male\",\"Female\",\"Female\",\"Female\",\"Male\",\"Male\",\"Female\",\"Male\",\"Male\",\"Male\",\"Female\",\"Female\",\"Female\",\"Female\",\"Male\",\"Male\",\"Male\",\"Male\",\"Male\",\"Female\",\"Female\",\"Female\",\"Male\",\"Male\",\"Female\",\"Female\",\"Male\",\"Female\",\"Female\",\"Female\",\"Female\",\"Male\",\"Male\",\"Female\",\"Female\",\"Male\",\"Male\",\"Male\",\"Male\",\"Male\",\"Female\",\"Male\",\"Male\",\"Female\",\"Male\",\"Female\",\"Female\",\"Male\",\"Female\",\"Male\",\"Female\",\"Male\",\"Female\",\"Male\",\"Female\",\"Female\",\"Male\",\"Female\",\"Female\",\"Female\",\"Male\",\"Female\",\"Male\",\"Male\",\"Female\",\"Female\",\"Male\",\"Female\",\"Male\",\"Male\",\"Female\",\"Female\",\"Female\",\"Male\",\"Male\",\"Male\",\"Female\",\"Male\",\"Female\",\"Female\",\"Female\",\"Female\",\"Male\",\"Male\",\"Male\",\"Male\",\"Female\",\"Female\",\"Male\",\"Female\",\"Male\",\"Male\",\"Male\",\"Male\",\"Female\",\"Male\",\"Male\",\"Male\",\"Female\",\"Male\",\"Male\",\"Male\",\"Male\",\"Female\",\"Male\",\"Male\",\"Female\",\"Female\",\"Male\",\"Female\",\"Male\",\"Male\",\"Male\",\"Male\",\"Male\",\"Male\",\"Male\",\"Male\",\"Female\",\"Male\",\"Male\",\"Female\",\"Male\",\"Female\",\"Female\",\"Male\",\"Male\",\"Male\",\"Female\",\"Male\",\"Female\",\"Male\",\"Male\",\"Male\",\"Male\",\"Male\",\"Male\",\"Male\",\"Female\",\"Male\",\"Male\",\"Male\",\"Female\",\"Male\",\"Female\",\"Female\",\"Female\",\"Male\",\"Male\",\"Male\",\"Male\",\"Female\",\"Female\",\"Male\",\"Female\",\"Male\",\"Female\",\"Male\",\"Male\",\"Male\",\"Male\",\"Male\",\"Female\",\"Male\",\"Male\",\"Male\",\"Male\",\"Male\",\"Female\",\"Female\",\"Male\",\"Female\",\"Female\",\"Male\",\"Male\",\"Male\",\"Female\",\"Male\",\"Female\",\"Female\",\"Male\",\"Female\",\"Female\",\"Male\",\"Male\",\"Female\",\"Female\",\"Male\",\"Male\",\"Male\",\"Male\",\"Female\",\"Female\",\"Male\",\"Male\",\"Male\",\"Female\",\"Male\",\"Male\",\"Male\",\"Male\",\"Male\",\"Male\",\"Male\",\"Female\",\"Male\",\"Female\",\"Male\",\"Male\",\"Male\",\"Female\",\"Female\",\"Male\",\"Female\",\"Female\",\"Female\",\"Female\",\"Male\",\"Male\",\"Male\",\"Male\",\"Female\",\"Male\",\"Female\",\"Female\",\"Male\",\"Male\",\"Female\",\"Male\",\"Female\",\"Male\",\"Male\",\"Male\",\"Male\",\"Male\",\"Female\",\"Female\",\"Female\",\"Female\",\"Male\",\"Female\",\"Female\",\"Male\",\"Male\",\"Female\",\"Male\",\"Female\",\"Male\",\"Male\",\"Female\",\"Female\",\"Female\",\"Male\",\"Male\",\"Male\",\"Male\",\"Female\",\"Male\",\"Male\",\"Male\",\"Female\",\"Male\",\"Male\",\"Male\",\"Male\",\"Female\",\"Male\",\"Female\",\"Female\",\"Female\",\"Male\",\"Male\",\"Male\",\"Male\",\"Male\",\"Male\",\"Male\",\"Male\",\"Male\",\"Female\",\"Female\",\"Male\",\"Female\",\"Female\",\"Female\",\"Female\",\"Female\",\"Female\",\"Female\",\"Female\",\"Female\",\"Female\",\"Male\",\"Male\",\"Female\",\"Male\",\"Male\",\"Male\",\"Female\",\"Male\",\"Male\",\"Male\",\"Female\",\"Male\",\"Male\",\"Female\",\"Male\",\"Male\",\"Male\",\"Female\",\"Female\",\"Male\",\"Male\",\"Male\",\"Female\",\"Female\",\"Female\",\"Male\",\"Male\",\"Female\",\"Male\",\"Female\",\"Male\",\"Female\",\"Female\",\"Male\",\"Female\",\"Female\",\"Male\",\"Male\",\"Male\",\"Female\",\"Male\",\"Male\",\"Female\",\"Male\",\"Female\",\"Male\",\"Female\",\"Male\",\"Male\",\"Female\",\"Female\",\"Female\",\"Female\",\"Male\",\"Female\",\"Female\",\"Male\",\"Female\",\"Female\",\"Male\",\"Male\",\"Female\",\"Male\",\"Female\",\"Female\",\"Female\",\"Male\",\"Female\",\"Female\",\"Male\",\"Female\",\"Female\",\"Male\",\"Female\",\"Male\",\"Male\",\"Male\",\"Male\",\"Male\",\"Female\",\"Male\",\"Male\",\"Male\",\"Female\",\"Female\",\"Male\",\"Female\",\"Female\",\"Female\",\"Male\",\"Male\",\"Male\",\"Male\",\"Male\",\"Male\",\"Female\",\"Female\",\"Male\",\"Female\",\"Male\",\"Male\",\"Female\",\"Male\",\"Male\",\"Female\",\"Male\",\"Female\",\"Male\",\"Male\",\"Female\",\"Male\",\"Female\",\"Male\",\"Female\",\"Male\",\"Male\",\"Male\",\"Male\",\"Male\",\"Male\",\"Female\",\"Female\",\"Female\",\"Male\",\"Male\",\"Male\",\"Male\",\"Female\",\"Female\",\"Female\",\"Female\",\"Male\",\"Female\",\"Male\",\"Female\",\"Female\",\"Female\",\"Female\",\"Female\",\"Male\",\"Female\",\"Male\",\"Male\",\"Male\",\"Male\",\"Female\",\"Male\",\"Female\",\"Male\",\"Female\",\"Female\",\"Female\",\"Female\",\"Male\",\"Female\",\"Female\",\"Male\",\"Male\",\"Male\",\"Female\",\"Female\",\"Male\",\"Female\",\"Female\",\"Male\",\"Female\",\"Male\",\"Female\",\"Female\",\"Male\",\"Male\",\"Female\",\"Male\",\"Male\",\"Female\",\"Male\"],\"xaxis\":\"x\",\"y\":[10205.521212121212,5687.423312883436,8301.72972972973,3633.2,5312.12962962963,11908.509803921568,4715.4,3594.051724137931,8626.70796460177,3787.0434782608695,6626.9098360655735,1303.611111111111,5622.133333333333,9214.798076923076,2664.4615384615386,9994.432692307691,9791.608695652174,null,4696.526315789473,10587.986577181207,6235.238095238095,5667.045977011494,6769.695652173913,3885.0,3021.181818181818,12565.815789473685,6330.03125,7969.027586206897,4745.2,5525.080459770115,1218.5,12005.373665480427,6839.791666666667,5571.338983050848,8997.1,5790.273972602739,5051.865384615385,7013.284403669725,6208.58152173913,7144.333333333333,6951.46511627907,4174.9375,4235.260869565217,7326.1736842105265,8491.308333333332,4304.121212121212,8788.79057591623,8205.015625,8948.551724137931,4343.657142857143,5905.079831932773,4335.1,3689.4583333333335,4171.02,3855.5,1958.6666666666667,4459.923611111111,10773.95,9841.166666666666,5248.7,9140.409356725146,13409.394736842105,8854.00790513834,4085.6206896551726,5120.8442622950815,8786.64705882353,8069.644927536232,15178.09009009009,4706.466666666666,5638.626666666667,4625.666666666667,6582.890804597701,6035.454545454545,5453.8875,9026.774774774774,7155.733333333334,6836.855670103093,7348.0,8799.25925925926,3532.0,8084.109195402299,6375.732673267326,5545.0,7459.564705882353,3115.7368421052633,5482.333333333333,5565.207547169812,7085.573333333334,5388.909090909091,5078.851063829788,8978.511764705883,4945.736842105263,4440.2,7410.7,4374.104166666667,null,3964.0454545454545,3732.3055555555557,7674.601307189542,4854.592592592592,4318.413043478261,4776.083333333333,6462.041666666667,6621.083333333333,11847.0,6054.2594936708865,7823.6864864864865,10538.31623931624,3534.5,22842.716845878138,5676.444444444444,4036.0943396226417,4362.916666666667,6855.976525821597,11432.459854014598,5054.068493150685,9749.41,3797.0,7516.747252747253,2249.5,842.0,9179.89705882353,11388.43137254902,7178.891566265061,2690.285714285714,9658.32142857143,4083.5,4754.493150684932,2126.294117647059,8772.981132075472,8159.446927374302,6240.073033707865,7575.788079470199,2185.5,6700.431654676259,10973.48161764706,10503.623287671233,4334.4375,9427.436974789916,3866.40625,8033.384615384615,5100.141414141414,3368.2,7334.0,5783.708333333333,6492.964566929134,7004.424657534247,8425.101063829787,4611.096774193548,12806.922448979592,5674.837209302325,5789.338028169014,8327.528037383177,5391.545454545455,2592.0,1619.8,3027.6666666666665,5367.5,14840.966480446927,4354.558823529412,7180.096774193548,6597.042168674699,9097.119453924915,5426.5,2022.0,5677.627118644068,8724.975609756097,2815.2272727272725,6244.857142857143,4091.0898876404494,3534.9285714285716,7119.0,5525.024390243902,10219.295302013423,2489.55,5474.25,10684.791666666666,2878.25,10650.578947368422,5855.157142857143,7751.5875,10679.401315789473,10022.5,5237.757352941177,12420.849397590362,2982.6470588235293,5231.420560747663,5930.111111111111,5010.5,6947.226190476191,3628.6296296296296,3221.0,4872.333333333333,5957.85294117647,11067.538461538461,3957.4074074074074,3047.6153846153848,9176.654275092937,7056.188172043011,12016.51923076923,6101.6484375,7773.834024896266,6225.235294117647,9800.67901234568,4665.0,null,5297.166666666667,6664.042372881356,6752.772727272727,6631.327272727272,4151.697674418605,4173.818181818182,11067.265957446809,4270.676470588235,8326.48695652174,4594.0,4634.3725490196075,7492.660869565218,11392.042253521127,6029.680365296804,6796.765625,4583.388888888889,7363.657657657658,5072.008196721312,11078.947368421053,6512.392857142857,4268.285714285715,5810.122448979592,4683.894736842105,6348.96,3781.1428571428573,6139.453815261044,7018.326530612245,7571.364161849711,9444.591240875912,8740.45751633987,7896.857142857143,11188.40329218107,6986.006734006734,7040.6,13963.737704918032,5976.466666666666,5678.790178571428,4716.281818181818,12500.575,8841.230215827338,2796.0,5063.53125,10314.84375,4186.029411764706,7886.4409937888195,1970.0454545454545,2763.6666666666665,10029.570422535211,8607.84023668639,6173.777777777777,7236.80985915493,5625.51282051282,10377.72131147541,3605.128205128205,7659.848039215686,7579.263157894737,8355.887218045113,5035.275,7130.084507042254,3841.1794871794873,4849.583333333333,4065.8571428571427,14811.06111111111,9668.5,9236.6625,2070.6,6026.03125,8661.831460674157,8694.0,7027.695238095238,9543.795454545454,6224.0,9751.026490066226,9799.058035714286,11862.106796116504,5168.692307692308,7868.7959183673465,10306.17679558011,6216.906976744186,4879.794871794872,5936.105882352941,9986.885416666666,3543.744680851064,5747.538461538462,5947.87012987013,6404.068965517241,6043.875,6108.025125628141,5009.354166666667,5833.09375,9046.018072289156,2298.9166666666665,8707.86348122867,7788.454954954955,5826.662280701755,4040.8444444444444,16378.346153846154,15031.90909090909,5532.674418604651,11267.666666666666,6013.5,null,7551.805555555556,5301.976190476191,15531.048128342247,4206.56,5954.345911949686,4824.428571428572,11192.849740932643,3581.1470588235293,6940.0921052631575,5996.876811594203,10348.45588235294,2821.1052631578946,1762.0,4400.733766233766,8065.125,2930.3571428571427,3477.2,4632.646551724138,5577.923076923077,3481.0,2487.875,4914.533333333334,4705.208333333333,8433.76404494382,4666.826815642458,7734.979797979798,8954.0,10258.529761904761,4226.317073170731,3715.535714285714,3114.9666666666667,7733.049056603773,8310.506666666666,4312.333333333333,7384.0,6771.524193548387,6637.962025316456,8053.4496644295305,1944.75,5905.081081081081,2569.75,5883.4,8423.255102040815,10233.407692307692,7195.125,2865.84,5346.542857142857,5045.2,6657.0,6585.666666666667,11088.036764705883,5067.191489361702,3827.1724137931033,7649.065789473684,11258.5,6175.533333333334,4790.027027027027,6026.6,11288.92,6710.5,8998.067226890757,8061.527777777777,8254.573170731708,4759.470588235294,3939.3571428571427,8763.020689655172,6715.818181818182,7671.0,9885.525,2450.0526315789475,8075.318181818182,4432.0,9809.526570048309,9223.83962264151,5056.619047619048,4700.0,2508.375,3960.6769230769232,5597.782051282052,7837.067164179104,5585.58,15405.474489795919,3157.818181818182,6076.748201438849,3805.0833333333335,6384.557894736842,4722.3540372670805,4089.125,1745.3333333333333,5666.5,3128.090909090909,3890.55,6715.314285714286,8469.705521472393,6284.333333333333,3042.0,6369.037974683544,4246.928571428572,10180.423076923076,7836.933333333333,8407.062857142857,7721.1122448979595,6373.25,6125.0609756097565,5340.045454545455,5119.854838709677,10991.670731707318,3464.375,4164.0,3266.266666666667,7223.504587155963,6163.480392156863,8982.180327868853,7349.955882352941,12063.053380782918,9342.782608695652,5222.287037037037,5701.058823529412,3099.8333333333335,3914.5714285714284,12560.666666666666,5374.016304347826,6805.360215053764,2981.5,7476.959349593496,5066.518518518518,3775.6290322580644,4788.642857142857,2852.1,8267.3671875,6787.214689265536,6016.25,3501.6666666666665,2727.5,6061.56338028169,4297.8490566037735,9448.098360655738,6990.919354838709,3172.5,3104.0,6768.9701492537315,5084.774193548387,3432.046511627907,4475.977272727273,2585.777777777778,12608.267015706806,11985.082278481013,7233.0625,8265.146666666667,8866.954128440368,5966.213114754099,11263.52972972973,7450.0058139534885,5869.992592592593,8467.031446540881,6743.24,9577.093023255815,2882.6666666666665,5994.297619047619,4320.446808510638,4528.7692307692305,6671.111111111111,5757.865384615385,6016.727272727273,12910.075342465754,6502.085271317829,10024.56462585034,10462.384146341463,6911.574257425743,6357.34375,6964.261538461538,12012.966101694916,5674.0615384615385,15796.350553505536,12252.154761904761,13587.165562913908,10827.728571428572,8891.847457627118,5258.895833333333,5318.730158730159,7972.170731707317,6724.588235294118,4621.8,7415.496,6716.140243902439,6683.737704918033,9839.112612612613,5509.271794871795,13721.063909774437,7284.416666666667,3855.3939393939395,1612.3,8399.670212765957,6162.5,7955.147727272727,6322.097222222223,4484.166666666667,9275.5,6133.836734693878,4769.959183673469,4520.76,5778.238805970149,7217.102803738318,8815.252808988764,4588.307692307692,5590.575342465753,8111.9473684210525,14835.107883817427,7929.309352517986,8857.828451882846,7237.955555555555,5280.237288135593,10872.842105263158,6237.488,13705.69547325103,6553.038095238096,8578.194915254237,4813.172413793103,4906.56,5120.888888888889,10229.354838709678,7647.535483870968,8583.029411764706,11772.77358490566,8735.19512195122,10432.363157894737,16026.470238095239,8286.888888888889,15382.097826086956,7377.982456140351,2645.5714285714284,7818.67,10098.792452830188,3385.391304347826,3653.4285714285716,10802.38028169014,3931.5625,8316.64393939394,5071.025,7992.0,8748.851485148514,4581.2,1765.2,3504.346153846154,7644.603773584906,null,4587.884615384615,9596.243902439024,7891.366666666667,7349.151260504202,3763.2297297297296,4877.818181818182,1289.5555555555557,9026.97435897436,4727.95652173913,9766.056910569107,11143.52564102564,null,9087.903553299493,6077.804511278196,10503.421052631578,6385.8,5036.8432835820895,10071.6328125,3143.1666666666665,8045.098591549296,6475.777777777777,7561.5502183406115,4881.263736263736,7167.248120300752,6516.208333333333,4268.727272727273,6320.556213017751,7592.163265306122,8539.42,4636.0,10107.32319391635,9760.972413793104,2985.3783783783783,7828.305882352941,2979.78125,3433.285714285714,5132.541666666667,12479.41056910569,6548.548571428571,6247.392156862745,4268.123595505618,6943.5,5461.251497005988,5883.12676056338,4642.855172413793,7723.828947368421,6693.333333333333,4388.444444444444,5834.459016393443,6644.596566523605,6536.5703125,9178.101351351352,7697.045045045045,5807.092783505154,7836.076271186441,4466.9,2445.6176470588234,4645.741666666667,7501.581081081081,4766.857142857143,10331.408163265307,9164.48275862069,4.0,6049.1578947368425,2923.3333333333335,6245.006060606061,5303.644736842105,5816.226415094339,8713.32701421801,8978.548507462687,7553.311111111111,6322.521739130435,9724.11374407583,3843.875,3483.785714285714,5311.017045454545,1916.8,7669.804878048781,3815.0555555555557,9429.463917525773,4457.812080536913,5383.709677419355,5461.118644067797,7237.09375,4318.818181818182,4262.46511627907,12042.204819277109,4356.233766233766,8966.31182795699,3469.5333333333333,4842.268292682927,6032.504424778761,4939.666666666667,5799.333333333333,7722.712871287129,5293.020618556701,3551.075,4126.163636363636,4672.928571428572,4925.75,2775.5789473684213,8898.241935483871,16487.87116564417,4373.84693877551,2501.25,6561.521367521367,9693.657894736842,4161.523809523809,5406.454545454545,6046.574324324324,7877.932203389831,1853.5,3594.2105263157896,4665.010752688172,5297.40625,5377.212765957447,3475.285714285714,9483.406593406593,5795.653333333334,8606.416216216216,8416.733333333334,8152.2830188679245,4463.508670520231,5016.523809523809,7557.238095238095,3034.0,7440.795454545455,9334.805084745763,7596.577639751553,4303.593406593406,7258.4,4228.5344827586205,3939.7078651685392,8425.365853658537,9206.522448979591,3324.269230769231,5503.307692307692,8456.82142857143,6866.608490566037,6595.135135135135,7190.347368421053,4535.529411764706,9608.205128205129,10531.203488372093,3208.5263157894738,2743.875,5678.771028037383,3619.866666666667,4981.70786516854,6060.064814814815,4444.419354838709,4303.0,5065.184466019417,4937.461538461538,3729.5882352941176,6103.592307692307,3432.9777777777776,4140.419354838709,1598.0,6297.523809523809,10076.676056338029,8051.935344827586,10283.625,4556.909090909091,8324.0,7812.025423728814,10205.624365482234,5059.448275862069,6951.125,7757.153846153846,3192.2,6202.5,10343.807272727272,7885.16,4112.375,5224.632352941177,4010.732558139535,4868.040816326531,2993.3333333333335,10192.526315789473,4979.9152542372885,11047.805309734513,5560.1,3627.9210526315787,6312.419354838709,6480.582191780822,null,4182.59,9189.738095238095,11308.566666666668,5489.0,6675.044943820225,4989.6,6722.631578947368,7618.0,7288.166666666667,1856.3333333333333,5562.459016393443,4110.28125,5298.0,7113.625668449198,9979.269076305221,11947.136363636364,5937.36170212766,5592.939393939394,5162.382113821138,4471.475113122172,4093.4444444444443,4825.45,12354.542222222222,5032.888888888889,4662.148148148148,1032.5,8880.427419354839,3794.24,9427.982905982906,5510.300970873786,6872.184782608696,5430.85,7958.7032967032965,7380.568181818182,5626.247967479675,6334.129032258064,11486.809523809523,10417.18811881188,7944.25,3809.1929824561403,12140.546558704453,3663.086956521739,8729.15671641791,5317.782608695652,11727.506787330316,2919.64,7046.832214765101,9397.938524590163,5534.206896551724,4319.75,8062.9098360655735,3241.5555555555557,6133.333333333333,13690.075862068965,7960.113924050633,8335.324324324325,6139.544303797468,11528.03305785124,5851.0,4894.865030674847,8903.358333333334,3495.0434782608695,9518.512605042017,3091.245614035088,3951.0070921985816,6416.401315789473,6856.6551724137935,6517.530487804878,1449.4,8965.275280898877,6285.386597938144,7939.314720812183,7147.275862068966,3901.4545454545455,8996.507246376812,9147.027397260274,7501.64,5365.241379310345,9794.0,10432.64705882353,5063.185185185185,3941.9189189189187,3502.5714285714284,5081.838235294118,6399.398550724638,4945.795698924731,5709.370892018779,3048.181818181818,6617.453333333333,4671.5,8542.422535211268,5439.0,6331.491803278688,20414.067039106147,6590.636363636364,8463.018181818183,7559.28813559322,7372.672727272728,7331.356097560975,15120.915492957747,6063.915662650603,4078.6666666666665,8093.725,7075.035714285715,4354.841269841269,10475.307692307691,4058.0555555555557,6680.076923076923,12701.654205607476,7981.484472049689,19893.464705882354,8128.739130434783,6195.266666666666,3951.1111111111113,5566.179487179487,2632.5,5911.620689655172,9647.762114537445,7736.7307692307695,7455.381395348837,4126.385714285714,6881.666666666667,5704.045871559633,13288.777777777777,7109.5,1210.0,10997.099290780141,6255.685393258427,4489.189189189189,2862.6969696969695,6691.338345864661,3744.7241379310344,5391.093406593406,3532.4285714285716,7772.929936305733,6414.6,9022.081196581197,6233.628571428571,5977.5,8247.150943396226,null,5296.027027027027,8218.367088607594,4795.341463414634,14009.206611570247,6464.31914893617,4817.1,5055.87037037037,3707.3142857142857,8964.023255813954,8548.153846153846,11059.615023474178,7311.3125,5266.285714285715,5070.666666666667,10903.825503355705,3387.0,15533.02380952381,1832.142857142857,6638.747474747474,4099.833333333333,10817.741935483871,6281.930817610063,6729.168539325843,9472.5625,4285.759259259259,15743.724738675959,5968.338461538461,7174.3239436619715,1914.75,13603.27734375,10457.031446540881,15213.159624413145,3786.1666666666665,7140.98347107438,5989.848920863309,5564.825581395349,9406.466666666667,9950.074074074075,13572.084507042253,3276.875,6930.907692307693,5174.375,6282.131868131868,4799.88,10030.326829268293,15679.67901234568,7584.467153284671],\"yaxis\":\"y\",\"type\":\"histogram\"}],                        {\"template\":{\"data\":{\"bar\":[{\"error_x\":{\"color\":\"#2a3f5f\"},\"error_y\":{\"color\":\"#2a3f5f\"},\"marker\":{\"line\":{\"color\":\"#E5ECF6\",\"width\":0.5},\"pattern\":{\"fillmode\":\"overlay\",\"size\":10,\"solidity\":0.2}},\"type\":\"bar\"}],\"barpolar\":[{\"marker\":{\"line\":{\"color\":\"#E5ECF6\",\"width\":0.5},\"pattern\":{\"fillmode\":\"overlay\",\"size\":10,\"solidity\":0.2}},\"type\":\"barpolar\"}],\"carpet\":[{\"aaxis\":{\"endlinecolor\":\"#2a3f5f\",\"gridcolor\":\"white\",\"linecolor\":\"white\",\"minorgridcolor\":\"white\",\"startlinecolor\":\"#2a3f5f\"},\"baxis\":{\"endlinecolor\":\"#2a3f5f\",\"gridcolor\":\"white\",\"linecolor\":\"white\",\"minorgridcolor\":\"white\",\"startlinecolor\":\"#2a3f5f\"},\"type\":\"carpet\"}],\"choropleth\":[{\"colorbar\":{\"outlinewidth\":0,\"ticks\":\"\"},\"type\":\"choropleth\"}],\"contour\":[{\"colorbar\":{\"outlinewidth\":0,\"ticks\":\"\"},\"colorscale\":[[0.0,\"#0d0887\"],[0.1111111111111111,\"#46039f\"],[0.2222222222222222,\"#7201a8\"],[0.3333333333333333,\"#9c179e\"],[0.4444444444444444,\"#bd3786\"],[0.5555555555555556,\"#d8576b\"],[0.6666666666666666,\"#ed7953\"],[0.7777777777777778,\"#fb9f3a\"],[0.8888888888888888,\"#fdca26\"],[1.0,\"#f0f921\"]],\"type\":\"contour\"}],\"contourcarpet\":[{\"colorbar\":{\"outlinewidth\":0,\"ticks\":\"\"},\"type\":\"contourcarpet\"}],\"heatmap\":[{\"colorbar\":{\"outlinewidth\":0,\"ticks\":\"\"},\"colorscale\":[[0.0,\"#0d0887\"],[0.1111111111111111,\"#46039f\"],[0.2222222222222222,\"#7201a8\"],[0.3333333333333333,\"#9c179e\"],[0.4444444444444444,\"#bd3786\"],[0.5555555555555556,\"#d8576b\"],[0.6666666666666666,\"#ed7953\"],[0.7777777777777778,\"#fb9f3a\"],[0.8888888888888888,\"#fdca26\"],[1.0,\"#f0f921\"]],\"type\":\"heatmap\"}],\"heatmapgl\":[{\"colorbar\":{\"outlinewidth\":0,\"ticks\":\"\"},\"colorscale\":[[0.0,\"#0d0887\"],[0.1111111111111111,\"#46039f\"],[0.2222222222222222,\"#7201a8\"],[0.3333333333333333,\"#9c179e\"],[0.4444444444444444,\"#bd3786\"],[0.5555555555555556,\"#d8576b\"],[0.6666666666666666,\"#ed7953\"],[0.7777777777777778,\"#fb9f3a\"],[0.8888888888888888,\"#fdca26\"],[1.0,\"#f0f921\"]],\"type\":\"heatmapgl\"}],\"histogram\":[{\"marker\":{\"pattern\":{\"fillmode\":\"overlay\",\"size\":10,\"solidity\":0.2}},\"type\":\"histogram\"}],\"histogram2d\":[{\"colorbar\":{\"outlinewidth\":0,\"ticks\":\"\"},\"colorscale\":[[0.0,\"#0d0887\"],[0.1111111111111111,\"#46039f\"],[0.2222222222222222,\"#7201a8\"],[0.3333333333333333,\"#9c179e\"],[0.4444444444444444,\"#bd3786\"],[0.5555555555555556,\"#d8576b\"],[0.6666666666666666,\"#ed7953\"],[0.7777777777777778,\"#fb9f3a\"],[0.8888888888888888,\"#fdca26\"],[1.0,\"#f0f921\"]],\"type\":\"histogram2d\"}],\"histogram2dcontour\":[{\"colorbar\":{\"outlinewidth\":0,\"ticks\":\"\"},\"colorscale\":[[0.0,\"#0d0887\"],[0.1111111111111111,\"#46039f\"],[0.2222222222222222,\"#7201a8\"],[0.3333333333333333,\"#9c179e\"],[0.4444444444444444,\"#bd3786\"],[0.5555555555555556,\"#d8576b\"],[0.6666666666666666,\"#ed7953\"],[0.7777777777777778,\"#fb9f3a\"],[0.8888888888888888,\"#fdca26\"],[1.0,\"#f0f921\"]],\"type\":\"histogram2dcontour\"}],\"mesh3d\":[{\"colorbar\":{\"outlinewidth\":0,\"ticks\":\"\"},\"type\":\"mesh3d\"}],\"parcoords\":[{\"line\":{\"colorbar\":{\"outlinewidth\":0,\"ticks\":\"\"}},\"type\":\"parcoords\"}],\"pie\":[{\"automargin\":true,\"type\":\"pie\"}],\"scatter\":[{\"marker\":{\"colorbar\":{\"outlinewidth\":0,\"ticks\":\"\"}},\"type\":\"scatter\"}],\"scatter3d\":[{\"line\":{\"colorbar\":{\"outlinewidth\":0,\"ticks\":\"\"}},\"marker\":{\"colorbar\":{\"outlinewidth\":0,\"ticks\":\"\"}},\"type\":\"scatter3d\"}],\"scattercarpet\":[{\"marker\":{\"colorbar\":{\"outlinewidth\":0,\"ticks\":\"\"}},\"type\":\"scattercarpet\"}],\"scattergeo\":[{\"marker\":{\"colorbar\":{\"outlinewidth\":0,\"ticks\":\"\"}},\"type\":\"scattergeo\"}],\"scattergl\":[{\"marker\":{\"colorbar\":{\"outlinewidth\":0,\"ticks\":\"\"}},\"type\":\"scattergl\"}],\"scattermapbox\":[{\"marker\":{\"colorbar\":{\"outlinewidth\":0,\"ticks\":\"\"}},\"type\":\"scattermapbox\"}],\"scatterpolar\":[{\"marker\":{\"colorbar\":{\"outlinewidth\":0,\"ticks\":\"\"}},\"type\":\"scatterpolar\"}],\"scatterpolargl\":[{\"marker\":{\"colorbar\":{\"outlinewidth\":0,\"ticks\":\"\"}},\"type\":\"scatterpolargl\"}],\"scatterternary\":[{\"marker\":{\"colorbar\":{\"outlinewidth\":0,\"ticks\":\"\"}},\"type\":\"scatterternary\"}],\"surface\":[{\"colorbar\":{\"outlinewidth\":0,\"ticks\":\"\"},\"colorscale\":[[0.0,\"#0d0887\"],[0.1111111111111111,\"#46039f\"],[0.2222222222222222,\"#7201a8\"],[0.3333333333333333,\"#9c179e\"],[0.4444444444444444,\"#bd3786\"],[0.5555555555555556,\"#d8576b\"],[0.6666666666666666,\"#ed7953\"],[0.7777777777777778,\"#fb9f3a\"],[0.8888888888888888,\"#fdca26\"],[1.0,\"#f0f921\"]],\"type\":\"surface\"}],\"table\":[{\"cells\":{\"fill\":{\"color\":\"#EBF0F8\"},\"line\":{\"color\":\"white\"}},\"header\":{\"fill\":{\"color\":\"#C8D4E3\"},\"line\":{\"color\":\"white\"}},\"type\":\"table\"}]},\"layout\":{\"annotationdefaults\":{\"arrowcolor\":\"#2a3f5f\",\"arrowhead\":0,\"arrowwidth\":1},\"autotypenumbers\":\"strict\",\"coloraxis\":{\"colorbar\":{\"outlinewidth\":0,\"ticks\":\"\"}},\"colorscale\":{\"diverging\":[[0,\"#8e0152\"],[0.1,\"#c51b7d\"],[0.2,\"#de77ae\"],[0.3,\"#f1b6da\"],[0.4,\"#fde0ef\"],[0.5,\"#f7f7f7\"],[0.6,\"#e6f5d0\"],[0.7,\"#b8e186\"],[0.8,\"#7fbc41\"],[0.9,\"#4d9221\"],[1,\"#276419\"]],\"sequential\":[[0.0,\"#0d0887\"],[0.1111111111111111,\"#46039f\"],[0.2222222222222222,\"#7201a8\"],[0.3333333333333333,\"#9c179e\"],[0.4444444444444444,\"#bd3786\"],[0.5555555555555556,\"#d8576b\"],[0.6666666666666666,\"#ed7953\"],[0.7777777777777778,\"#fb9f3a\"],[0.8888888888888888,\"#fdca26\"],[1.0,\"#f0f921\"]],\"sequentialminus\":[[0.0,\"#0d0887\"],[0.1111111111111111,\"#46039f\"],[0.2222222222222222,\"#7201a8\"],[0.3333333333333333,\"#9c179e\"],[0.4444444444444444,\"#bd3786\"],[0.5555555555555556,\"#d8576b\"],[0.6666666666666666,\"#ed7953\"],[0.7777777777777778,\"#fb9f3a\"],[0.8888888888888888,\"#fdca26\"],[1.0,\"#f0f921\"]]},\"colorway\":[\"#636efa\",\"#EF553B\",\"#00cc96\",\"#ab63fa\",\"#FFA15A\",\"#19d3f3\",\"#FF6692\",\"#B6E880\",\"#FF97FF\",\"#FECB52\"],\"font\":{\"color\":\"#2a3f5f\"},\"geo\":{\"bgcolor\":\"white\",\"lakecolor\":\"white\",\"landcolor\":\"#E5ECF6\",\"showlakes\":true,\"showland\":true,\"subunitcolor\":\"white\"},\"hoverlabel\":{\"align\":\"left\"},\"hovermode\":\"closest\",\"mapbox\":{\"style\":\"light\"},\"paper_bgcolor\":\"white\",\"plot_bgcolor\":\"#E5ECF6\",\"polar\":{\"angularaxis\":{\"gridcolor\":\"white\",\"linecolor\":\"white\",\"ticks\":\"\"},\"bgcolor\":\"#E5ECF6\",\"radialaxis\":{\"gridcolor\":\"white\",\"linecolor\":\"white\",\"ticks\":\"\"}},\"scene\":{\"xaxis\":{\"backgroundcolor\":\"#E5ECF6\",\"gridcolor\":\"white\",\"gridwidth\":2,\"linecolor\":\"white\",\"showbackground\":true,\"ticks\":\"\",\"zerolinecolor\":\"white\"},\"yaxis\":{\"backgroundcolor\":\"#E5ECF6\",\"gridcolor\":\"white\",\"gridwidth\":2,\"linecolor\":\"white\",\"showbackground\":true,\"ticks\":\"\",\"zerolinecolor\":\"white\"},\"zaxis\":{\"backgroundcolor\":\"#E5ECF6\",\"gridcolor\":\"white\",\"gridwidth\":2,\"linecolor\":\"white\",\"showbackground\":true,\"ticks\":\"\",\"zerolinecolor\":\"white\"}},\"shapedefaults\":{\"line\":{\"color\":\"#2a3f5f\"}},\"ternary\":{\"aaxis\":{\"gridcolor\":\"white\",\"linecolor\":\"white\",\"ticks\":\"\"},\"baxis\":{\"gridcolor\":\"white\",\"linecolor\":\"white\",\"ticks\":\"\"},\"bgcolor\":\"#E5ECF6\",\"caxis\":{\"gridcolor\":\"white\",\"linecolor\":\"white\",\"ticks\":\"\"}},\"title\":{\"x\":0.05},\"xaxis\":{\"automargin\":true,\"gridcolor\":\"white\",\"linecolor\":\"white\",\"ticks\":\"\",\"title\":{\"standoff\":15},\"zerolinecolor\":\"white\",\"zerolinewidth\":2},\"yaxis\":{\"automargin\":true,\"gridcolor\":\"white\",\"linecolor\":\"white\",\"ticks\":\"\",\"title\":{\"standoff\":15},\"zerolinecolor\":\"white\",\"zerolinewidth\":2}}},\"xaxis\":{\"anchor\":\"y\",\"domain\":[0.0,1.0],\"title\":{\"text\":\"gender\"}},\"yaxis\":{\"anchor\":\"x\",\"domain\":[0.0,1.0],\"title\":{\"text\":\"sum of mean_step\"}},\"legend\":{\"tracegroupgap\":0},\"margin\":{\"t\":60},\"barmode\":\"relative\"},                        {\"responsive\": true}                    ).then(function(){\n",
       "                            \n",
       "var gd = document.getElementById('4dd85a1d-f46c-419f-a798-2a39d8ba4579');\n",
       "var x = new MutationObserver(function (mutations, observer) {{\n",
       "        var display = window.getComputedStyle(gd).display;\n",
       "        if (!display || display === 'none') {{\n",
       "            console.log([gd, 'removed!']);\n",
       "            Plotly.purge(gd);\n",
       "            observer.disconnect();\n",
       "        }}\n",
       "}});\n",
       "\n",
       "// Listen for the removal of the full notebook cells\n",
       "var notebookContainer = gd.closest('#notebook-container');\n",
       "if (notebookContainer) {{\n",
       "    x.observe(notebookContainer, {childList: true});\n",
       "}}\n",
       "\n",
       "// Listen for the clearing of the current output cell\n",
       "var outputEl = gd.closest('.output');\n",
       "if (outputEl) {{\n",
       "    x.observe(outputEl, {childList: true});\n",
       "}}\n",
       "\n",
       "                        })                };                });            </script>        </div>"
      ]
     },
     "metadata": {},
     "output_type": "display_data"
    }
   ],
   "source": [
    "# Graph of the relation\n",
    "fig = px.histogram(df, x=\"gender\", y=\"mean_step\")\n",
    "fig.show()"
   ]
  },
  {
   "cell_type": "code",
   "execution_count": 119,
   "id": "24cb6b13",
   "metadata": {},
   "outputs": [
    {
     "data": {
      "application/vnd.plotly.v1+json": {
       "config": {
        "plotlyServerURL": "https://plot.ly"
       },
       "data": [
        {
         "alignmentgroup": "True",
         "bingroup": "x",
         "histfunc": "avg",
         "hovertemplate": "age=%{x}<br>avg of mean_step=%{y}<extra></extra>",
         "legendgroup": "",
         "marker": {
          "color": "#636efa",
          "pattern": {
           "shape": ""
          }
         },
         "name": "",
         "offsetgroup": "",
         "orientation": "v",
         "showlegend": false,
         "type": "histogram",
         "x": [
          "25-34",
          "35-44",
          "25-34",
          "<25",
          "25-34",
          "35-44",
          "25-34",
          "25-34",
          "35-44",
          "25-34",
          "<25",
          "45-54",
          "25-34",
          "45-54",
          "55-64",
          "25-34",
          "25-34",
          "35-44",
          "25-34",
          "55-64",
          "25-34",
          "45-54",
          "25-34",
          "25-34",
          "55-64",
          "35-44",
          "55-64",
          "35-44",
          "35-44",
          "<25",
          "25-34",
          "25-34",
          "<25",
          "25-34",
          "45-54",
          "25-34",
          "<25",
          "35-44",
          "45-54",
          "25-34",
          "<25",
          "25-34",
          "45-54",
          "35-44",
          "25-34",
          "25-34",
          "25-34",
          "45-54",
          "25-34",
          "55-64",
          "35-44",
          "35-44",
          "25-34",
          "25-34",
          "45-54",
          "65+",
          "25-34",
          "55-64",
          "25-34",
          "25-34",
          "25-34",
          "45-54",
          "<25",
          "45-54",
          "35-44",
          "25-34",
          "25-34",
          "35-44",
          "45-54",
          "<25",
          "35-44",
          "25-34",
          "25-34",
          "<25",
          "25-34",
          "<25",
          "55-64",
          "<25",
          "25-34",
          "25-34",
          "45-54",
          "35-44",
          "55-64",
          "25-34",
          "35-44",
          "25-34",
          "25-34",
          "55-64",
          "<25",
          "25-34",
          "55-64",
          "25-34",
          "25-34",
          "25-34",
          "35-44",
          "25-34",
          "35-44",
          "25-34",
          "25-34",
          "25-34",
          "25-34",
          "<25",
          "25-34",
          "35-44",
          "25-34",
          "25-34",
          "25-34",
          "45-54",
          "35-44",
          "45-54",
          "25-34",
          "25-34",
          "25-34",
          "45-54",
          "25-34",
          "<25",
          "45-54",
          "45-54",
          "<25",
          "<25",
          "45-54",
          "45-54",
          "25-34",
          "25-34",
          "<25",
          "35-44",
          "25-34",
          "25-34",
          "25-34",
          "45-54",
          "35-44",
          "45-54",
          "25-34",
          "25-34",
          "25-34",
          "25-34",
          "45-54",
          "<25",
          "25-34",
          "25-34",
          "55-64",
          "25-34",
          "45-54",
          "35-44",
          "25-34",
          "45-54",
          "45-54",
          "45-54",
          "25-34",
          "35-44",
          "25-34",
          "25-34",
          "25-34",
          "45-54",
          "25-34",
          "25-34",
          "65+",
          "65+",
          "35-44",
          "25-34",
          "25-34",
          "25-34",
          "45-54",
          "25-34",
          "45-54",
          "25-34",
          "45-54",
          "25-34",
          "25-34",
          "25-34",
          "25-34",
          "45-54",
          "25-34",
          "25-34",
          "35-44",
          "35-44",
          "25-34",
          "25-34",
          "<25",
          "25-34",
          "25-34",
          "35-44",
          "35-44",
          "25-34",
          "45-54",
          "25-34",
          "45-54",
          "25-34",
          "35-44",
          "<25",
          "25-34",
          "25-34",
          "<25",
          "45-54",
          "55-64",
          "25-34",
          "25-34",
          "25-34",
          "25-34",
          "25-34",
          "25-34",
          "45-54",
          "<25",
          "45-54",
          "35-44",
          "<25",
          "35-44",
          "35-44",
          "45-54",
          "45-54",
          "25-34",
          "25-34",
          "35-44",
          "25-34",
          "45-54",
          "25-34",
          "25-34",
          "25-34",
          "35-44",
          "25-34",
          "25-34",
          "<25",
          "45-54",
          "35-44",
          "45-54",
          "35-44",
          "<25",
          "25-34",
          "25-34",
          "25-34",
          "25-34",
          "25-34",
          "25-34",
          "25-34",
          "45-54",
          "25-34",
          "25-34",
          "25-34",
          "25-34",
          "25-34",
          "25-34",
          "25-34",
          "45-54",
          "25-34",
          "55-64",
          "25-34",
          "<25",
          "35-44",
          "35-44",
          "25-34",
          "<25",
          "25-34",
          "35-44",
          "35-44",
          "45-54",
          "25-34",
          "<25",
          "25-34",
          "35-44",
          "35-44",
          "55-64",
          "25-34",
          "25-34",
          "25-34",
          "35-44",
          "45-54",
          "25-34",
          "45-54",
          "25-34",
          "45-54",
          "25-34",
          "45-54",
          "25-34",
          "25-34",
          "35-44",
          "45-54",
          "<25",
          "45-54",
          "45-54",
          "45-54",
          "55-64",
          "35-44",
          "45-54",
          "25-34",
          "45-54",
          "45-54",
          "<25",
          "25-34",
          "<25",
          "25-34",
          "<25",
          "25-34",
          "55-64",
          "25-34",
          "25-34",
          "25-34",
          "<25",
          "35-44",
          "45-54",
          "45-54",
          "35-44",
          "25-34",
          "45-54",
          "25-34",
          "25-34",
          "35-44",
          "25-34",
          "35-44",
          "25-34",
          "35-44",
          "55-64",
          "35-44",
          "25-34",
          "25-34",
          "25-34",
          "35-44",
          "35-44",
          "25-34",
          "45-54",
          "25-34",
          "25-34",
          "45-54",
          "25-34",
          "45-54",
          "<25",
          "25-34",
          "<25",
          "25-34",
          "25-34",
          "45-54",
          "<25",
          "35-44",
          "45-54",
          "25-34",
          "25-34",
          "<25",
          "<25",
          "45-54",
          "25-34",
          "25-34",
          "25-34",
          "25-34",
          "25-34",
          "25-34",
          "45-54",
          "35-44",
          "25-34",
          "<25",
          "25-34",
          "25-34",
          "25-34",
          "25-34",
          "25-34",
          "45-54",
          "25-34",
          "25-34",
          "<25",
          "45-54",
          "45-54",
          "45-54",
          "<25",
          "25-34",
          "35-44",
          "35-44",
          "25-34",
          "35-44",
          "65+",
          "25-34",
          "25-34",
          "25-34",
          "55-64",
          "45-54",
          "<25",
          "35-44",
          "25-34",
          "35-44",
          "35-44",
          "45-54",
          "25-34",
          "35-44",
          "<25",
          "35-44",
          "25-34",
          "35-44",
          "25-34",
          "25-34",
          "35-44",
          "25-34",
          "35-44",
          "25-34",
          "35-44",
          "45-54",
          "35-44",
          "25-34",
          "25-34",
          "25-34",
          "45-54",
          "35-44",
          "35-44",
          "25-34",
          "25-34",
          "25-34",
          "35-44",
          "25-34",
          "<25",
          "65+",
          "35-44",
          "25-34",
          "25-34",
          "25-34",
          "<25",
          "25-34",
          "25-34",
          "25-34",
          "35-44",
          "35-44",
          "25-34",
          "<25",
          "<25",
          "25-34",
          "45-54",
          "35-44",
          "25-34",
          "25-34",
          "35-44",
          "<25",
          "<25",
          "<25",
          "<25",
          "35-44",
          "55-64",
          "25-34",
          "25-34",
          "35-44",
          "35-44",
          "<25",
          "55-64",
          "25-34",
          "25-34",
          "25-34",
          "45-54",
          "25-34",
          "25-34",
          "25-34",
          "35-44",
          "25-34",
          "35-44",
          "45-54",
          "25-34",
          "25-34",
          "<25",
          "25-34",
          "55-64",
          "35-44",
          "35-44",
          "25-34",
          "25-34",
          "55-64",
          "35-44",
          "<25",
          "35-44",
          "35-44",
          "25-34",
          "35-44",
          "25-34",
          "35-44",
          "25-34",
          "25-34",
          "25-34",
          "25-34",
          "35-44",
          "45-54",
          "35-44",
          "45-54",
          "25-34",
          "25-34",
          "25-34",
          "<25",
          "35-44",
          "45-54",
          "25-34",
          "55-64",
          "55-64",
          "55-64",
          "35-44",
          "25-34",
          "35-44",
          "25-34",
          "<25",
          "25-34",
          "25-34",
          "<25",
          "45-54",
          "<25",
          "25-34",
          "35-44",
          "55-64",
          "25-34",
          "25-34",
          "55-64",
          "25-34",
          "<25",
          "25-34",
          "45-54",
          "<25",
          "45-54",
          "45-54",
          "<25",
          "25-34",
          "45-54",
          "45-54",
          "25-34",
          "45-54",
          "45-54",
          "25-34",
          "55-64",
          "35-44",
          "45-54",
          "35-44",
          "35-44",
          "55-64",
          "25-34",
          "35-44",
          "<25",
          "25-34",
          "25-34",
          "<25",
          "<25",
          "45-54",
          "<25",
          "<25",
          "25-34",
          "25-34",
          "<25",
          "45-54",
          "45-54",
          "25-34",
          "45-54",
          "25-34",
          "25-34",
          "35-44",
          "45-54",
          "25-34",
          "35-44",
          "25-34",
          "35-44",
          "<25",
          "25-34",
          "25-34",
          "45-54",
          "25-34",
          "35-44",
          "55-64",
          "45-54",
          "25-34",
          "35-44",
          "25-34",
          "35-44",
          "45-54",
          "45-54",
          "25-34",
          "25-34",
          "25-34",
          "25-34",
          "35-44",
          "25-34",
          "25-34",
          "45-54",
          "35-44",
          "35-44",
          "25-34",
          "25-34",
          "<25",
          "25-34",
          "25-34",
          "25-34",
          "25-34",
          "25-34",
          "25-34",
          "<25",
          "35-44",
          "35-44",
          "25-34",
          "25-34",
          "35-44",
          "25-34",
          "<25",
          "<25",
          "35-44",
          "35-44",
          "<25",
          "35-44",
          "35-44",
          "<25",
          "25-34",
          "45-54",
          "35-44",
          "25-34",
          "45-54",
          "25-34",
          "25-34",
          "25-34",
          "25-34",
          "25-34",
          "25-34",
          "25-34",
          "55-64",
          "25-34",
          "25-34",
          "25-34",
          "<25",
          "25-34",
          "25-34",
          "25-34",
          "<25",
          "45-54",
          "25-34",
          "35-44",
          "25-34",
          "35-44",
          "35-44",
          "25-34",
          "25-34",
          "25-34",
          "35-44",
          "25-34",
          "25-34",
          "45-54",
          "25-34",
          "35-44",
          "45-54",
          "25-34",
          "<25",
          "25-34",
          "35-44",
          "25-34",
          "25-34",
          "25-34",
          "55-64",
          "25-34",
          "35-44",
          "35-44",
          "35-44",
          "<25",
          "25-34",
          "25-34",
          "35-44",
          "25-34",
          "<25",
          "25-34",
          "45-54",
          "25-34",
          "25-34",
          "25-34",
          "25-34",
          "25-34",
          "25-34",
          "25-34",
          "55-64",
          "45-54",
          "25-34",
          "45-54",
          "35-44",
          "25-34",
          "25-34",
          "<25",
          "35-44",
          "45-54",
          "25-34",
          "25-34",
          "25-34",
          "25-34",
          "25-34",
          "25-34",
          "25-34",
          "25-34",
          "<25",
          "25-34",
          "25-34",
          "35-44",
          "35-44",
          "45-54",
          "25-34",
          "45-54",
          "25-34",
          "25-34",
          "25-34",
          "25-34",
          "35-44",
          "<25",
          "25-34",
          "<25",
          "35-44",
          "<25",
          "35-44",
          "<25",
          "35-44",
          "45-54",
          "25-34",
          "45-54",
          "25-34",
          "55-64",
          "25-34",
          "25-34",
          "25-34",
          "25-34",
          "25-34",
          "25-34",
          "25-34",
          "25-34",
          "<25",
          "45-54",
          "25-34",
          "25-34",
          "25-34",
          "25-34",
          "35-44",
          "45-54",
          "45-54",
          "25-34",
          "25-34",
          "25-34",
          "25-34",
          "<25",
          "35-44",
          "<25",
          "25-34",
          "45-54",
          "25-34",
          "<25",
          "45-54",
          "25-34",
          "25-34",
          "<25",
          "25-34",
          "55-64",
          "25-34",
          "35-44",
          "<25",
          "35-44",
          "<25",
          "25-34",
          "35-44",
          "35-44",
          "<25",
          "25-34",
          "25-34",
          "25-34",
          "25-34",
          "25-34",
          "25-34",
          "25-34",
          "25-34",
          "35-44",
          "35-44",
          "45-54",
          "35-44",
          "35-44",
          "25-34",
          "25-34",
          "25-34",
          "35-44",
          "<25",
          "45-54",
          "25-34",
          "55-64",
          "35-44",
          "25-34",
          "<25",
          "25-34",
          "45-54",
          "25-34",
          "45-54",
          "45-54",
          "25-34",
          "25-34",
          "25-34",
          "45-54",
          "65+",
          "55-64",
          "35-44",
          "25-34",
          "35-44",
          "35-44",
          "<25",
          "45-54",
          "45-54",
          "25-34",
          "25-34",
          "35-44",
          "25-34",
          "25-34",
          "<25",
          "<25",
          "35-44",
          "45-54",
          "55-64",
          "25-34",
          "35-44",
          "25-34",
          "<25",
          "35-44",
          "25-34",
          "25-34",
          "25-34",
          "35-44",
          "45-54",
          "45-54",
          "25-34",
          "45-54",
          "25-34",
          "<25",
          "25-34",
          "25-34",
          "35-44",
          "25-34",
          "<25",
          "25-34",
          "35-44",
          "45-54",
          "25-34",
          "25-34",
          "35-44",
          "<25",
          "45-54",
          "25-34",
          "35-44",
          "<25",
          "<25",
          "25-34",
          "<25",
          "25-34",
          "25-34",
          "25-34",
          "55-64",
          "55-64",
          "25-34",
          "25-34",
          "25-34",
          "25-34",
          "35-44",
          "35-44",
          "25-34",
          "35-44",
          "25-34",
          "35-44",
          "45-54",
          "55-64",
          "<25",
          "35-44",
          "45-54",
          "45-54",
          "25-34",
          "25-34",
          "35-44",
          "25-34",
          "45-54",
          "25-34",
          "45-54",
          "45-54",
          "55-64",
          "25-34",
          "25-34",
          "35-44",
          "45-54",
          "<25",
          "45-54",
          "25-34",
          "25-34",
          "65+",
          "55-64",
          "<25",
          "35-44",
          "25-34",
          "45-54",
          "35-44",
          "<25",
          "25-34",
          "<25",
          "45-54",
          "45-54",
          "45-54",
          "<25",
          "25-34",
          "<25",
          "35-44",
          "<25",
          "<25",
          "35-44",
          "<25",
          "45-54",
          "<25",
          "45-54",
          "35-44",
          "<25",
          "25-34",
          "35-44",
          "<25",
          "25-34",
          "55-64",
          "<25",
          "<25",
          "25-34",
          "25-34",
          "35-44",
          "25-34",
          "25-34",
          "45-54",
          "<25",
          "<25",
          "35-44",
          "55-64",
          "25-34",
          "45-54",
          "25-34",
          "35-44",
          "25-34",
          "35-44",
          "<25",
          "25-34",
          "35-44",
          "25-34",
          "35-44",
          "<25",
          "45-54",
          "<25",
          "35-44",
          "55-64",
          "25-34"
         ],
         "xaxis": "x",
         "y": [
          10205.521212121212,
          5687.423312883436,
          8301.72972972973,
          3633.2,
          5312.12962962963,
          11908.509803921568,
          4715.4,
          3594.051724137931,
          8626.70796460177,
          3787.0434782608695,
          6626.9098360655735,
          1303.611111111111,
          5622.133333333333,
          9214.798076923076,
          2664.4615384615386,
          9994.432692307691,
          9791.608695652174,
          null,
          4696.526315789473,
          10587.986577181207,
          6235.238095238095,
          5667.045977011494,
          6769.695652173913,
          3885,
          3021.181818181818,
          12565.815789473685,
          6330.03125,
          7969.027586206897,
          4745.2,
          5525.080459770115,
          1218.5,
          12005.373665480427,
          6839.791666666667,
          5571.338983050848,
          8997.1,
          5790.273972602739,
          5051.865384615385,
          7013.284403669725,
          6208.58152173913,
          7144.333333333333,
          6951.46511627907,
          4174.9375,
          4235.260869565217,
          7326.1736842105265,
          8491.308333333332,
          4304.121212121212,
          8788.79057591623,
          8205.015625,
          8948.551724137931,
          4343.657142857143,
          5905.079831932773,
          4335.1,
          3689.4583333333335,
          4171.02,
          3855.5,
          1958.6666666666667,
          4459.923611111111,
          10773.95,
          9841.166666666666,
          5248.7,
          9140.409356725146,
          13409.394736842105,
          8854.00790513834,
          4085.6206896551726,
          5120.8442622950815,
          8786.64705882353,
          8069.644927536232,
          15178.09009009009,
          4706.466666666666,
          5638.626666666667,
          4625.666666666667,
          6582.890804597701,
          6035.454545454545,
          5453.8875,
          9026.774774774774,
          7155.733333333334,
          6836.855670103093,
          7348,
          8799.25925925926,
          3532,
          8084.109195402299,
          6375.732673267326,
          5545,
          7459.564705882353,
          3115.7368421052633,
          5482.333333333333,
          5565.207547169812,
          7085.573333333334,
          5388.909090909091,
          5078.851063829788,
          8978.511764705883,
          4945.736842105263,
          4440.2,
          7410.7,
          4374.104166666667,
          null,
          3964.0454545454545,
          3732.3055555555557,
          7674.601307189542,
          4854.592592592592,
          4318.413043478261,
          4776.083333333333,
          6462.041666666667,
          6621.083333333333,
          11847,
          6054.2594936708865,
          7823.6864864864865,
          10538.31623931624,
          3534.5,
          22842.716845878138,
          5676.444444444444,
          4036.0943396226417,
          4362.916666666667,
          6855.976525821597,
          11432.459854014598,
          5054.068493150685,
          9749.41,
          3797,
          7516.747252747253,
          2249.5,
          842,
          9179.89705882353,
          11388.43137254902,
          7178.891566265061,
          2690.285714285714,
          9658.32142857143,
          4083.5,
          4754.493150684932,
          2126.294117647059,
          8772.981132075472,
          8159.446927374302,
          6240.073033707865,
          7575.788079470199,
          2185.5,
          6700.431654676259,
          10973.48161764706,
          10503.623287671233,
          4334.4375,
          9427.436974789916,
          3866.40625,
          8033.384615384615,
          5100.141414141414,
          3368.2,
          7334,
          5783.708333333333,
          6492.964566929134,
          7004.424657534247,
          8425.101063829787,
          4611.096774193548,
          12806.922448979592,
          5674.837209302325,
          5789.338028169014,
          8327.528037383177,
          5391.545454545455,
          2592,
          1619.8,
          3027.6666666666665,
          5367.5,
          14840.966480446927,
          4354.558823529412,
          7180.096774193548,
          6597.042168674699,
          9097.119453924915,
          5426.5,
          2022,
          5677.627118644068,
          8724.975609756097,
          2815.2272727272725,
          6244.857142857143,
          4091.0898876404494,
          3534.9285714285716,
          7119,
          5525.024390243902,
          10219.295302013423,
          2489.55,
          5474.25,
          10684.791666666666,
          2878.25,
          10650.578947368422,
          5855.157142857143,
          7751.5875,
          10679.401315789473,
          10022.5,
          5237.757352941177,
          12420.849397590362,
          2982.6470588235293,
          5231.420560747663,
          5930.111111111111,
          5010.5,
          6947.226190476191,
          3628.6296296296296,
          3221,
          4872.333333333333,
          5957.85294117647,
          11067.538461538461,
          3957.4074074074074,
          3047.6153846153848,
          9176.654275092937,
          7056.188172043011,
          12016.51923076923,
          6101.6484375,
          7773.834024896266,
          6225.235294117647,
          9800.67901234568,
          4665,
          null,
          5297.166666666667,
          6664.042372881356,
          6752.772727272727,
          6631.327272727272,
          4151.697674418605,
          4173.818181818182,
          11067.265957446809,
          4270.676470588235,
          8326.48695652174,
          4594,
          4634.3725490196075,
          7492.660869565218,
          11392.042253521127,
          6029.680365296804,
          6796.765625,
          4583.388888888889,
          7363.657657657658,
          5072.008196721312,
          11078.947368421053,
          6512.392857142857,
          4268.285714285715,
          5810.122448979592,
          4683.894736842105,
          6348.96,
          3781.1428571428573,
          6139.453815261044,
          7018.326530612245,
          7571.364161849711,
          9444.591240875912,
          8740.45751633987,
          7896.857142857143,
          11188.40329218107,
          6986.006734006734,
          7040.6,
          13963.737704918032,
          5976.466666666666,
          5678.790178571428,
          4716.281818181818,
          12500.575,
          8841.230215827338,
          2796,
          5063.53125,
          10314.84375,
          4186.029411764706,
          7886.4409937888195,
          1970.0454545454545,
          2763.6666666666665,
          10029.570422535211,
          8607.84023668639,
          6173.777777777777,
          7236.80985915493,
          5625.51282051282,
          10377.72131147541,
          3605.128205128205,
          7659.848039215686,
          7579.263157894737,
          8355.887218045113,
          5035.275,
          7130.084507042254,
          3841.1794871794873,
          4849.583333333333,
          4065.8571428571427,
          14811.06111111111,
          9668.5,
          9236.6625,
          2070.6,
          6026.03125,
          8661.831460674157,
          8694,
          7027.695238095238,
          9543.795454545454,
          6224,
          9751.026490066226,
          9799.058035714286,
          11862.106796116504,
          5168.692307692308,
          7868.7959183673465,
          10306.17679558011,
          6216.906976744186,
          4879.794871794872,
          5936.105882352941,
          9986.885416666666,
          3543.744680851064,
          5747.538461538462,
          5947.87012987013,
          6404.068965517241,
          6043.875,
          6108.025125628141,
          5009.354166666667,
          5833.09375,
          9046.018072289156,
          2298.9166666666665,
          8707.86348122867,
          7788.454954954955,
          5826.662280701755,
          4040.8444444444444,
          16378.346153846154,
          15031.90909090909,
          5532.674418604651,
          11267.666666666666,
          6013.5,
          null,
          7551.805555555556,
          5301.976190476191,
          15531.048128342247,
          4206.56,
          5954.345911949686,
          4824.428571428572,
          11192.849740932643,
          3581.1470588235293,
          6940.0921052631575,
          5996.876811594203,
          10348.45588235294,
          2821.1052631578946,
          1762,
          4400.733766233766,
          8065.125,
          2930.3571428571427,
          3477.2,
          4632.646551724138,
          5577.923076923077,
          3481,
          2487.875,
          4914.533333333334,
          4705.208333333333,
          8433.76404494382,
          4666.826815642458,
          7734.979797979798,
          8954,
          10258.529761904761,
          4226.317073170731,
          3715.535714285714,
          3114.9666666666667,
          7733.049056603773,
          8310.506666666666,
          4312.333333333333,
          7384,
          6771.524193548387,
          6637.962025316456,
          8053.4496644295305,
          1944.75,
          5905.081081081081,
          2569.75,
          5883.4,
          8423.255102040815,
          10233.407692307692,
          7195.125,
          2865.84,
          5346.542857142857,
          5045.2,
          6657,
          6585.666666666667,
          11088.036764705883,
          5067.191489361702,
          3827.1724137931033,
          7649.065789473684,
          11258.5,
          6175.533333333334,
          4790.027027027027,
          6026.6,
          11288.92,
          6710.5,
          8998.067226890757,
          8061.527777777777,
          8254.573170731708,
          4759.470588235294,
          3939.3571428571427,
          8763.020689655172,
          6715.818181818182,
          7671,
          9885.525,
          2450.0526315789475,
          8075.318181818182,
          4432,
          9809.526570048309,
          9223.83962264151,
          5056.619047619048,
          4700,
          2508.375,
          3960.6769230769232,
          5597.782051282052,
          7837.067164179104,
          5585.58,
          15405.474489795919,
          3157.818181818182,
          6076.748201438849,
          3805.0833333333335,
          6384.557894736842,
          4722.3540372670805,
          4089.125,
          1745.3333333333333,
          5666.5,
          3128.090909090909,
          3890.55,
          6715.314285714286,
          8469.705521472393,
          6284.333333333333,
          3042,
          6369.037974683544,
          4246.928571428572,
          10180.423076923076,
          7836.933333333333,
          8407.062857142857,
          7721.1122448979595,
          6373.25,
          6125.0609756097565,
          5340.045454545455,
          5119.854838709677,
          10991.670731707318,
          3464.375,
          4164,
          3266.266666666667,
          7223.504587155963,
          6163.480392156863,
          8982.180327868853,
          7349.955882352941,
          12063.053380782918,
          9342.782608695652,
          5222.287037037037,
          5701.058823529412,
          3099.8333333333335,
          3914.5714285714284,
          12560.666666666666,
          5374.016304347826,
          6805.360215053764,
          2981.5,
          7476.959349593496,
          5066.518518518518,
          3775.6290322580644,
          4788.642857142857,
          2852.1,
          8267.3671875,
          6787.214689265536,
          6016.25,
          3501.6666666666665,
          2727.5,
          6061.56338028169,
          4297.8490566037735,
          9448.098360655738,
          6990.919354838709,
          3172.5,
          3104,
          6768.9701492537315,
          5084.774193548387,
          3432.046511627907,
          4475.977272727273,
          2585.777777777778,
          12608.267015706806,
          11985.082278481013,
          7233.0625,
          8265.146666666667,
          8866.954128440368,
          5966.213114754099,
          11263.52972972973,
          7450.0058139534885,
          5869.992592592593,
          8467.031446540881,
          6743.24,
          9577.093023255815,
          2882.6666666666665,
          5994.297619047619,
          4320.446808510638,
          4528.7692307692305,
          6671.111111111111,
          5757.865384615385,
          6016.727272727273,
          12910.075342465754,
          6502.085271317829,
          10024.56462585034,
          10462.384146341463,
          6911.574257425743,
          6357.34375,
          6964.261538461538,
          12012.966101694916,
          5674.0615384615385,
          15796.350553505536,
          12252.154761904761,
          13587.165562913908,
          10827.728571428572,
          8891.847457627118,
          5258.895833333333,
          5318.730158730159,
          7972.170731707317,
          6724.588235294118,
          4621.8,
          7415.496,
          6716.140243902439,
          6683.737704918033,
          9839.112612612613,
          5509.271794871795,
          13721.063909774437,
          7284.416666666667,
          3855.3939393939395,
          1612.3,
          8399.670212765957,
          6162.5,
          7955.147727272727,
          6322.097222222223,
          4484.166666666667,
          9275.5,
          6133.836734693878,
          4769.959183673469,
          4520.76,
          5778.238805970149,
          7217.102803738318,
          8815.252808988764,
          4588.307692307692,
          5590.575342465753,
          8111.9473684210525,
          14835.107883817427,
          7929.309352517986,
          8857.828451882846,
          7237.955555555555,
          5280.237288135593,
          10872.842105263158,
          6237.488,
          13705.69547325103,
          6553.038095238096,
          8578.194915254237,
          4813.172413793103,
          4906.56,
          5120.888888888889,
          10229.354838709678,
          7647.535483870968,
          8583.029411764706,
          11772.77358490566,
          8735.19512195122,
          10432.363157894737,
          16026.470238095239,
          8286.888888888889,
          15382.097826086956,
          7377.982456140351,
          2645.5714285714284,
          7818.67,
          10098.792452830188,
          3385.391304347826,
          3653.4285714285716,
          10802.38028169014,
          3931.5625,
          8316.64393939394,
          5071.025,
          7992,
          8748.851485148514,
          4581.2,
          1765.2,
          3504.346153846154,
          7644.603773584906,
          null,
          4587.884615384615,
          9596.243902439024,
          7891.366666666667,
          7349.151260504202,
          3763.2297297297296,
          4877.818181818182,
          1289.5555555555557,
          9026.97435897436,
          4727.95652173913,
          9766.056910569107,
          11143.52564102564,
          null,
          9087.903553299493,
          6077.804511278196,
          10503.421052631578,
          6385.8,
          5036.8432835820895,
          10071.6328125,
          3143.1666666666665,
          8045.098591549296,
          6475.777777777777,
          7561.5502183406115,
          4881.263736263736,
          7167.248120300752,
          6516.208333333333,
          4268.727272727273,
          6320.556213017751,
          7592.163265306122,
          8539.42,
          4636,
          10107.32319391635,
          9760.972413793104,
          2985.3783783783783,
          7828.305882352941,
          2979.78125,
          3433.285714285714,
          5132.541666666667,
          12479.41056910569,
          6548.548571428571,
          6247.392156862745,
          4268.123595505618,
          6943.5,
          5461.251497005988,
          5883.12676056338,
          4642.855172413793,
          7723.828947368421,
          6693.333333333333,
          4388.444444444444,
          5834.459016393443,
          6644.596566523605,
          6536.5703125,
          9178.101351351352,
          7697.045045045045,
          5807.092783505154,
          7836.076271186441,
          4466.9,
          2445.6176470588234,
          4645.741666666667,
          7501.581081081081,
          4766.857142857143,
          10331.408163265307,
          9164.48275862069,
          4,
          6049.1578947368425,
          2923.3333333333335,
          6245.006060606061,
          5303.644736842105,
          5816.226415094339,
          8713.32701421801,
          8978.548507462687,
          7553.311111111111,
          6322.521739130435,
          9724.11374407583,
          3843.875,
          3483.785714285714,
          5311.017045454545,
          1916.8,
          7669.804878048781,
          3815.0555555555557,
          9429.463917525773,
          4457.812080536913,
          5383.709677419355,
          5461.118644067797,
          7237.09375,
          4318.818181818182,
          4262.46511627907,
          12042.204819277109,
          4356.233766233766,
          8966.31182795699,
          3469.5333333333333,
          4842.268292682927,
          6032.504424778761,
          4939.666666666667,
          5799.333333333333,
          7722.712871287129,
          5293.020618556701,
          3551.075,
          4126.163636363636,
          4672.928571428572,
          4925.75,
          2775.5789473684213,
          8898.241935483871,
          16487.87116564417,
          4373.84693877551,
          2501.25,
          6561.521367521367,
          9693.657894736842,
          4161.523809523809,
          5406.454545454545,
          6046.574324324324,
          7877.932203389831,
          1853.5,
          3594.2105263157896,
          4665.010752688172,
          5297.40625,
          5377.212765957447,
          3475.285714285714,
          9483.406593406593,
          5795.653333333334,
          8606.416216216216,
          8416.733333333334,
          8152.2830188679245,
          4463.508670520231,
          5016.523809523809,
          7557.238095238095,
          3034,
          7440.795454545455,
          9334.805084745763,
          7596.577639751553,
          4303.593406593406,
          7258.4,
          4228.5344827586205,
          3939.7078651685392,
          8425.365853658537,
          9206.522448979591,
          3324.269230769231,
          5503.307692307692,
          8456.82142857143,
          6866.608490566037,
          6595.135135135135,
          7190.347368421053,
          4535.529411764706,
          9608.205128205129,
          10531.203488372093,
          3208.5263157894738,
          2743.875,
          5678.771028037383,
          3619.866666666667,
          4981.70786516854,
          6060.064814814815,
          4444.419354838709,
          4303,
          5065.184466019417,
          4937.461538461538,
          3729.5882352941176,
          6103.592307692307,
          3432.9777777777776,
          4140.419354838709,
          1598,
          6297.523809523809,
          10076.676056338029,
          8051.935344827586,
          10283.625,
          4556.909090909091,
          8324,
          7812.025423728814,
          10205.624365482234,
          5059.448275862069,
          6951.125,
          7757.153846153846,
          3192.2,
          6202.5,
          10343.807272727272,
          7885.16,
          4112.375,
          5224.632352941177,
          4010.732558139535,
          4868.040816326531,
          2993.3333333333335,
          10192.526315789473,
          4979.9152542372885,
          11047.805309734513,
          5560.1,
          3627.9210526315787,
          6312.419354838709,
          6480.582191780822,
          null,
          4182.59,
          9189.738095238095,
          11308.566666666668,
          5489,
          6675.044943820225,
          4989.6,
          6722.631578947368,
          7618,
          7288.166666666667,
          1856.3333333333333,
          5562.459016393443,
          4110.28125,
          5298,
          7113.625668449198,
          9979.269076305221,
          11947.136363636364,
          5937.36170212766,
          5592.939393939394,
          5162.382113821138,
          4471.475113122172,
          4093.4444444444443,
          4825.45,
          12354.542222222222,
          5032.888888888889,
          4662.148148148148,
          1032.5,
          8880.427419354839,
          3794.24,
          9427.982905982906,
          5510.300970873786,
          6872.184782608696,
          5430.85,
          7958.7032967032965,
          7380.568181818182,
          5626.247967479675,
          6334.129032258064,
          11486.809523809523,
          10417.18811881188,
          7944.25,
          3809.1929824561403,
          12140.546558704453,
          3663.086956521739,
          8729.15671641791,
          5317.782608695652,
          11727.506787330316,
          2919.64,
          7046.832214765101,
          9397.938524590163,
          5534.206896551724,
          4319.75,
          8062.9098360655735,
          3241.5555555555557,
          6133.333333333333,
          13690.075862068965,
          7960.113924050633,
          8335.324324324325,
          6139.544303797468,
          11528.03305785124,
          5851,
          4894.865030674847,
          8903.358333333334,
          3495.0434782608695,
          9518.512605042017,
          3091.245614035088,
          3951.0070921985816,
          6416.401315789473,
          6856.6551724137935,
          6517.530487804878,
          1449.4,
          8965.275280898877,
          6285.386597938144,
          7939.314720812183,
          7147.275862068966,
          3901.4545454545455,
          8996.507246376812,
          9147.027397260274,
          7501.64,
          5365.241379310345,
          9794,
          10432.64705882353,
          5063.185185185185,
          3941.9189189189187,
          3502.5714285714284,
          5081.838235294118,
          6399.398550724638,
          4945.795698924731,
          5709.370892018779,
          3048.181818181818,
          6617.453333333333,
          4671.5,
          8542.422535211268,
          5439,
          6331.491803278688,
          20414.067039106147,
          6590.636363636364,
          8463.018181818183,
          7559.28813559322,
          7372.672727272728,
          7331.356097560975,
          15120.915492957747,
          6063.915662650603,
          4078.6666666666665,
          8093.725,
          7075.035714285715,
          4354.841269841269,
          10475.307692307691,
          4058.0555555555557,
          6680.076923076923,
          12701.654205607476,
          7981.484472049689,
          19893.464705882354,
          8128.739130434783,
          6195.266666666666,
          3951.1111111111113,
          5566.179487179487,
          2632.5,
          5911.620689655172,
          9647.762114537445,
          7736.7307692307695,
          7455.381395348837,
          4126.385714285714,
          6881.666666666667,
          5704.045871559633,
          13288.777777777777,
          7109.5,
          1210,
          10997.099290780141,
          6255.685393258427,
          4489.189189189189,
          2862.6969696969695,
          6691.338345864661,
          3744.7241379310344,
          5391.093406593406,
          3532.4285714285716,
          7772.929936305733,
          6414.6,
          9022.081196581197,
          6233.628571428571,
          5977.5,
          8247.150943396226,
          null,
          5296.027027027027,
          8218.367088607594,
          4795.341463414634,
          14009.206611570247,
          6464.31914893617,
          4817.1,
          5055.87037037037,
          3707.3142857142857,
          8964.023255813954,
          8548.153846153846,
          11059.615023474178,
          7311.3125,
          5266.285714285715,
          5070.666666666667,
          10903.825503355705,
          3387,
          15533.02380952381,
          1832.142857142857,
          6638.747474747474,
          4099.833333333333,
          10817.741935483871,
          6281.930817610063,
          6729.168539325843,
          9472.5625,
          4285.759259259259,
          15743.724738675959,
          5968.338461538461,
          7174.3239436619715,
          1914.75,
          13603.27734375,
          10457.031446540881,
          15213.159624413145,
          3786.1666666666665,
          7140.98347107438,
          5989.848920863309,
          5564.825581395349,
          9406.466666666667,
          9950.074074074075,
          13572.084507042253,
          3276.875,
          6930.907692307693,
          5174.375,
          6282.131868131868,
          4799.88,
          10030.326829268293,
          15679.67901234568,
          7584.467153284671
         ],
         "yaxis": "y"
        }
       ],
       "layout": {
        "barmode": "relative",
        "legend": {
         "tracegroupgap": 0
        },
        "margin": {
         "t": 60
        },
        "template": {
         "data": {
          "bar": [
           {
            "error_x": {
             "color": "#2a3f5f"
            },
            "error_y": {
             "color": "#2a3f5f"
            },
            "marker": {
             "line": {
              "color": "#E5ECF6",
              "width": 0.5
             },
             "pattern": {
              "fillmode": "overlay",
              "size": 10,
              "solidity": 0.2
             }
            },
            "type": "bar"
           }
          ],
          "barpolar": [
           {
            "marker": {
             "line": {
              "color": "#E5ECF6",
              "width": 0.5
             },
             "pattern": {
              "fillmode": "overlay",
              "size": 10,
              "solidity": 0.2
             }
            },
            "type": "barpolar"
           }
          ],
          "carpet": [
           {
            "aaxis": {
             "endlinecolor": "#2a3f5f",
             "gridcolor": "white",
             "linecolor": "white",
             "minorgridcolor": "white",
             "startlinecolor": "#2a3f5f"
            },
            "baxis": {
             "endlinecolor": "#2a3f5f",
             "gridcolor": "white",
             "linecolor": "white",
             "minorgridcolor": "white",
             "startlinecolor": "#2a3f5f"
            },
            "type": "carpet"
           }
          ],
          "choropleth": [
           {
            "colorbar": {
             "outlinewidth": 0,
             "ticks": ""
            },
            "type": "choropleth"
           }
          ],
          "contour": [
           {
            "colorbar": {
             "outlinewidth": 0,
             "ticks": ""
            },
            "colorscale": [
             [
              0,
              "#0d0887"
             ],
             [
              0.1111111111111111,
              "#46039f"
             ],
             [
              0.2222222222222222,
              "#7201a8"
             ],
             [
              0.3333333333333333,
              "#9c179e"
             ],
             [
              0.4444444444444444,
              "#bd3786"
             ],
             [
              0.5555555555555556,
              "#d8576b"
             ],
             [
              0.6666666666666666,
              "#ed7953"
             ],
             [
              0.7777777777777778,
              "#fb9f3a"
             ],
             [
              0.8888888888888888,
              "#fdca26"
             ],
             [
              1,
              "#f0f921"
             ]
            ],
            "type": "contour"
           }
          ],
          "contourcarpet": [
           {
            "colorbar": {
             "outlinewidth": 0,
             "ticks": ""
            },
            "type": "contourcarpet"
           }
          ],
          "heatmap": [
           {
            "colorbar": {
             "outlinewidth": 0,
             "ticks": ""
            },
            "colorscale": [
             [
              0,
              "#0d0887"
             ],
             [
              0.1111111111111111,
              "#46039f"
             ],
             [
              0.2222222222222222,
              "#7201a8"
             ],
             [
              0.3333333333333333,
              "#9c179e"
             ],
             [
              0.4444444444444444,
              "#bd3786"
             ],
             [
              0.5555555555555556,
              "#d8576b"
             ],
             [
              0.6666666666666666,
              "#ed7953"
             ],
             [
              0.7777777777777778,
              "#fb9f3a"
             ],
             [
              0.8888888888888888,
              "#fdca26"
             ],
             [
              1,
              "#f0f921"
             ]
            ],
            "type": "heatmap"
           }
          ],
          "heatmapgl": [
           {
            "colorbar": {
             "outlinewidth": 0,
             "ticks": ""
            },
            "colorscale": [
             [
              0,
              "#0d0887"
             ],
             [
              0.1111111111111111,
              "#46039f"
             ],
             [
              0.2222222222222222,
              "#7201a8"
             ],
             [
              0.3333333333333333,
              "#9c179e"
             ],
             [
              0.4444444444444444,
              "#bd3786"
             ],
             [
              0.5555555555555556,
              "#d8576b"
             ],
             [
              0.6666666666666666,
              "#ed7953"
             ],
             [
              0.7777777777777778,
              "#fb9f3a"
             ],
             [
              0.8888888888888888,
              "#fdca26"
             ],
             [
              1,
              "#f0f921"
             ]
            ],
            "type": "heatmapgl"
           }
          ],
          "histogram": [
           {
            "marker": {
             "pattern": {
              "fillmode": "overlay",
              "size": 10,
              "solidity": 0.2
             }
            },
            "type": "histogram"
           }
          ],
          "histogram2d": [
           {
            "colorbar": {
             "outlinewidth": 0,
             "ticks": ""
            },
            "colorscale": [
             [
              0,
              "#0d0887"
             ],
             [
              0.1111111111111111,
              "#46039f"
             ],
             [
              0.2222222222222222,
              "#7201a8"
             ],
             [
              0.3333333333333333,
              "#9c179e"
             ],
             [
              0.4444444444444444,
              "#bd3786"
             ],
             [
              0.5555555555555556,
              "#d8576b"
             ],
             [
              0.6666666666666666,
              "#ed7953"
             ],
             [
              0.7777777777777778,
              "#fb9f3a"
             ],
             [
              0.8888888888888888,
              "#fdca26"
             ],
             [
              1,
              "#f0f921"
             ]
            ],
            "type": "histogram2d"
           }
          ],
          "histogram2dcontour": [
           {
            "colorbar": {
             "outlinewidth": 0,
             "ticks": ""
            },
            "colorscale": [
             [
              0,
              "#0d0887"
             ],
             [
              0.1111111111111111,
              "#46039f"
             ],
             [
              0.2222222222222222,
              "#7201a8"
             ],
             [
              0.3333333333333333,
              "#9c179e"
             ],
             [
              0.4444444444444444,
              "#bd3786"
             ],
             [
              0.5555555555555556,
              "#d8576b"
             ],
             [
              0.6666666666666666,
              "#ed7953"
             ],
             [
              0.7777777777777778,
              "#fb9f3a"
             ],
             [
              0.8888888888888888,
              "#fdca26"
             ],
             [
              1,
              "#f0f921"
             ]
            ],
            "type": "histogram2dcontour"
           }
          ],
          "mesh3d": [
           {
            "colorbar": {
             "outlinewidth": 0,
             "ticks": ""
            },
            "type": "mesh3d"
           }
          ],
          "parcoords": [
           {
            "line": {
             "colorbar": {
              "outlinewidth": 0,
              "ticks": ""
             }
            },
            "type": "parcoords"
           }
          ],
          "pie": [
           {
            "automargin": true,
            "type": "pie"
           }
          ],
          "scatter": [
           {
            "marker": {
             "colorbar": {
              "outlinewidth": 0,
              "ticks": ""
             }
            },
            "type": "scatter"
           }
          ],
          "scatter3d": [
           {
            "line": {
             "colorbar": {
              "outlinewidth": 0,
              "ticks": ""
             }
            },
            "marker": {
             "colorbar": {
              "outlinewidth": 0,
              "ticks": ""
             }
            },
            "type": "scatter3d"
           }
          ],
          "scattercarpet": [
           {
            "marker": {
             "colorbar": {
              "outlinewidth": 0,
              "ticks": ""
             }
            },
            "type": "scattercarpet"
           }
          ],
          "scattergeo": [
           {
            "marker": {
             "colorbar": {
              "outlinewidth": 0,
              "ticks": ""
             }
            },
            "type": "scattergeo"
           }
          ],
          "scattergl": [
           {
            "marker": {
             "colorbar": {
              "outlinewidth": 0,
              "ticks": ""
             }
            },
            "type": "scattergl"
           }
          ],
          "scattermapbox": [
           {
            "marker": {
             "colorbar": {
              "outlinewidth": 0,
              "ticks": ""
             }
            },
            "type": "scattermapbox"
           }
          ],
          "scatterpolar": [
           {
            "marker": {
             "colorbar": {
              "outlinewidth": 0,
              "ticks": ""
             }
            },
            "type": "scatterpolar"
           }
          ],
          "scatterpolargl": [
           {
            "marker": {
             "colorbar": {
              "outlinewidth": 0,
              "ticks": ""
             }
            },
            "type": "scatterpolargl"
           }
          ],
          "scatterternary": [
           {
            "marker": {
             "colorbar": {
              "outlinewidth": 0,
              "ticks": ""
             }
            },
            "type": "scatterternary"
           }
          ],
          "surface": [
           {
            "colorbar": {
             "outlinewidth": 0,
             "ticks": ""
            },
            "colorscale": [
             [
              0,
              "#0d0887"
             ],
             [
              0.1111111111111111,
              "#46039f"
             ],
             [
              0.2222222222222222,
              "#7201a8"
             ],
             [
              0.3333333333333333,
              "#9c179e"
             ],
             [
              0.4444444444444444,
              "#bd3786"
             ],
             [
              0.5555555555555556,
              "#d8576b"
             ],
             [
              0.6666666666666666,
              "#ed7953"
             ],
             [
              0.7777777777777778,
              "#fb9f3a"
             ],
             [
              0.8888888888888888,
              "#fdca26"
             ],
             [
              1,
              "#f0f921"
             ]
            ],
            "type": "surface"
           }
          ],
          "table": [
           {
            "cells": {
             "fill": {
              "color": "#EBF0F8"
             },
             "line": {
              "color": "white"
             }
            },
            "header": {
             "fill": {
              "color": "#C8D4E3"
             },
             "line": {
              "color": "white"
             }
            },
            "type": "table"
           }
          ]
         },
         "layout": {
          "annotationdefaults": {
           "arrowcolor": "#2a3f5f",
           "arrowhead": 0,
           "arrowwidth": 1
          },
          "autotypenumbers": "strict",
          "coloraxis": {
           "colorbar": {
            "outlinewidth": 0,
            "ticks": ""
           }
          },
          "colorscale": {
           "diverging": [
            [
             0,
             "#8e0152"
            ],
            [
             0.1,
             "#c51b7d"
            ],
            [
             0.2,
             "#de77ae"
            ],
            [
             0.3,
             "#f1b6da"
            ],
            [
             0.4,
             "#fde0ef"
            ],
            [
             0.5,
             "#f7f7f7"
            ],
            [
             0.6,
             "#e6f5d0"
            ],
            [
             0.7,
             "#b8e186"
            ],
            [
             0.8,
             "#7fbc41"
            ],
            [
             0.9,
             "#4d9221"
            ],
            [
             1,
             "#276419"
            ]
           ],
           "sequential": [
            [
             0,
             "#0d0887"
            ],
            [
             0.1111111111111111,
             "#46039f"
            ],
            [
             0.2222222222222222,
             "#7201a8"
            ],
            [
             0.3333333333333333,
             "#9c179e"
            ],
            [
             0.4444444444444444,
             "#bd3786"
            ],
            [
             0.5555555555555556,
             "#d8576b"
            ],
            [
             0.6666666666666666,
             "#ed7953"
            ],
            [
             0.7777777777777778,
             "#fb9f3a"
            ],
            [
             0.8888888888888888,
             "#fdca26"
            ],
            [
             1,
             "#f0f921"
            ]
           ],
           "sequentialminus": [
            [
             0,
             "#0d0887"
            ],
            [
             0.1111111111111111,
             "#46039f"
            ],
            [
             0.2222222222222222,
             "#7201a8"
            ],
            [
             0.3333333333333333,
             "#9c179e"
            ],
            [
             0.4444444444444444,
             "#bd3786"
            ],
            [
             0.5555555555555556,
             "#d8576b"
            ],
            [
             0.6666666666666666,
             "#ed7953"
            ],
            [
             0.7777777777777778,
             "#fb9f3a"
            ],
            [
             0.8888888888888888,
             "#fdca26"
            ],
            [
             1,
             "#f0f921"
            ]
           ]
          },
          "colorway": [
           "#636efa",
           "#EF553B",
           "#00cc96",
           "#ab63fa",
           "#FFA15A",
           "#19d3f3",
           "#FF6692",
           "#B6E880",
           "#FF97FF",
           "#FECB52"
          ],
          "font": {
           "color": "#2a3f5f"
          },
          "geo": {
           "bgcolor": "white",
           "lakecolor": "white",
           "landcolor": "#E5ECF6",
           "showlakes": true,
           "showland": true,
           "subunitcolor": "white"
          },
          "hoverlabel": {
           "align": "left"
          },
          "hovermode": "closest",
          "mapbox": {
           "style": "light"
          },
          "paper_bgcolor": "white",
          "plot_bgcolor": "#E5ECF6",
          "polar": {
           "angularaxis": {
            "gridcolor": "white",
            "linecolor": "white",
            "ticks": ""
           },
           "bgcolor": "#E5ECF6",
           "radialaxis": {
            "gridcolor": "white",
            "linecolor": "white",
            "ticks": ""
           }
          },
          "scene": {
           "xaxis": {
            "backgroundcolor": "#E5ECF6",
            "gridcolor": "white",
            "gridwidth": 2,
            "linecolor": "white",
            "showbackground": true,
            "ticks": "",
            "zerolinecolor": "white"
           },
           "yaxis": {
            "backgroundcolor": "#E5ECF6",
            "gridcolor": "white",
            "gridwidth": 2,
            "linecolor": "white",
            "showbackground": true,
            "ticks": "",
            "zerolinecolor": "white"
           },
           "zaxis": {
            "backgroundcolor": "#E5ECF6",
            "gridcolor": "white",
            "gridwidth": 2,
            "linecolor": "white",
            "showbackground": true,
            "ticks": "",
            "zerolinecolor": "white"
           }
          },
          "shapedefaults": {
           "line": {
            "color": "#2a3f5f"
           }
          },
          "ternary": {
           "aaxis": {
            "gridcolor": "white",
            "linecolor": "white",
            "ticks": ""
           },
           "baxis": {
            "gridcolor": "white",
            "linecolor": "white",
            "ticks": ""
           },
           "bgcolor": "#E5ECF6",
           "caxis": {
            "gridcolor": "white",
            "linecolor": "white",
            "ticks": ""
           }
          },
          "title": {
           "x": 0.05
          },
          "xaxis": {
           "automargin": true,
           "gridcolor": "white",
           "linecolor": "white",
           "ticks": "",
           "title": {
            "standoff": 15
           },
           "zerolinecolor": "white",
           "zerolinewidth": 2
          },
          "yaxis": {
           "automargin": true,
           "gridcolor": "white",
           "linecolor": "white",
           "ticks": "",
           "title": {
            "standoff": 15
           },
           "zerolinecolor": "white",
           "zerolinewidth": 2
          }
         }
        },
        "xaxis": {
         "anchor": "y",
         "domain": [
          0,
          1
         ],
         "title": {
          "text": "age"
         }
        },
        "yaxis": {
         "anchor": "x",
         "domain": [
          0,
          1
         ],
         "title": {
          "text": "avg of mean_step"
         }
        }
       }
      },
      "text/html": [
       "<div>                            <div id=\"3b499bdf-473e-4b20-929b-4fe9b3367fe1\" class=\"plotly-graph-div\" style=\"height:525px; width:100%;\"></div>            <script type=\"text/javascript\">                require([\"plotly\"], function(Plotly) {                    window.PLOTLYENV=window.PLOTLYENV || {};                                    if (document.getElementById(\"3b499bdf-473e-4b20-929b-4fe9b3367fe1\")) {                    Plotly.newPlot(                        \"3b499bdf-473e-4b20-929b-4fe9b3367fe1\",                        [{\"alignmentgroup\":\"True\",\"bingroup\":\"x\",\"histfunc\":\"avg\",\"hovertemplate\":\"age=%{x}<br>avg of mean_step=%{y}<extra></extra>\",\"legendgroup\":\"\",\"marker\":{\"color\":\"#636efa\",\"pattern\":{\"shape\":\"\"}},\"name\":\"\",\"offsetgroup\":\"\",\"orientation\":\"v\",\"showlegend\":false,\"x\":[\"25-34\",\"35-44\",\"25-34\",\"<25\",\"25-34\",\"35-44\",\"25-34\",\"25-34\",\"35-44\",\"25-34\",\"<25\",\"45-54\",\"25-34\",\"45-54\",\"55-64\",\"25-34\",\"25-34\",\"35-44\",\"25-34\",\"55-64\",\"25-34\",\"45-54\",\"25-34\",\"25-34\",\"55-64\",\"35-44\",\"55-64\",\"35-44\",\"35-44\",\"<25\",\"25-34\",\"25-34\",\"<25\",\"25-34\",\"45-54\",\"25-34\",\"<25\",\"35-44\",\"45-54\",\"25-34\",\"<25\",\"25-34\",\"45-54\",\"35-44\",\"25-34\",\"25-34\",\"25-34\",\"45-54\",\"25-34\",\"55-64\",\"35-44\",\"35-44\",\"25-34\",\"25-34\",\"45-54\",\"65+\",\"25-34\",\"55-64\",\"25-34\",\"25-34\",\"25-34\",\"45-54\",\"<25\",\"45-54\",\"35-44\",\"25-34\",\"25-34\",\"35-44\",\"45-54\",\"<25\",\"35-44\",\"25-34\",\"25-34\",\"<25\",\"25-34\",\"<25\",\"55-64\",\"<25\",\"25-34\",\"25-34\",\"45-54\",\"35-44\",\"55-64\",\"25-34\",\"35-44\",\"25-34\",\"25-34\",\"55-64\",\"<25\",\"25-34\",\"55-64\",\"25-34\",\"25-34\",\"25-34\",\"35-44\",\"25-34\",\"35-44\",\"25-34\",\"25-34\",\"25-34\",\"25-34\",\"<25\",\"25-34\",\"35-44\",\"25-34\",\"25-34\",\"25-34\",\"45-54\",\"35-44\",\"45-54\",\"25-34\",\"25-34\",\"25-34\",\"45-54\",\"25-34\",\"<25\",\"45-54\",\"45-54\",\"<25\",\"<25\",\"45-54\",\"45-54\",\"25-34\",\"25-34\",\"<25\",\"35-44\",\"25-34\",\"25-34\",\"25-34\",\"45-54\",\"35-44\",\"45-54\",\"25-34\",\"25-34\",\"25-34\",\"25-34\",\"45-54\",\"<25\",\"25-34\",\"25-34\",\"55-64\",\"25-34\",\"45-54\",\"35-44\",\"25-34\",\"45-54\",\"45-54\",\"45-54\",\"25-34\",\"35-44\",\"25-34\",\"25-34\",\"25-34\",\"45-54\",\"25-34\",\"25-34\",\"65+\",\"65+\",\"35-44\",\"25-34\",\"25-34\",\"25-34\",\"45-54\",\"25-34\",\"45-54\",\"25-34\",\"45-54\",\"25-34\",\"25-34\",\"25-34\",\"25-34\",\"45-54\",\"25-34\",\"25-34\",\"35-44\",\"35-44\",\"25-34\",\"25-34\",\"<25\",\"25-34\",\"25-34\",\"35-44\",\"35-44\",\"25-34\",\"45-54\",\"25-34\",\"45-54\",\"25-34\",\"35-44\",\"<25\",\"25-34\",\"25-34\",\"<25\",\"45-54\",\"55-64\",\"25-34\",\"25-34\",\"25-34\",\"25-34\",\"25-34\",\"25-34\",\"45-54\",\"<25\",\"45-54\",\"35-44\",\"<25\",\"35-44\",\"35-44\",\"45-54\",\"45-54\",\"25-34\",\"25-34\",\"35-44\",\"25-34\",\"45-54\",\"25-34\",\"25-34\",\"25-34\",\"35-44\",\"25-34\",\"25-34\",\"<25\",\"45-54\",\"35-44\",\"45-54\",\"35-44\",\"<25\",\"25-34\",\"25-34\",\"25-34\",\"25-34\",\"25-34\",\"25-34\",\"25-34\",\"45-54\",\"25-34\",\"25-34\",\"25-34\",\"25-34\",\"25-34\",\"25-34\",\"25-34\",\"45-54\",\"25-34\",\"55-64\",\"25-34\",\"<25\",\"35-44\",\"35-44\",\"25-34\",\"<25\",\"25-34\",\"35-44\",\"35-44\",\"45-54\",\"25-34\",\"<25\",\"25-34\",\"35-44\",\"35-44\",\"55-64\",\"25-34\",\"25-34\",\"25-34\",\"35-44\",\"45-54\",\"25-34\",\"45-54\",\"25-34\",\"45-54\",\"25-34\",\"45-54\",\"25-34\",\"25-34\",\"35-44\",\"45-54\",\"<25\",\"45-54\",\"45-54\",\"45-54\",\"55-64\",\"35-44\",\"45-54\",\"25-34\",\"45-54\",\"45-54\",\"<25\",\"25-34\",\"<25\",\"25-34\",\"<25\",\"25-34\",\"55-64\",\"25-34\",\"25-34\",\"25-34\",\"<25\",\"35-44\",\"45-54\",\"45-54\",\"35-44\",\"25-34\",\"45-54\",\"25-34\",\"25-34\",\"35-44\",\"25-34\",\"35-44\",\"25-34\",\"35-44\",\"55-64\",\"35-44\",\"25-34\",\"25-34\",\"25-34\",\"35-44\",\"35-44\",\"25-34\",\"45-54\",\"25-34\",\"25-34\",\"45-54\",\"25-34\",\"45-54\",\"<25\",\"25-34\",\"<25\",\"25-34\",\"25-34\",\"45-54\",\"<25\",\"35-44\",\"45-54\",\"25-34\",\"25-34\",\"<25\",\"<25\",\"45-54\",\"25-34\",\"25-34\",\"25-34\",\"25-34\",\"25-34\",\"25-34\",\"45-54\",\"35-44\",\"25-34\",\"<25\",\"25-34\",\"25-34\",\"25-34\",\"25-34\",\"25-34\",\"45-54\",\"25-34\",\"25-34\",\"<25\",\"45-54\",\"45-54\",\"45-54\",\"<25\",\"25-34\",\"35-44\",\"35-44\",\"25-34\",\"35-44\",\"65+\",\"25-34\",\"25-34\",\"25-34\",\"55-64\",\"45-54\",\"<25\",\"35-44\",\"25-34\",\"35-44\",\"35-44\",\"45-54\",\"25-34\",\"35-44\",\"<25\",\"35-44\",\"25-34\",\"35-44\",\"25-34\",\"25-34\",\"35-44\",\"25-34\",\"35-44\",\"25-34\",\"35-44\",\"45-54\",\"35-44\",\"25-34\",\"25-34\",\"25-34\",\"45-54\",\"35-44\",\"35-44\",\"25-34\",\"25-34\",\"25-34\",\"35-44\",\"25-34\",\"<25\",\"65+\",\"35-44\",\"25-34\",\"25-34\",\"25-34\",\"<25\",\"25-34\",\"25-34\",\"25-34\",\"35-44\",\"35-44\",\"25-34\",\"<25\",\"<25\",\"25-34\",\"45-54\",\"35-44\",\"25-34\",\"25-34\",\"35-44\",\"<25\",\"<25\",\"<25\",\"<25\",\"35-44\",\"55-64\",\"25-34\",\"25-34\",\"35-44\",\"35-44\",\"<25\",\"55-64\",\"25-34\",\"25-34\",\"25-34\",\"45-54\",\"25-34\",\"25-34\",\"25-34\",\"35-44\",\"25-34\",\"35-44\",\"45-54\",\"25-34\",\"25-34\",\"<25\",\"25-34\",\"55-64\",\"35-44\",\"35-44\",\"25-34\",\"25-34\",\"55-64\",\"35-44\",\"<25\",\"35-44\",\"35-44\",\"25-34\",\"35-44\",\"25-34\",\"35-44\",\"25-34\",\"25-34\",\"25-34\",\"25-34\",\"35-44\",\"45-54\",\"35-44\",\"45-54\",\"25-34\",\"25-34\",\"25-34\",\"<25\",\"35-44\",\"45-54\",\"25-34\",\"55-64\",\"55-64\",\"55-64\",\"35-44\",\"25-34\",\"35-44\",\"25-34\",\"<25\",\"25-34\",\"25-34\",\"<25\",\"45-54\",\"<25\",\"25-34\",\"35-44\",\"55-64\",\"25-34\",\"25-34\",\"55-64\",\"25-34\",\"<25\",\"25-34\",\"45-54\",\"<25\",\"45-54\",\"45-54\",\"<25\",\"25-34\",\"45-54\",\"45-54\",\"25-34\",\"45-54\",\"45-54\",\"25-34\",\"55-64\",\"35-44\",\"45-54\",\"35-44\",\"35-44\",\"55-64\",\"25-34\",\"35-44\",\"<25\",\"25-34\",\"25-34\",\"<25\",\"<25\",\"45-54\",\"<25\",\"<25\",\"25-34\",\"25-34\",\"<25\",\"45-54\",\"45-54\",\"25-34\",\"45-54\",\"25-34\",\"25-34\",\"35-44\",\"45-54\",\"25-34\",\"35-44\",\"25-34\",\"35-44\",\"<25\",\"25-34\",\"25-34\",\"45-54\",\"25-34\",\"35-44\",\"55-64\",\"45-54\",\"25-34\",\"35-44\",\"25-34\",\"35-44\",\"45-54\",\"45-54\",\"25-34\",\"25-34\",\"25-34\",\"25-34\",\"35-44\",\"25-34\",\"25-34\",\"45-54\",\"35-44\",\"35-44\",\"25-34\",\"25-34\",\"<25\",\"25-34\",\"25-34\",\"25-34\",\"25-34\",\"25-34\",\"25-34\",\"<25\",\"35-44\",\"35-44\",\"25-34\",\"25-34\",\"35-44\",\"25-34\",\"<25\",\"<25\",\"35-44\",\"35-44\",\"<25\",\"35-44\",\"35-44\",\"<25\",\"25-34\",\"45-54\",\"35-44\",\"25-34\",\"45-54\",\"25-34\",\"25-34\",\"25-34\",\"25-34\",\"25-34\",\"25-34\",\"25-34\",\"55-64\",\"25-34\",\"25-34\",\"25-34\",\"<25\",\"25-34\",\"25-34\",\"25-34\",\"<25\",\"45-54\",\"25-34\",\"35-44\",\"25-34\",\"35-44\",\"35-44\",\"25-34\",\"25-34\",\"25-34\",\"35-44\",\"25-34\",\"25-34\",\"45-54\",\"25-34\",\"35-44\",\"45-54\",\"25-34\",\"<25\",\"25-34\",\"35-44\",\"25-34\",\"25-34\",\"25-34\",\"55-64\",\"25-34\",\"35-44\",\"35-44\",\"35-44\",\"<25\",\"25-34\",\"25-34\",\"35-44\",\"25-34\",\"<25\",\"25-34\",\"45-54\",\"25-34\",\"25-34\",\"25-34\",\"25-34\",\"25-34\",\"25-34\",\"25-34\",\"55-64\",\"45-54\",\"25-34\",\"45-54\",\"35-44\",\"25-34\",\"25-34\",\"<25\",\"35-44\",\"45-54\",\"25-34\",\"25-34\",\"25-34\",\"25-34\",\"25-34\",\"25-34\",\"25-34\",\"25-34\",\"<25\",\"25-34\",\"25-34\",\"35-44\",\"35-44\",\"45-54\",\"25-34\",\"45-54\",\"25-34\",\"25-34\",\"25-34\",\"25-34\",\"35-44\",\"<25\",\"25-34\",\"<25\",\"35-44\",\"<25\",\"35-44\",\"<25\",\"35-44\",\"45-54\",\"25-34\",\"45-54\",\"25-34\",\"55-64\",\"25-34\",\"25-34\",\"25-34\",\"25-34\",\"25-34\",\"25-34\",\"25-34\",\"25-34\",\"<25\",\"45-54\",\"25-34\",\"25-34\",\"25-34\",\"25-34\",\"35-44\",\"45-54\",\"45-54\",\"25-34\",\"25-34\",\"25-34\",\"25-34\",\"<25\",\"35-44\",\"<25\",\"25-34\",\"45-54\",\"25-34\",\"<25\",\"45-54\",\"25-34\",\"25-34\",\"<25\",\"25-34\",\"55-64\",\"25-34\",\"35-44\",\"<25\",\"35-44\",\"<25\",\"25-34\",\"35-44\",\"35-44\",\"<25\",\"25-34\",\"25-34\",\"25-34\",\"25-34\",\"25-34\",\"25-34\",\"25-34\",\"25-34\",\"35-44\",\"35-44\",\"45-54\",\"35-44\",\"35-44\",\"25-34\",\"25-34\",\"25-34\",\"35-44\",\"<25\",\"45-54\",\"25-34\",\"55-64\",\"35-44\",\"25-34\",\"<25\",\"25-34\",\"45-54\",\"25-34\",\"45-54\",\"45-54\",\"25-34\",\"25-34\",\"25-34\",\"45-54\",\"65+\",\"55-64\",\"35-44\",\"25-34\",\"35-44\",\"35-44\",\"<25\",\"45-54\",\"45-54\",\"25-34\",\"25-34\",\"35-44\",\"25-34\",\"25-34\",\"<25\",\"<25\",\"35-44\",\"45-54\",\"55-64\",\"25-34\",\"35-44\",\"25-34\",\"<25\",\"35-44\",\"25-34\",\"25-34\",\"25-34\",\"35-44\",\"45-54\",\"45-54\",\"25-34\",\"45-54\",\"25-34\",\"<25\",\"25-34\",\"25-34\",\"35-44\",\"25-34\",\"<25\",\"25-34\",\"35-44\",\"45-54\",\"25-34\",\"25-34\",\"35-44\",\"<25\",\"45-54\",\"25-34\",\"35-44\",\"<25\",\"<25\",\"25-34\",\"<25\",\"25-34\",\"25-34\",\"25-34\",\"55-64\",\"55-64\",\"25-34\",\"25-34\",\"25-34\",\"25-34\",\"35-44\",\"35-44\",\"25-34\",\"35-44\",\"25-34\",\"35-44\",\"45-54\",\"55-64\",\"<25\",\"35-44\",\"45-54\",\"45-54\",\"25-34\",\"25-34\",\"35-44\",\"25-34\",\"45-54\",\"25-34\",\"45-54\",\"45-54\",\"55-64\",\"25-34\",\"25-34\",\"35-44\",\"45-54\",\"<25\",\"45-54\",\"25-34\",\"25-34\",\"65+\",\"55-64\",\"<25\",\"35-44\",\"25-34\",\"45-54\",\"35-44\",\"<25\",\"25-34\",\"<25\",\"45-54\",\"45-54\",\"45-54\",\"<25\",\"25-34\",\"<25\",\"35-44\",\"<25\",\"<25\",\"35-44\",\"<25\",\"45-54\",\"<25\",\"45-54\",\"35-44\",\"<25\",\"25-34\",\"35-44\",\"<25\",\"25-34\",\"55-64\",\"<25\",\"<25\",\"25-34\",\"25-34\",\"35-44\",\"25-34\",\"25-34\",\"45-54\",\"<25\",\"<25\",\"35-44\",\"55-64\",\"25-34\",\"45-54\",\"25-34\",\"35-44\",\"25-34\",\"35-44\",\"<25\",\"25-34\",\"35-44\",\"25-34\",\"35-44\",\"<25\",\"45-54\",\"<25\",\"35-44\",\"55-64\",\"25-34\"],\"xaxis\":\"x\",\"y\":[10205.521212121212,5687.423312883436,8301.72972972973,3633.2,5312.12962962963,11908.509803921568,4715.4,3594.051724137931,8626.70796460177,3787.0434782608695,6626.9098360655735,1303.611111111111,5622.133333333333,9214.798076923076,2664.4615384615386,9994.432692307691,9791.608695652174,null,4696.526315789473,10587.986577181207,6235.238095238095,5667.045977011494,6769.695652173913,3885.0,3021.181818181818,12565.815789473685,6330.03125,7969.027586206897,4745.2,5525.080459770115,1218.5,12005.373665480427,6839.791666666667,5571.338983050848,8997.1,5790.273972602739,5051.865384615385,7013.284403669725,6208.58152173913,7144.333333333333,6951.46511627907,4174.9375,4235.260869565217,7326.1736842105265,8491.308333333332,4304.121212121212,8788.79057591623,8205.015625,8948.551724137931,4343.657142857143,5905.079831932773,4335.1,3689.4583333333335,4171.02,3855.5,1958.6666666666667,4459.923611111111,10773.95,9841.166666666666,5248.7,9140.409356725146,13409.394736842105,8854.00790513834,4085.6206896551726,5120.8442622950815,8786.64705882353,8069.644927536232,15178.09009009009,4706.466666666666,5638.626666666667,4625.666666666667,6582.890804597701,6035.454545454545,5453.8875,9026.774774774774,7155.733333333334,6836.855670103093,7348.0,8799.25925925926,3532.0,8084.109195402299,6375.732673267326,5545.0,7459.564705882353,3115.7368421052633,5482.333333333333,5565.207547169812,7085.573333333334,5388.909090909091,5078.851063829788,8978.511764705883,4945.736842105263,4440.2,7410.7,4374.104166666667,null,3964.0454545454545,3732.3055555555557,7674.601307189542,4854.592592592592,4318.413043478261,4776.083333333333,6462.041666666667,6621.083333333333,11847.0,6054.2594936708865,7823.6864864864865,10538.31623931624,3534.5,22842.716845878138,5676.444444444444,4036.0943396226417,4362.916666666667,6855.976525821597,11432.459854014598,5054.068493150685,9749.41,3797.0,7516.747252747253,2249.5,842.0,9179.89705882353,11388.43137254902,7178.891566265061,2690.285714285714,9658.32142857143,4083.5,4754.493150684932,2126.294117647059,8772.981132075472,8159.446927374302,6240.073033707865,7575.788079470199,2185.5,6700.431654676259,10973.48161764706,10503.623287671233,4334.4375,9427.436974789916,3866.40625,8033.384615384615,5100.141414141414,3368.2,7334.0,5783.708333333333,6492.964566929134,7004.424657534247,8425.101063829787,4611.096774193548,12806.922448979592,5674.837209302325,5789.338028169014,8327.528037383177,5391.545454545455,2592.0,1619.8,3027.6666666666665,5367.5,14840.966480446927,4354.558823529412,7180.096774193548,6597.042168674699,9097.119453924915,5426.5,2022.0,5677.627118644068,8724.975609756097,2815.2272727272725,6244.857142857143,4091.0898876404494,3534.9285714285716,7119.0,5525.024390243902,10219.295302013423,2489.55,5474.25,10684.791666666666,2878.25,10650.578947368422,5855.157142857143,7751.5875,10679.401315789473,10022.5,5237.757352941177,12420.849397590362,2982.6470588235293,5231.420560747663,5930.111111111111,5010.5,6947.226190476191,3628.6296296296296,3221.0,4872.333333333333,5957.85294117647,11067.538461538461,3957.4074074074074,3047.6153846153848,9176.654275092937,7056.188172043011,12016.51923076923,6101.6484375,7773.834024896266,6225.235294117647,9800.67901234568,4665.0,null,5297.166666666667,6664.042372881356,6752.772727272727,6631.327272727272,4151.697674418605,4173.818181818182,11067.265957446809,4270.676470588235,8326.48695652174,4594.0,4634.3725490196075,7492.660869565218,11392.042253521127,6029.680365296804,6796.765625,4583.388888888889,7363.657657657658,5072.008196721312,11078.947368421053,6512.392857142857,4268.285714285715,5810.122448979592,4683.894736842105,6348.96,3781.1428571428573,6139.453815261044,7018.326530612245,7571.364161849711,9444.591240875912,8740.45751633987,7896.857142857143,11188.40329218107,6986.006734006734,7040.6,13963.737704918032,5976.466666666666,5678.790178571428,4716.281818181818,12500.575,8841.230215827338,2796.0,5063.53125,10314.84375,4186.029411764706,7886.4409937888195,1970.0454545454545,2763.6666666666665,10029.570422535211,8607.84023668639,6173.777777777777,7236.80985915493,5625.51282051282,10377.72131147541,3605.128205128205,7659.848039215686,7579.263157894737,8355.887218045113,5035.275,7130.084507042254,3841.1794871794873,4849.583333333333,4065.8571428571427,14811.06111111111,9668.5,9236.6625,2070.6,6026.03125,8661.831460674157,8694.0,7027.695238095238,9543.795454545454,6224.0,9751.026490066226,9799.058035714286,11862.106796116504,5168.692307692308,7868.7959183673465,10306.17679558011,6216.906976744186,4879.794871794872,5936.105882352941,9986.885416666666,3543.744680851064,5747.538461538462,5947.87012987013,6404.068965517241,6043.875,6108.025125628141,5009.354166666667,5833.09375,9046.018072289156,2298.9166666666665,8707.86348122867,7788.454954954955,5826.662280701755,4040.8444444444444,16378.346153846154,15031.90909090909,5532.674418604651,11267.666666666666,6013.5,null,7551.805555555556,5301.976190476191,15531.048128342247,4206.56,5954.345911949686,4824.428571428572,11192.849740932643,3581.1470588235293,6940.0921052631575,5996.876811594203,10348.45588235294,2821.1052631578946,1762.0,4400.733766233766,8065.125,2930.3571428571427,3477.2,4632.646551724138,5577.923076923077,3481.0,2487.875,4914.533333333334,4705.208333333333,8433.76404494382,4666.826815642458,7734.979797979798,8954.0,10258.529761904761,4226.317073170731,3715.535714285714,3114.9666666666667,7733.049056603773,8310.506666666666,4312.333333333333,7384.0,6771.524193548387,6637.962025316456,8053.4496644295305,1944.75,5905.081081081081,2569.75,5883.4,8423.255102040815,10233.407692307692,7195.125,2865.84,5346.542857142857,5045.2,6657.0,6585.666666666667,11088.036764705883,5067.191489361702,3827.1724137931033,7649.065789473684,11258.5,6175.533333333334,4790.027027027027,6026.6,11288.92,6710.5,8998.067226890757,8061.527777777777,8254.573170731708,4759.470588235294,3939.3571428571427,8763.020689655172,6715.818181818182,7671.0,9885.525,2450.0526315789475,8075.318181818182,4432.0,9809.526570048309,9223.83962264151,5056.619047619048,4700.0,2508.375,3960.6769230769232,5597.782051282052,7837.067164179104,5585.58,15405.474489795919,3157.818181818182,6076.748201438849,3805.0833333333335,6384.557894736842,4722.3540372670805,4089.125,1745.3333333333333,5666.5,3128.090909090909,3890.55,6715.314285714286,8469.705521472393,6284.333333333333,3042.0,6369.037974683544,4246.928571428572,10180.423076923076,7836.933333333333,8407.062857142857,7721.1122448979595,6373.25,6125.0609756097565,5340.045454545455,5119.854838709677,10991.670731707318,3464.375,4164.0,3266.266666666667,7223.504587155963,6163.480392156863,8982.180327868853,7349.955882352941,12063.053380782918,9342.782608695652,5222.287037037037,5701.058823529412,3099.8333333333335,3914.5714285714284,12560.666666666666,5374.016304347826,6805.360215053764,2981.5,7476.959349593496,5066.518518518518,3775.6290322580644,4788.642857142857,2852.1,8267.3671875,6787.214689265536,6016.25,3501.6666666666665,2727.5,6061.56338028169,4297.8490566037735,9448.098360655738,6990.919354838709,3172.5,3104.0,6768.9701492537315,5084.774193548387,3432.046511627907,4475.977272727273,2585.777777777778,12608.267015706806,11985.082278481013,7233.0625,8265.146666666667,8866.954128440368,5966.213114754099,11263.52972972973,7450.0058139534885,5869.992592592593,8467.031446540881,6743.24,9577.093023255815,2882.6666666666665,5994.297619047619,4320.446808510638,4528.7692307692305,6671.111111111111,5757.865384615385,6016.727272727273,12910.075342465754,6502.085271317829,10024.56462585034,10462.384146341463,6911.574257425743,6357.34375,6964.261538461538,12012.966101694916,5674.0615384615385,15796.350553505536,12252.154761904761,13587.165562913908,10827.728571428572,8891.847457627118,5258.895833333333,5318.730158730159,7972.170731707317,6724.588235294118,4621.8,7415.496,6716.140243902439,6683.737704918033,9839.112612612613,5509.271794871795,13721.063909774437,7284.416666666667,3855.3939393939395,1612.3,8399.670212765957,6162.5,7955.147727272727,6322.097222222223,4484.166666666667,9275.5,6133.836734693878,4769.959183673469,4520.76,5778.238805970149,7217.102803738318,8815.252808988764,4588.307692307692,5590.575342465753,8111.9473684210525,14835.107883817427,7929.309352517986,8857.828451882846,7237.955555555555,5280.237288135593,10872.842105263158,6237.488,13705.69547325103,6553.038095238096,8578.194915254237,4813.172413793103,4906.56,5120.888888888889,10229.354838709678,7647.535483870968,8583.029411764706,11772.77358490566,8735.19512195122,10432.363157894737,16026.470238095239,8286.888888888889,15382.097826086956,7377.982456140351,2645.5714285714284,7818.67,10098.792452830188,3385.391304347826,3653.4285714285716,10802.38028169014,3931.5625,8316.64393939394,5071.025,7992.0,8748.851485148514,4581.2,1765.2,3504.346153846154,7644.603773584906,null,4587.884615384615,9596.243902439024,7891.366666666667,7349.151260504202,3763.2297297297296,4877.818181818182,1289.5555555555557,9026.97435897436,4727.95652173913,9766.056910569107,11143.52564102564,null,9087.903553299493,6077.804511278196,10503.421052631578,6385.8,5036.8432835820895,10071.6328125,3143.1666666666665,8045.098591549296,6475.777777777777,7561.5502183406115,4881.263736263736,7167.248120300752,6516.208333333333,4268.727272727273,6320.556213017751,7592.163265306122,8539.42,4636.0,10107.32319391635,9760.972413793104,2985.3783783783783,7828.305882352941,2979.78125,3433.285714285714,5132.541666666667,12479.41056910569,6548.548571428571,6247.392156862745,4268.123595505618,6943.5,5461.251497005988,5883.12676056338,4642.855172413793,7723.828947368421,6693.333333333333,4388.444444444444,5834.459016393443,6644.596566523605,6536.5703125,9178.101351351352,7697.045045045045,5807.092783505154,7836.076271186441,4466.9,2445.6176470588234,4645.741666666667,7501.581081081081,4766.857142857143,10331.408163265307,9164.48275862069,4.0,6049.1578947368425,2923.3333333333335,6245.006060606061,5303.644736842105,5816.226415094339,8713.32701421801,8978.548507462687,7553.311111111111,6322.521739130435,9724.11374407583,3843.875,3483.785714285714,5311.017045454545,1916.8,7669.804878048781,3815.0555555555557,9429.463917525773,4457.812080536913,5383.709677419355,5461.118644067797,7237.09375,4318.818181818182,4262.46511627907,12042.204819277109,4356.233766233766,8966.31182795699,3469.5333333333333,4842.268292682927,6032.504424778761,4939.666666666667,5799.333333333333,7722.712871287129,5293.020618556701,3551.075,4126.163636363636,4672.928571428572,4925.75,2775.5789473684213,8898.241935483871,16487.87116564417,4373.84693877551,2501.25,6561.521367521367,9693.657894736842,4161.523809523809,5406.454545454545,6046.574324324324,7877.932203389831,1853.5,3594.2105263157896,4665.010752688172,5297.40625,5377.212765957447,3475.285714285714,9483.406593406593,5795.653333333334,8606.416216216216,8416.733333333334,8152.2830188679245,4463.508670520231,5016.523809523809,7557.238095238095,3034.0,7440.795454545455,9334.805084745763,7596.577639751553,4303.593406593406,7258.4,4228.5344827586205,3939.7078651685392,8425.365853658537,9206.522448979591,3324.269230769231,5503.307692307692,8456.82142857143,6866.608490566037,6595.135135135135,7190.347368421053,4535.529411764706,9608.205128205129,10531.203488372093,3208.5263157894738,2743.875,5678.771028037383,3619.866666666667,4981.70786516854,6060.064814814815,4444.419354838709,4303.0,5065.184466019417,4937.461538461538,3729.5882352941176,6103.592307692307,3432.9777777777776,4140.419354838709,1598.0,6297.523809523809,10076.676056338029,8051.935344827586,10283.625,4556.909090909091,8324.0,7812.025423728814,10205.624365482234,5059.448275862069,6951.125,7757.153846153846,3192.2,6202.5,10343.807272727272,7885.16,4112.375,5224.632352941177,4010.732558139535,4868.040816326531,2993.3333333333335,10192.526315789473,4979.9152542372885,11047.805309734513,5560.1,3627.9210526315787,6312.419354838709,6480.582191780822,null,4182.59,9189.738095238095,11308.566666666668,5489.0,6675.044943820225,4989.6,6722.631578947368,7618.0,7288.166666666667,1856.3333333333333,5562.459016393443,4110.28125,5298.0,7113.625668449198,9979.269076305221,11947.136363636364,5937.36170212766,5592.939393939394,5162.382113821138,4471.475113122172,4093.4444444444443,4825.45,12354.542222222222,5032.888888888889,4662.148148148148,1032.5,8880.427419354839,3794.24,9427.982905982906,5510.300970873786,6872.184782608696,5430.85,7958.7032967032965,7380.568181818182,5626.247967479675,6334.129032258064,11486.809523809523,10417.18811881188,7944.25,3809.1929824561403,12140.546558704453,3663.086956521739,8729.15671641791,5317.782608695652,11727.506787330316,2919.64,7046.832214765101,9397.938524590163,5534.206896551724,4319.75,8062.9098360655735,3241.5555555555557,6133.333333333333,13690.075862068965,7960.113924050633,8335.324324324325,6139.544303797468,11528.03305785124,5851.0,4894.865030674847,8903.358333333334,3495.0434782608695,9518.512605042017,3091.245614035088,3951.0070921985816,6416.401315789473,6856.6551724137935,6517.530487804878,1449.4,8965.275280898877,6285.386597938144,7939.314720812183,7147.275862068966,3901.4545454545455,8996.507246376812,9147.027397260274,7501.64,5365.241379310345,9794.0,10432.64705882353,5063.185185185185,3941.9189189189187,3502.5714285714284,5081.838235294118,6399.398550724638,4945.795698924731,5709.370892018779,3048.181818181818,6617.453333333333,4671.5,8542.422535211268,5439.0,6331.491803278688,20414.067039106147,6590.636363636364,8463.018181818183,7559.28813559322,7372.672727272728,7331.356097560975,15120.915492957747,6063.915662650603,4078.6666666666665,8093.725,7075.035714285715,4354.841269841269,10475.307692307691,4058.0555555555557,6680.076923076923,12701.654205607476,7981.484472049689,19893.464705882354,8128.739130434783,6195.266666666666,3951.1111111111113,5566.179487179487,2632.5,5911.620689655172,9647.762114537445,7736.7307692307695,7455.381395348837,4126.385714285714,6881.666666666667,5704.045871559633,13288.777777777777,7109.5,1210.0,10997.099290780141,6255.685393258427,4489.189189189189,2862.6969696969695,6691.338345864661,3744.7241379310344,5391.093406593406,3532.4285714285716,7772.929936305733,6414.6,9022.081196581197,6233.628571428571,5977.5,8247.150943396226,null,5296.027027027027,8218.367088607594,4795.341463414634,14009.206611570247,6464.31914893617,4817.1,5055.87037037037,3707.3142857142857,8964.023255813954,8548.153846153846,11059.615023474178,7311.3125,5266.285714285715,5070.666666666667,10903.825503355705,3387.0,15533.02380952381,1832.142857142857,6638.747474747474,4099.833333333333,10817.741935483871,6281.930817610063,6729.168539325843,9472.5625,4285.759259259259,15743.724738675959,5968.338461538461,7174.3239436619715,1914.75,13603.27734375,10457.031446540881,15213.159624413145,3786.1666666666665,7140.98347107438,5989.848920863309,5564.825581395349,9406.466666666667,9950.074074074075,13572.084507042253,3276.875,6930.907692307693,5174.375,6282.131868131868,4799.88,10030.326829268293,15679.67901234568,7584.467153284671],\"yaxis\":\"y\",\"type\":\"histogram\"}],                        {\"template\":{\"data\":{\"bar\":[{\"error_x\":{\"color\":\"#2a3f5f\"},\"error_y\":{\"color\":\"#2a3f5f\"},\"marker\":{\"line\":{\"color\":\"#E5ECF6\",\"width\":0.5},\"pattern\":{\"fillmode\":\"overlay\",\"size\":10,\"solidity\":0.2}},\"type\":\"bar\"}],\"barpolar\":[{\"marker\":{\"line\":{\"color\":\"#E5ECF6\",\"width\":0.5},\"pattern\":{\"fillmode\":\"overlay\",\"size\":10,\"solidity\":0.2}},\"type\":\"barpolar\"}],\"carpet\":[{\"aaxis\":{\"endlinecolor\":\"#2a3f5f\",\"gridcolor\":\"white\",\"linecolor\":\"white\",\"minorgridcolor\":\"white\",\"startlinecolor\":\"#2a3f5f\"},\"baxis\":{\"endlinecolor\":\"#2a3f5f\",\"gridcolor\":\"white\",\"linecolor\":\"white\",\"minorgridcolor\":\"white\",\"startlinecolor\":\"#2a3f5f\"},\"type\":\"carpet\"}],\"choropleth\":[{\"colorbar\":{\"outlinewidth\":0,\"ticks\":\"\"},\"type\":\"choropleth\"}],\"contour\":[{\"colorbar\":{\"outlinewidth\":0,\"ticks\":\"\"},\"colorscale\":[[0.0,\"#0d0887\"],[0.1111111111111111,\"#46039f\"],[0.2222222222222222,\"#7201a8\"],[0.3333333333333333,\"#9c179e\"],[0.4444444444444444,\"#bd3786\"],[0.5555555555555556,\"#d8576b\"],[0.6666666666666666,\"#ed7953\"],[0.7777777777777778,\"#fb9f3a\"],[0.8888888888888888,\"#fdca26\"],[1.0,\"#f0f921\"]],\"type\":\"contour\"}],\"contourcarpet\":[{\"colorbar\":{\"outlinewidth\":0,\"ticks\":\"\"},\"type\":\"contourcarpet\"}],\"heatmap\":[{\"colorbar\":{\"outlinewidth\":0,\"ticks\":\"\"},\"colorscale\":[[0.0,\"#0d0887\"],[0.1111111111111111,\"#46039f\"],[0.2222222222222222,\"#7201a8\"],[0.3333333333333333,\"#9c179e\"],[0.4444444444444444,\"#bd3786\"],[0.5555555555555556,\"#d8576b\"],[0.6666666666666666,\"#ed7953\"],[0.7777777777777778,\"#fb9f3a\"],[0.8888888888888888,\"#fdca26\"],[1.0,\"#f0f921\"]],\"type\":\"heatmap\"}],\"heatmapgl\":[{\"colorbar\":{\"outlinewidth\":0,\"ticks\":\"\"},\"colorscale\":[[0.0,\"#0d0887\"],[0.1111111111111111,\"#46039f\"],[0.2222222222222222,\"#7201a8\"],[0.3333333333333333,\"#9c179e\"],[0.4444444444444444,\"#bd3786\"],[0.5555555555555556,\"#d8576b\"],[0.6666666666666666,\"#ed7953\"],[0.7777777777777778,\"#fb9f3a\"],[0.8888888888888888,\"#fdca26\"],[1.0,\"#f0f921\"]],\"type\":\"heatmapgl\"}],\"histogram\":[{\"marker\":{\"pattern\":{\"fillmode\":\"overlay\",\"size\":10,\"solidity\":0.2}},\"type\":\"histogram\"}],\"histogram2d\":[{\"colorbar\":{\"outlinewidth\":0,\"ticks\":\"\"},\"colorscale\":[[0.0,\"#0d0887\"],[0.1111111111111111,\"#46039f\"],[0.2222222222222222,\"#7201a8\"],[0.3333333333333333,\"#9c179e\"],[0.4444444444444444,\"#bd3786\"],[0.5555555555555556,\"#d8576b\"],[0.6666666666666666,\"#ed7953\"],[0.7777777777777778,\"#fb9f3a\"],[0.8888888888888888,\"#fdca26\"],[1.0,\"#f0f921\"]],\"type\":\"histogram2d\"}],\"histogram2dcontour\":[{\"colorbar\":{\"outlinewidth\":0,\"ticks\":\"\"},\"colorscale\":[[0.0,\"#0d0887\"],[0.1111111111111111,\"#46039f\"],[0.2222222222222222,\"#7201a8\"],[0.3333333333333333,\"#9c179e\"],[0.4444444444444444,\"#bd3786\"],[0.5555555555555556,\"#d8576b\"],[0.6666666666666666,\"#ed7953\"],[0.7777777777777778,\"#fb9f3a\"],[0.8888888888888888,\"#fdca26\"],[1.0,\"#f0f921\"]],\"type\":\"histogram2dcontour\"}],\"mesh3d\":[{\"colorbar\":{\"outlinewidth\":0,\"ticks\":\"\"},\"type\":\"mesh3d\"}],\"parcoords\":[{\"line\":{\"colorbar\":{\"outlinewidth\":0,\"ticks\":\"\"}},\"type\":\"parcoords\"}],\"pie\":[{\"automargin\":true,\"type\":\"pie\"}],\"scatter\":[{\"marker\":{\"colorbar\":{\"outlinewidth\":0,\"ticks\":\"\"}},\"type\":\"scatter\"}],\"scatter3d\":[{\"line\":{\"colorbar\":{\"outlinewidth\":0,\"ticks\":\"\"}},\"marker\":{\"colorbar\":{\"outlinewidth\":0,\"ticks\":\"\"}},\"type\":\"scatter3d\"}],\"scattercarpet\":[{\"marker\":{\"colorbar\":{\"outlinewidth\":0,\"ticks\":\"\"}},\"type\":\"scattercarpet\"}],\"scattergeo\":[{\"marker\":{\"colorbar\":{\"outlinewidth\":0,\"ticks\":\"\"}},\"type\":\"scattergeo\"}],\"scattergl\":[{\"marker\":{\"colorbar\":{\"outlinewidth\":0,\"ticks\":\"\"}},\"type\":\"scattergl\"}],\"scattermapbox\":[{\"marker\":{\"colorbar\":{\"outlinewidth\":0,\"ticks\":\"\"}},\"type\":\"scattermapbox\"}],\"scatterpolar\":[{\"marker\":{\"colorbar\":{\"outlinewidth\":0,\"ticks\":\"\"}},\"type\":\"scatterpolar\"}],\"scatterpolargl\":[{\"marker\":{\"colorbar\":{\"outlinewidth\":0,\"ticks\":\"\"}},\"type\":\"scatterpolargl\"}],\"scatterternary\":[{\"marker\":{\"colorbar\":{\"outlinewidth\":0,\"ticks\":\"\"}},\"type\":\"scatterternary\"}],\"surface\":[{\"colorbar\":{\"outlinewidth\":0,\"ticks\":\"\"},\"colorscale\":[[0.0,\"#0d0887\"],[0.1111111111111111,\"#46039f\"],[0.2222222222222222,\"#7201a8\"],[0.3333333333333333,\"#9c179e\"],[0.4444444444444444,\"#bd3786\"],[0.5555555555555556,\"#d8576b\"],[0.6666666666666666,\"#ed7953\"],[0.7777777777777778,\"#fb9f3a\"],[0.8888888888888888,\"#fdca26\"],[1.0,\"#f0f921\"]],\"type\":\"surface\"}],\"table\":[{\"cells\":{\"fill\":{\"color\":\"#EBF0F8\"},\"line\":{\"color\":\"white\"}},\"header\":{\"fill\":{\"color\":\"#C8D4E3\"},\"line\":{\"color\":\"white\"}},\"type\":\"table\"}]},\"layout\":{\"annotationdefaults\":{\"arrowcolor\":\"#2a3f5f\",\"arrowhead\":0,\"arrowwidth\":1},\"autotypenumbers\":\"strict\",\"coloraxis\":{\"colorbar\":{\"outlinewidth\":0,\"ticks\":\"\"}},\"colorscale\":{\"diverging\":[[0,\"#8e0152\"],[0.1,\"#c51b7d\"],[0.2,\"#de77ae\"],[0.3,\"#f1b6da\"],[0.4,\"#fde0ef\"],[0.5,\"#f7f7f7\"],[0.6,\"#e6f5d0\"],[0.7,\"#b8e186\"],[0.8,\"#7fbc41\"],[0.9,\"#4d9221\"],[1,\"#276419\"]],\"sequential\":[[0.0,\"#0d0887\"],[0.1111111111111111,\"#46039f\"],[0.2222222222222222,\"#7201a8\"],[0.3333333333333333,\"#9c179e\"],[0.4444444444444444,\"#bd3786\"],[0.5555555555555556,\"#d8576b\"],[0.6666666666666666,\"#ed7953\"],[0.7777777777777778,\"#fb9f3a\"],[0.8888888888888888,\"#fdca26\"],[1.0,\"#f0f921\"]],\"sequentialminus\":[[0.0,\"#0d0887\"],[0.1111111111111111,\"#46039f\"],[0.2222222222222222,\"#7201a8\"],[0.3333333333333333,\"#9c179e\"],[0.4444444444444444,\"#bd3786\"],[0.5555555555555556,\"#d8576b\"],[0.6666666666666666,\"#ed7953\"],[0.7777777777777778,\"#fb9f3a\"],[0.8888888888888888,\"#fdca26\"],[1.0,\"#f0f921\"]]},\"colorway\":[\"#636efa\",\"#EF553B\",\"#00cc96\",\"#ab63fa\",\"#FFA15A\",\"#19d3f3\",\"#FF6692\",\"#B6E880\",\"#FF97FF\",\"#FECB52\"],\"font\":{\"color\":\"#2a3f5f\"},\"geo\":{\"bgcolor\":\"white\",\"lakecolor\":\"white\",\"landcolor\":\"#E5ECF6\",\"showlakes\":true,\"showland\":true,\"subunitcolor\":\"white\"},\"hoverlabel\":{\"align\":\"left\"},\"hovermode\":\"closest\",\"mapbox\":{\"style\":\"light\"},\"paper_bgcolor\":\"white\",\"plot_bgcolor\":\"#E5ECF6\",\"polar\":{\"angularaxis\":{\"gridcolor\":\"white\",\"linecolor\":\"white\",\"ticks\":\"\"},\"bgcolor\":\"#E5ECF6\",\"radialaxis\":{\"gridcolor\":\"white\",\"linecolor\":\"white\",\"ticks\":\"\"}},\"scene\":{\"xaxis\":{\"backgroundcolor\":\"#E5ECF6\",\"gridcolor\":\"white\",\"gridwidth\":2,\"linecolor\":\"white\",\"showbackground\":true,\"ticks\":\"\",\"zerolinecolor\":\"white\"},\"yaxis\":{\"backgroundcolor\":\"#E5ECF6\",\"gridcolor\":\"white\",\"gridwidth\":2,\"linecolor\":\"white\",\"showbackground\":true,\"ticks\":\"\",\"zerolinecolor\":\"white\"},\"zaxis\":{\"backgroundcolor\":\"#E5ECF6\",\"gridcolor\":\"white\",\"gridwidth\":2,\"linecolor\":\"white\",\"showbackground\":true,\"ticks\":\"\",\"zerolinecolor\":\"white\"}},\"shapedefaults\":{\"line\":{\"color\":\"#2a3f5f\"}},\"ternary\":{\"aaxis\":{\"gridcolor\":\"white\",\"linecolor\":\"white\",\"ticks\":\"\"},\"baxis\":{\"gridcolor\":\"white\",\"linecolor\":\"white\",\"ticks\":\"\"},\"bgcolor\":\"#E5ECF6\",\"caxis\":{\"gridcolor\":\"white\",\"linecolor\":\"white\",\"ticks\":\"\"}},\"title\":{\"x\":0.05},\"xaxis\":{\"automargin\":true,\"gridcolor\":\"white\",\"linecolor\":\"white\",\"ticks\":\"\",\"title\":{\"standoff\":15},\"zerolinecolor\":\"white\",\"zerolinewidth\":2},\"yaxis\":{\"automargin\":true,\"gridcolor\":\"white\",\"linecolor\":\"white\",\"ticks\":\"\",\"title\":{\"standoff\":15},\"zerolinecolor\":\"white\",\"zerolinewidth\":2}}},\"xaxis\":{\"anchor\":\"y\",\"domain\":[0.0,1.0],\"title\":{\"text\":\"age\"}},\"yaxis\":{\"anchor\":\"x\",\"domain\":[0.0,1.0],\"title\":{\"text\":\"avg of mean_step\"}},\"legend\":{\"tracegroupgap\":0},\"margin\":{\"t\":60},\"barmode\":\"relative\"},                        {\"responsive\": true}                    ).then(function(){\n",
       "                            \n",
       "var gd = document.getElementById('3b499bdf-473e-4b20-929b-4fe9b3367fe1');\n",
       "var x = new MutationObserver(function (mutations, observer) {{\n",
       "        var display = window.getComputedStyle(gd).display;\n",
       "        if (!display || display === 'none') {{\n",
       "            console.log([gd, 'removed!']);\n",
       "            Plotly.purge(gd);\n",
       "            observer.disconnect();\n",
       "        }}\n",
       "}});\n",
       "\n",
       "// Listen for the removal of the full notebook cells\n",
       "var notebookContainer = gd.closest('#notebook-container');\n",
       "if (notebookContainer) {{\n",
       "    x.observe(notebookContainer, {childList: true});\n",
       "}}\n",
       "\n",
       "// Listen for the clearing of the current output cell\n",
       "var outputEl = gd.closest('.output');\n",
       "if (outputEl) {{\n",
       "    x.observe(outputEl, {childList: true});\n",
       "}}\n",
       "\n",
       "                        })                };                });            </script>        </div>"
      ]
     },
     "metadata": {},
     "output_type": "display_data"
    }
   ],
   "source": [
    "fig = px.histogram(df, x=\"age\", y='mean_step', histfunc='avg')\n",
    "fig.show()"
   ]
  },
  {
   "cell_type": "markdown",
   "id": "54efbcea",
   "metadata": {},
   "source": [
    "On an average step count we can determine that from the 1st graph, men walk slitly more than women and from the 2nd graph, the age groupe that walks more are the 55-64."
   ]
  },
  {
   "cell_type": "code",
   "execution_count": 120,
   "id": "b1797f5e",
   "metadata": {},
   "outputs": [
    {
     "data": {
      "image/png": "[encoded data removed]",
      "text/plain": [
       "<Figure size 720x720 with 20 Axes>"
      ]
     },
     "metadata": {
      "needs_background": "light"
     },
     "output_type": "display_data"
    }
   ],
   "source": [
    "# scatterplot matrix of the numerical variables\n",
    "df_sel = df[['height', 'weight', 'mean_step', 'bmi']] #making a new dataframe with a subset\n",
    "sns.pairplot(df_sel)\n",
    "plt.show()"
   ]
  },
  {
   "cell_type": "code",
   "execution_count": 121,
   "id": "4544db4b",
   "metadata": {
    "scrolled": true
   },
   "outputs": [
    {
     "name": "stderr",
     "output_type": "stream",
     "text": [
      "C:\\Users\\nirva\\anaconda3\\lib\\site-packages\\seaborn\\distributions.py:2619: FutureWarning:\n",
      "\n",
      "`distplot` is a deprecated function and will be removed in a future version. Please adapt your code to use either `displot` (a figure-level function with similar flexibility) or `histplot` (an axes-level function for histograms).\n",
      "\n"
     ]
    },
    {
     "data": {
      "image/png": "[encoded data removed]",
      "text/plain": [
       "<Figure size 432x288 with 1 Axes>"
      ]
     },
     "metadata": {
      "needs_background": "light"
     },
     "output_type": "display_data"
    },
    {
     "name": "stderr",
     "output_type": "stream",
     "text": [
      "C:\\Users\\nirva\\anaconda3\\lib\\site-packages\\seaborn\\distributions.py:2619: FutureWarning:\n",
      "\n",
      "`distplot` is a deprecated function and will be removed in a future version. Please adapt your code to use either `displot` (a figure-level function with similar flexibility) or `histplot` (an axes-level function for histograms).\n",
      "\n"
     ]
    },
    {
     "data": {
      "image/png": "[encoded data removed]",
      "text/plain": [
       "<Figure size 432x288 with 1 Axes>"
      ]
     },
     "metadata": {
      "needs_background": "light"
     },
     "output_type": "display_data"
    },
    {
     "name": "stderr",
     "output_type": "stream",
     "text": [
      "C:\\Users\\nirva\\anaconda3\\lib\\site-packages\\seaborn\\distributions.py:2619: FutureWarning:\n",
      "\n",
      "`distplot` is a deprecated function and will be removed in a future version. Please adapt your code to use either `displot` (a figure-level function with similar flexibility) or `histplot` (an axes-level function for histograms).\n",
      "\n"
     ]
    },
    {
     "data": {
      "image/png": "[encoded data removed]",
      "text/plain": [
       "<Figure size 432x288 with 1 Axes>"
      ]
     },
     "metadata": {
      "needs_background": "light"
     },
     "output_type": "display_data"
    }
   ],
   "source": [
    "sns.distplot(df['height'])\n",
    "plt.show()\n",
    "sns.distplot(df['weight'])\n",
    "plt.show()\n",
    "sns.distplot(df['mean_step'])\n",
    "plt.show()"
   ]
  },
  {
   "cell_type": "markdown",
   "id": "1388f6b7",
   "metadata": {},
   "source": [
    "Their semes to be unreal values above 120 in the weith variable but for the purpose of the study we shall leave it."
   ]
  },
  {
   "cell_type": "code",
   "execution_count": 122,
   "id": "4735e044",
   "metadata": {
    "scrolled": true
   },
   "outputs": [
    {
     "data": {
      "text/html": [
       "<div>\n",
       "<style scoped>\n",
       "    .dataframe tbody tr th:only-of-type {\n",
       "        vertical-align: middle;\n",
       "    }\n",
       "\n",
       "    .dataframe tbody tr th {\n",
       "        vertical-align: top;\n",
       "    }\n",
       "\n",
       "    .dataframe thead th {\n",
       "        text-align: right;\n",
       "    }\n",
       "</style>\n",
       "<table border=\"1\" class=\"dataframe\">\n",
       "  <thead>\n",
       "    <tr style=\"text-align: right;\">\n",
       "      <th></th>\n",
       "      <th>height</th>\n",
       "      <th>weight</th>\n",
       "      <th>mean_step</th>\n",
       "      <th>bmi</th>\n",
       "    </tr>\n",
       "  </thead>\n",
       "  <tbody>\n",
       "    <tr>\n",
       "      <th>height</th>\n",
       "      <td>1.000000</td>\n",
       "      <td>0.508194</td>\n",
       "      <td>-0.086249</td>\n",
       "      <td>0.020076</td>\n",
       "    </tr>\n",
       "    <tr>\n",
       "      <th>weight</th>\n",
       "      <td>0.508194</td>\n",
       "      <td>1.000000</td>\n",
       "      <td>-0.063273</td>\n",
       "      <td>0.866354</td>\n",
       "    </tr>\n",
       "    <tr>\n",
       "      <th>mean_step</th>\n",
       "      <td>-0.086249</td>\n",
       "      <td>-0.063273</td>\n",
       "      <td>1.000000</td>\n",
       "      <td>-0.025458</td>\n",
       "    </tr>\n",
       "    <tr>\n",
       "      <th>bmi</th>\n",
       "      <td>0.020076</td>\n",
       "      <td>0.866354</td>\n",
       "      <td>-0.025458</td>\n",
       "      <td>1.000000</td>\n",
       "    </tr>\n",
       "  </tbody>\n",
       "</table>\n",
       "</div>"
      ],
      "text/plain": [
       "             height    weight  mean_step       bmi\n",
       "height     1.000000  0.508194  -0.086249  0.020076\n",
       "weight     0.508194  1.000000  -0.063273  0.866354\n",
       "mean_step -0.086249 -0.063273   1.000000 -0.025458\n",
       "bmi        0.020076  0.866354  -0.025458  1.000000"
      ]
     },
     "execution_count": 122,
     "metadata": {},
     "output_type": "execute_result"
    }
   ],
   "source": [
    "# correlation matrix of the numerical variables\n",
    "corr = df[['height', 'weight', 'mean_step','bmi']].corr()\n",
    "corr"
   ]
  },
  {
   "cell_type": "code",
   "execution_count": 123,
   "id": "a4dea012",
   "metadata": {
    "scrolled": true
   },
   "outputs": [
    {
     "data": {
      "image/png": "[encoded data removed]",
      "text/plain": [
       "<Figure size 432x288 with 2 Axes>"
      ]
     },
     "metadata": {
      "needs_background": "light"
     },
     "output_type": "display_data"
    }
   ],
   "source": [
    "sns.heatmap(corr, xticklabels=corr.columns, yticklabels=corr.columns, cmap=\"YlGnBu\") #the last two arguments set the column names\n",
    "plt.show()"
   ]
  },
  {
   "cell_type": "code",
   "execution_count": 124,
   "id": "694f11ba",
   "metadata": {},
   "outputs": [
    {
     "data": {
      "image/png": "[encoded data removed]",
      "text/plain": [
       "<Figure size 360x360 with 1 Axes>"
      ]
     },
     "metadata": {
      "needs_background": "light"
     },
     "output_type": "display_data"
    }
   ],
   "source": [
    "sns.lmplot(x='weight', y='height', fit_reg=True, data=df, scatter_kws={'alpha':0.1}) #fit_reg=False leaves out the regression line; see below\n",
    "plt.xlabel('weight') #use matplotlib to refine Seaborn plot\n",
    "plt.ylabel('height')\n",
    "plt.title('correlation between weight and heigth')\n",
    "plt.show()"
   ]
  },
  {
   "cell_type": "code",
   "execution_count": 125,
   "id": "31ccd0a9",
   "metadata": {},
   "outputs": [
    {
     "data": {
      "image/png": "[encoded data removed]",
      "text/plain": [
       "<Figure size 360x360 with 1 Axes>"
      ]
     },
     "metadata": {
      "needs_background": "light"
     },
     "output_type": "display_data"
    }
   ],
   "source": [
    "sns.lmplot(x='weight', y='bmi', fit_reg=True, data=df, scatter_kws={'alpha':0.1}) #fit_reg=False leaves out the regression line; see below\n",
    "plt.xlabel('weight') #use matplotlib to refine Seaborn plot\n",
    "plt.ylabel('bmi')\n",
    "plt.title('correlation between weight and bmi')\n",
    "plt.show()"
   ]
  },
  {
   "cell_type": "code",
   "execution_count": 126,
   "id": "53010a69",
   "metadata": {},
   "outputs": [],
   "source": [
    "#from scipy.stats.stats import pearsonr #We will need the correlation function from the scientific package scipy\n",
    "#print(pearsonr(df_sel['weight'],df_sel['heigth']))\n",
    "#print(pearsonr(df_sel['weight'],df_sel['bmi']))\n"
   ]
  },
  {
   "cell_type": "markdown",
   "id": "0e4405b8",
   "metadata": {},
   "source": [
    "We can see that their is a strong correlation beteween the weigth and heigth and that reminded us of the bmi. After adding the new veriable into the testing, their is a also a strong correlation between the bmi and weigth.\n",
    "\n",
    "The p-value ............."
   ]
  },
  {
   "cell_type": "markdown",
   "id": "b6198308",
   "metadata": {},
   "source": [
    "## Predictive model"
   ]
  },
  {
   "cell_type": "markdown",
   "id": "523f1e88",
   "metadata": {},
   "source": [
    "Expaining linear Regrassion:\n",
    "\n",
    "When ploting a data set and wanting to predict it, we use linear regrassion as a tool. The regration line can have a positive or negative relationship depending on the x/y variables and it's based on the least squars methode. The line needs to be acurate so the least erros from the real values."
   ]
  },
  {
   "cell_type": "markdown",
   "id": "26168a8d",
   "metadata": {},
   "source": [
    "Creating dummy variables for the categorical variables"
   ]
  },
  {
   "cell_type": "code",
   "execution_count": 127,
   "id": "910d7629",
   "metadata": {},
   "outputs": [
    {
     "data": {
      "text/html": [
       "<div>\n",
       "<style scoped>\n",
       "    .dataframe tbody tr th:only-of-type {\n",
       "        vertical-align: middle;\n",
       "    }\n",
       "\n",
       "    .dataframe tbody tr th {\n",
       "        vertical-align: top;\n",
       "    }\n",
       "\n",
       "    .dataframe thead th {\n",
       "        text-align: right;\n",
       "    }\n",
       "</style>\n",
       "<table border=\"1\" class=\"dataframe\">\n",
       "  <thead>\n",
       "    <tr style=\"text-align: right;\">\n",
       "      <th></th>\n",
       "      <th>weight</th>\n",
       "      <th>height</th>\n",
       "      <th>mean_step</th>\n",
       "    </tr>\n",
       "  </thead>\n",
       "  <tbody>\n",
       "    <tr>\n",
       "      <th>0</th>\n",
       "      <td>98.0</td>\n",
       "      <td>178.0</td>\n",
       "      <td>10205.521212</td>\n",
       "    </tr>\n",
       "    <tr>\n",
       "      <th>1</th>\n",
       "      <td>77.0</td>\n",
       "      <td>180.0</td>\n",
       "      <td>5687.423313</td>\n",
       "    </tr>\n",
       "    <tr>\n",
       "      <th>2</th>\n",
       "      <td>83.0</td>\n",
       "      <td>180.0</td>\n",
       "      <td>8301.729730</td>\n",
       "    </tr>\n",
       "    <tr>\n",
       "      <th>3</th>\n",
       "      <td>80.0</td>\n",
       "      <td>178.0</td>\n",
       "      <td>3633.200000</td>\n",
       "    </tr>\n",
       "    <tr>\n",
       "      <th>4</th>\n",
       "      <td>61.0</td>\n",
       "      <td>167.0</td>\n",
       "      <td>5312.129630</td>\n",
       "    </tr>\n",
       "  </tbody>\n",
       "</table>\n",
       "</div>"
      ],
      "text/plain": [
       "   weight  height     mean_step\n",
       "0    98.0   178.0  10205.521212\n",
       "1    77.0   180.0   5687.423313\n",
       "2    83.0   180.0   8301.729730\n",
       "3    80.0   178.0   3633.200000\n",
       "4    61.0   167.0   5312.129630"
      ]
     },
     "execution_count": 127,
     "metadata": {},
     "output_type": "execute_result"
    }
   ],
   "source": [
    "p_df = df[['weight','height','mean_step']]\n",
    "p_df = p_df.dropna()\n",
    "p_df.head()"
   ]
  },
  {
   "cell_type": "code",
   "execution_count": 128,
   "id": "ae5846b9",
   "metadata": {},
   "outputs": [
    {
     "data": {
      "text/html": [
       "<div>\n",
       "<style scoped>\n",
       "    .dataframe tbody tr th:only-of-type {\n",
       "        vertical-align: middle;\n",
       "    }\n",
       "\n",
       "    .dataframe tbody tr th {\n",
       "        vertical-align: top;\n",
       "    }\n",
       "\n",
       "    .dataframe thead th {\n",
       "        text-align: right;\n",
       "    }\n",
       "</style>\n",
       "<table border=\"1\" class=\"dataframe\">\n",
       "  <thead>\n",
       "    <tr style=\"text-align: right;\">\n",
       "      <th></th>\n",
       "      <th>gender</th>\n",
       "    </tr>\n",
       "  </thead>\n",
       "  <tbody>\n",
       "    <tr>\n",
       "      <th>0</th>\n",
       "      <td>1</td>\n",
       "    </tr>\n",
       "    <tr>\n",
       "      <th>1</th>\n",
       "      <td>1</td>\n",
       "    </tr>\n",
       "    <tr>\n",
       "      <th>2</th>\n",
       "      <td>1</td>\n",
       "    </tr>\n",
       "    <tr>\n",
       "      <th>3</th>\n",
       "      <td>1</td>\n",
       "    </tr>\n",
       "    <tr>\n",
       "      <th>4</th>\n",
       "      <td>0</td>\n",
       "    </tr>\n",
       "  </tbody>\n",
       "</table>\n",
       "</div>"
      ],
      "text/plain": [
       "   gender\n",
       "0       1\n",
       "1       1\n",
       "2       1\n",
       "3       1\n",
       "4       0"
      ]
     },
     "execution_count": 128,
     "metadata": {},
     "output_type": "execute_result"
    }
   ],
   "source": [
    "dum = pd.get_dummies(df['gender'])\n",
    "# as a requierment for the machine learning model We should take out the 1stcolumn\n",
    "dum = pd.get_dummies(df['gender']).iloc[:,1:]\n",
    "dum.rename(columns={'Male': 'gender'}, inplace=True)\n",
    "dum.head()"
   ]
  },
  {
   "cell_type": "code",
   "execution_count": 129,
   "id": "e871f518",
   "metadata": {},
   "outputs": [
    {
     "data": {
      "text/html": [
       "<div>\n",
       "<style scoped>\n",
       "    .dataframe tbody tr th:only-of-type {\n",
       "        vertical-align: middle;\n",
       "    }\n",
       "\n",
       "    .dataframe tbody tr th {\n",
       "        vertical-align: top;\n",
       "    }\n",
       "\n",
       "    .dataframe thead th {\n",
       "        text-align: right;\n",
       "    }\n",
       "</style>\n",
       "<table border=\"1\" class=\"dataframe\">\n",
       "  <thead>\n",
       "    <tr style=\"text-align: right;\">\n",
       "      <th></th>\n",
       "      <th>weight</th>\n",
       "      <th>height</th>\n",
       "      <th>mean_step</th>\n",
       "      <th>gender</th>\n",
       "    </tr>\n",
       "  </thead>\n",
       "  <tbody>\n",
       "    <tr>\n",
       "      <th>0</th>\n",
       "      <td>98.0</td>\n",
       "      <td>178.0</td>\n",
       "      <td>10205.521212</td>\n",
       "      <td>1</td>\n",
       "    </tr>\n",
       "    <tr>\n",
       "      <th>1</th>\n",
       "      <td>77.0</td>\n",
       "      <td>180.0</td>\n",
       "      <td>5687.423313</td>\n",
       "      <td>1</td>\n",
       "    </tr>\n",
       "    <tr>\n",
       "      <th>2</th>\n",
       "      <td>83.0</td>\n",
       "      <td>180.0</td>\n",
       "      <td>8301.729730</td>\n",
       "      <td>1</td>\n",
       "    </tr>\n",
       "    <tr>\n",
       "      <th>3</th>\n",
       "      <td>80.0</td>\n",
       "      <td>178.0</td>\n",
       "      <td>3633.200000</td>\n",
       "      <td>1</td>\n",
       "    </tr>\n",
       "    <tr>\n",
       "      <th>4</th>\n",
       "      <td>61.0</td>\n",
       "      <td>167.0</td>\n",
       "      <td>5312.129630</td>\n",
       "      <td>0</td>\n",
       "    </tr>\n",
       "  </tbody>\n",
       "</table>\n",
       "</div>"
      ],
      "text/plain": [
       "   weight  height     mean_step  gender\n",
       "0    98.0   178.0  10205.521212       1\n",
       "1    77.0   180.0   5687.423313       1\n",
       "2    83.0   180.0   8301.729730       1\n",
       "3    80.0   178.0   3633.200000       1\n",
       "4    61.0   167.0   5312.129630       0"
      ]
     },
     "execution_count": 129,
     "metadata": {},
     "output_type": "execute_result"
    }
   ],
   "source": [
    "p_df = pd.concat([p_df, dum],axis=1)\n",
    "p_df.head()"
   ]
  },
  {
   "cell_type": "markdown",
   "id": "c6775db0",
   "metadata": {},
   "source": [
    "Fit a linear regression model to predict the mean steps per participant, using the training data. You can include all variables (easy), or you can try to find the combination that gives you the best fit (harder)."
   ]
  },
  {
   "cell_type": "code",
   "execution_count": 130,
   "id": "41d9c6ca",
   "metadata": {},
   "outputs": [
    {
     "data": {
      "text/html": [
       "<div>\n",
       "<style scoped>\n",
       "    .dataframe tbody tr th:only-of-type {\n",
       "        vertical-align: middle;\n",
       "    }\n",
       "\n",
       "    .dataframe tbody tr th {\n",
       "        vertical-align: top;\n",
       "    }\n",
       "\n",
       "    .dataframe thead th {\n",
       "        text-align: right;\n",
       "    }\n",
       "</style>\n",
       "<table border=\"1\" class=\"dataframe\">\n",
       "  <thead>\n",
       "    <tr style=\"text-align: right;\">\n",
       "      <th></th>\n",
       "      <th>weight</th>\n",
       "      <th>height</th>\n",
       "      <th>gender</th>\n",
       "    </tr>\n",
       "  </thead>\n",
       "  <tbody>\n",
       "    <tr>\n",
       "      <th>0</th>\n",
       "      <td>98.0</td>\n",
       "      <td>178.0</td>\n",
       "      <td>1</td>\n",
       "    </tr>\n",
       "    <tr>\n",
       "      <th>1</th>\n",
       "      <td>77.0</td>\n",
       "      <td>180.0</td>\n",
       "      <td>1</td>\n",
       "    </tr>\n",
       "    <tr>\n",
       "      <th>2</th>\n",
       "      <td>83.0</td>\n",
       "      <td>180.0</td>\n",
       "      <td>1</td>\n",
       "    </tr>\n",
       "    <tr>\n",
       "      <th>3</th>\n",
       "      <td>80.0</td>\n",
       "      <td>178.0</td>\n",
       "      <td>1</td>\n",
       "    </tr>\n",
       "    <tr>\n",
       "      <th>4</th>\n",
       "      <td>61.0</td>\n",
       "      <td>167.0</td>\n",
       "      <td>0</td>\n",
       "    </tr>\n",
       "  </tbody>\n",
       "</table>\n",
       "</div>"
      ],
      "text/plain": [
       "   weight  height  gender\n",
       "0    98.0   178.0       1\n",
       "1    77.0   180.0       1\n",
       "2    83.0   180.0       1\n",
       "3    80.0   178.0       1\n",
       "4    61.0   167.0       0"
      ]
     },
     "execution_count": 130,
     "metadata": {},
     "output_type": "execute_result"
    }
   ],
   "source": [
    "y = p_df['mean_step'] #We need to take out the rating as our Y-variable\n",
    "X = p_df[['weight', 'height', 'gender']]\n",
    "X.head()"
   ]
  },
  {
   "cell_type": "markdown",
   "id": "da4a3f22",
   "metadata": {},
   "source": [
    "We now have our X and y, and can start training the model. First, let's split the data into a training set and a test set."
   ]
  },
  {
   "cell_type": "code",
   "execution_count": 131,
   "id": "8b15ffc9",
   "metadata": {},
   "outputs": [
    {
     "data": {
      "text/html": [
       "<div>\n",
       "<style scoped>\n",
       "    .dataframe tbody tr th:only-of-type {\n",
       "        vertical-align: middle;\n",
       "    }\n",
       "\n",
       "    .dataframe tbody tr th {\n",
       "        vertical-align: top;\n",
       "    }\n",
       "\n",
       "    .dataframe thead th {\n",
       "        text-align: right;\n",
       "    }\n",
       "</style>\n",
       "<table border=\"1\" class=\"dataframe\">\n",
       "  <thead>\n",
       "    <tr style=\"text-align: right;\">\n",
       "      <th></th>\n",
       "      <th>weight</th>\n",
       "      <th>height</th>\n",
       "      <th>gender</th>\n",
       "    </tr>\n",
       "  </thead>\n",
       "  <tbody>\n",
       "    <tr>\n",
       "      <th>66</th>\n",
       "      <td>60.0</td>\n",
       "      <td>170.0</td>\n",
       "      <td>0</td>\n",
       "    </tr>\n",
       "    <tr>\n",
       "      <th>742</th>\n",
       "      <td>61.0</td>\n",
       "      <td>170.0</td>\n",
       "      <td>1</td>\n",
       "    </tr>\n",
       "    <tr>\n",
       "      <th>364</th>\n",
       "      <td>68.0</td>\n",
       "      <td>168.0</td>\n",
       "      <td>0</td>\n",
       "    </tr>\n",
       "    <tr>\n",
       "      <th>368</th>\n",
       "      <td>76.0</td>\n",
       "      <td>159.0</td>\n",
       "      <td>0</td>\n",
       "    </tr>\n",
       "    <tr>\n",
       "      <th>803</th>\n",
       "      <td>53.0</td>\n",
       "      <td>160.0</td>\n",
       "      <td>0</td>\n",
       "    </tr>\n",
       "  </tbody>\n",
       "</table>\n",
       "</div>"
      ],
      "text/plain": [
       "     weight  height  gender\n",
       "66     60.0   170.0       0\n",
       "742    61.0   170.0       1\n",
       "364    68.0   168.0       0\n",
       "368    76.0   159.0       0\n",
       "803    53.0   160.0       0"
      ]
     },
     "execution_count": 131,
     "metadata": {},
     "output_type": "execute_result"
    }
   ],
   "source": [
    "X_train, X_test, y_train, y_test = train_test_split(X, y, test_size=0.3, random_state=1) #split the data, store it into different variables\n",
    "X_train.head() #The train data"
   ]
  },
  {
   "cell_type": "code",
   "execution_count": 138,
   "id": "c025fc99",
   "metadata": {},
   "outputs": [],
   "source": [
    "# This solution fixed \n",
    "y_train = np.nan_to_num(y_train)\n",
    "X_train = np.nan_to_num(X_train)\n",
    "# let's train the linear model.\n",
    "lm = LinearRegression() #create the model\n",
    "model = lm.fit(X_train, y_train) #train the model"
   ]
  },
  {
   "cell_type": "code",
   "execution_count": 139,
   "id": "b3027ac2",
   "metadata": {},
   "outputs": [
    {
     "data": {
      "text/html": [
       "<div>\n",
       "<style scoped>\n",
       "    .dataframe tbody tr th:only-of-type {\n",
       "        vertical-align: middle;\n",
       "    }\n",
       "\n",
       "    .dataframe tbody tr th {\n",
       "        vertical-align: top;\n",
       "    }\n",
       "\n",
       "    .dataframe thead th {\n",
       "        text-align: right;\n",
       "    }\n",
       "</style>\n",
       "<table border=\"1\" class=\"dataframe\">\n",
       "  <thead>\n",
       "    <tr style=\"text-align: right;\">\n",
       "      <th></th>\n",
       "      <th>0</th>\n",
       "    </tr>\n",
       "  </thead>\n",
       "  <tbody>\n",
       "    <tr>\n",
       "      <th>-13.327811</th>\n",
       "      <td>weight</td>\n",
       "    </tr>\n",
       "    <tr>\n",
       "      <th>40.423451</th>\n",
       "      <td>height</td>\n",
       "    </tr>\n",
       "    <tr>\n",
       "      <th>-594.210257</th>\n",
       "      <td>gender</td>\n",
       "    </tr>\n",
       "  </tbody>\n",
       "</table>\n",
       "</div>"
      ],
      "text/plain": [
       "                  0\n",
       "-13.327811   weight\n",
       " 40.423451   height\n",
       "-594.210257  gender"
      ]
     },
     "execution_count": 139,
     "metadata": {},
     "output_type": "execute_result"
    }
   ],
   "source": [
    "coef = pd.DataFrame(X.columns.values, lm.coef_) #this creates a df with a column with the column names, and the coefficients of the model\n",
    "coef"
   ]
  },
  {
   "cell_type": "code",
   "execution_count": 142,
   "id": "473f6ea8",
   "metadata": {},
   "outputs": [],
   "source": [
    "# This solution fixed \n",
    "X_test = np.nan_to_num(X_test)\n",
    "\n",
    "y_test_p = lm.predict(X_test) #use built-in predict() method to generate predictions\n"
   ]
  },
  {
   "cell_type": "markdown",
   "id": "cc4173c1",
   "metadata": {},
   "source": [
    "## Evaluation"
   ]
  },
  {
   "cell_type": "code",
   "execution_count": 143,
   "id": "79d26483",
   "metadata": {},
   "outputs": [
    {
     "data": {
      "text/plain": [
       "0.061701357800677537"
      ]
     },
     "execution_count": 143,
     "metadata": {},
     "output_type": "execute_result"
    }
   ],
   "source": [
    "r2_score(y_test, y_test_p)"
   ]
  },
  {
   "cell_type": "code",
   "execution_count": 146,
   "id": "d717484c",
   "metadata": {},
   "outputs": [
    {
     "data": {
      "text/plain": [
       "2892.7892238504496"
      ]
     },
     "execution_count": 146,
     "metadata": {},
     "output_type": "execute_result"
    }
   ],
   "source": [
    "math.sqrt(mean_squared_error(y_test, y_test_p)) #this gives the model fit (R2) for the Y and predicted Y"
   ]
  },
  {
   "cell_type": "code",
   "execution_count": 147,
   "id": "168a45e3",
   "metadata": {},
   "outputs": [
    {
     "data": {
      "image/png": "[encoded data removed]",
      "text/plain": [
       "<Figure size 432x288 with 1 Axes>"
      ]
     },
     "metadata": {
      "needs_background": "light"
     },
     "output_type": "display_data"
    }
   ],
   "source": [
    "sns.scatterplot(x=y_test,y=y_test_p)\n",
    "plt.xlim(0, 20000) #This sets the x-axis limits to (0, 5e10 = 140000000000)\n",
    "plt.ylim(0, 20000) #Ditto for y-axis. I want both axes to have the same length, so we can compare them\n",
    "plt.plot([0, 20000], [0, 20000], color='red', lw=3) #This draws the straight red line, you can leave this out if you wish\n",
    "plt.xlabel('mean_step')\n",
    "plt.ylabel('mean_step (predicted)')\n",
    "plt.show()"
   ]
  },
  {
   "cell_type": "markdown",
   "id": "a8cf579a",
   "metadata": {},
   "source": [
    "After oue evaluation of the model, we observe tha our residuals are not increasing positively or negatively"
   ]
  },
  {
   "cell_type": "markdown",
   "id": "28b86d5f",
   "metadata": {},
   "source": [
    "## Conclusion"
   ]
  },
  {
   "cell_type": "markdown",
   "id": "372558e2",
   "metadata": {},
   "source": [
    "Not the resusuls Iwas expected from this anilysis.\n",
    "Probably, using multiple regression was not the best choise. Nowing that the variables whith higth correlation were known, it could have been combined and give the best fit.\n",
    "exemple:  weight and height."
   ]
  },
  {
   "cell_type": "code",
   "execution_count": null,
   "id": "3f9bb0e3",
   "metadata": {},
   "outputs": [],
   "source": []
  }
 ],
 "metadata": {
  "kernelspec": {
   "display_name": "Python 3 (ipykernel)",
   "language": "python",
   "name": "python3"
  },
  "language_info": {
   "codemirror_mode": {
    "name": "ipython",
    "version": 3
   },
   "file_extension": ".py",
   "mimetype": "text/x-python",
   "name": "python",
   "nbconvert_exporter": "python",
   "pygments_lexer": "ipython3",
   "version": "3.9.7"
  }
 },
 "nbformat": 4,
 "nbformat_minor": 5
}
